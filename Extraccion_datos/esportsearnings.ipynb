{
 "cells": [
  {
   "cell_type": "code",
   "execution_count": 46,
   "metadata": {},
   "outputs": [],
   "source": [
    "import pandas as pd\n",
    "import numpy as np\n",
    "import plotly as pl\n",
    "from plotly.offline import iplot\n",
    "import seaborn as sns\n",
    "import plotly.graph_objs as go\n",
    "import matplotlib.pyplot as plt\n",
    "from sklearn import preprocessing\n",
    "\n",
    "pd.options.display.float_format = '{:.2f}'.format"
   ]
  },
  {
   "cell_type": "code",
   "execution_count": 47,
   "metadata": {},
   "outputs": [
    {
     "data": {
      "text/html": [
       "<div>\n",
       "<style scoped>\n",
       "    .dataframe tbody tr th:only-of-type {\n",
       "        vertical-align: middle;\n",
       "    }\n",
       "\n",
       "    .dataframe tbody tr th {\n",
       "        vertical-align: top;\n",
       "    }\n",
       "\n",
       "    .dataframe thead th {\n",
       "        text-align: right;\n",
       "    }\n",
       "</style>\n",
       "<table border=\"1\" class=\"dataframe\">\n",
       "  <thead>\n",
       "    <tr style=\"text-align: right;\">\n",
       "      <th></th>\n",
       "      <th>Game</th>\n",
       "      <th>ReleaseDate</th>\n",
       "      <th>Genre</th>\n",
       "      <th>TotalEarnings</th>\n",
       "      <th>OfflineEarnings</th>\n",
       "      <th>PercentOffline</th>\n",
       "      <th>TotalPlayers</th>\n",
       "      <th>TotalTournaments</th>\n",
       "    </tr>\n",
       "  </thead>\n",
       "  <tbody>\n",
       "    <tr>\n",
       "      <th>0</th>\n",
       "      <td>Age of Empires</td>\n",
       "      <td>1997</td>\n",
       "      <td>Strategy</td>\n",
       "      <td>510716.46</td>\n",
       "      <td>375857.63</td>\n",
       "      <td>0.74</td>\n",
       "      <td>473</td>\n",
       "      <td>265</td>\n",
       "    </tr>\n",
       "    <tr>\n",
       "      <th>1</th>\n",
       "      <td>Age of Empires II</td>\n",
       "      <td>1999</td>\n",
       "      <td>Strategy</td>\n",
       "      <td>3253232.59</td>\n",
       "      <td>1139384.57</td>\n",
       "      <td>0.35</td>\n",
       "      <td>1994</td>\n",
       "      <td>1613</td>\n",
       "    </tr>\n",
       "    <tr>\n",
       "      <th>2</th>\n",
       "      <td>Age of Empires III</td>\n",
       "      <td>2005</td>\n",
       "      <td>Strategy</td>\n",
       "      <td>115843.65</td>\n",
       "      <td>41800.00</td>\n",
       "      <td>0.36</td>\n",
       "      <td>166</td>\n",
       "      <td>163</td>\n",
       "    </tr>\n",
       "    <tr>\n",
       "      <th>3</th>\n",
       "      <td>Age of Empires IV</td>\n",
       "      <td>2021</td>\n",
       "      <td>Strategy</td>\n",
       "      <td>994675.03</td>\n",
       "      <td>409117.93</td>\n",
       "      <td>0.41</td>\n",
       "      <td>542</td>\n",
       "      <td>327</td>\n",
       "    </tr>\n",
       "    <tr>\n",
       "      <th>4</th>\n",
       "      <td>Age of Empires Online</td>\n",
       "      <td>2011</td>\n",
       "      <td>Strategy</td>\n",
       "      <td>9806.56</td>\n",
       "      <td>775.00</td>\n",
       "      <td>0.08</td>\n",
       "      <td>44</td>\n",
       "      <td>50</td>\n",
       "    </tr>\n",
       "  </tbody>\n",
       "</table>\n",
       "</div>"
      ],
      "text/plain": [
       "                    Game  ReleaseDate     Genre  TotalEarnings  \\\n",
       "0         Age of Empires         1997  Strategy      510716.46   \n",
       "1      Age of Empires II         1999  Strategy     3253232.59   \n",
       "2     Age of Empires III         2005  Strategy      115843.65   \n",
       "3      Age of Empires IV         2021  Strategy      994675.03   \n",
       "4  Age of Empires Online         2011  Strategy        9806.56   \n",
       "\n",
       "   OfflineEarnings  PercentOffline  TotalPlayers  TotalTournaments  \n",
       "0        375857.63            0.74           473               265  \n",
       "1       1139384.57            0.35          1994              1613  \n",
       "2         41800.00            0.36           166               163  \n",
       "3        409117.93            0.41           542               327  \n",
       "4           775.00            0.08            44                50  "
      ]
     },
     "execution_count": 47,
     "metadata": {},
     "output_type": "execute_result"
    }
   ],
   "source": [
    "df_esports_general = pd.read_csv('data\\GeneralEsportData.csv')\n",
    "df_esports_general.head()"
   ]
  },
  {
   "cell_type": "code",
   "execution_count": 48,
   "metadata": {},
   "outputs": [
    {
     "data": {
      "text/html": [
       "<div>\n",
       "<style scoped>\n",
       "    .dataframe tbody tr th:only-of-type {\n",
       "        vertical-align: middle;\n",
       "    }\n",
       "\n",
       "    .dataframe tbody tr th {\n",
       "        vertical-align: top;\n",
       "    }\n",
       "\n",
       "    .dataframe thead th {\n",
       "        text-align: right;\n",
       "    }\n",
       "</style>\n",
       "<table border=\"1\" class=\"dataframe\">\n",
       "  <thead>\n",
       "    <tr style=\"text-align: right;\">\n",
       "      <th></th>\n",
       "      <th>Date</th>\n",
       "      <th>Game</th>\n",
       "      <th>Earnings</th>\n",
       "      <th>Players</th>\n",
       "      <th>Tournaments</th>\n",
       "    </tr>\n",
       "  </thead>\n",
       "  <tbody>\n",
       "    <tr>\n",
       "      <th>0</th>\n",
       "      <td>1998-01-01</td>\n",
       "      <td>Command &amp; Conquer: Red Alert</td>\n",
       "      <td>15000.00</td>\n",
       "      <td>8</td>\n",
       "      <td>1</td>\n",
       "    </tr>\n",
       "    <tr>\n",
       "      <th>1</th>\n",
       "      <td>1998-01-01</td>\n",
       "      <td>QuakeWorld</td>\n",
       "      <td>15000.00</td>\n",
       "      <td>8</td>\n",
       "      <td>1</td>\n",
       "    </tr>\n",
       "    <tr>\n",
       "      <th>2</th>\n",
       "      <td>1998-05-01</td>\n",
       "      <td>Quake II</td>\n",
       "      <td>15000.00</td>\n",
       "      <td>4</td>\n",
       "      <td>1</td>\n",
       "    </tr>\n",
       "    <tr>\n",
       "      <th>3</th>\n",
       "      <td>1998-05-01</td>\n",
       "      <td>Total Annihilation</td>\n",
       "      <td>15000.00</td>\n",
       "      <td>2</td>\n",
       "      <td>1</td>\n",
       "    </tr>\n",
       "    <tr>\n",
       "      <th>4</th>\n",
       "      <td>1998-05-01</td>\n",
       "      <td>QuakeWorld</td>\n",
       "      <td>300.00</td>\n",
       "      <td>3</td>\n",
       "      <td>1</td>\n",
       "    </tr>\n",
       "  </tbody>\n",
       "</table>\n",
       "</div>"
      ],
      "text/plain": [
       "         Date                          Game  Earnings  Players  Tournaments\n",
       "0  1998-01-01  Command & Conquer: Red Alert  15000.00        8            1\n",
       "1  1998-01-01                    QuakeWorld  15000.00        8            1\n",
       "2  1998-05-01                      Quake II  15000.00        4            1\n",
       "3  1998-05-01            Total Annihilation  15000.00        2            1\n",
       "4  1998-05-01                    QuakeWorld    300.00        3            1"
      ]
     },
     "execution_count": 48,
     "metadata": {},
     "output_type": "execute_result"
    }
   ],
   "source": [
    "df_esports_hist = pd.read_csv('data\\HistoricalEsportData.csv')\n",
    "df_esports_hist.head()"
   ]
  },
  {
   "cell_type": "code",
   "execution_count": 49,
   "metadata": {},
   "outputs": [
    {
     "data": {
      "text/html": [
       "<div>\n",
       "<style scoped>\n",
       "    .dataframe tbody tr th:only-of-type {\n",
       "        vertical-align: middle;\n",
       "    }\n",
       "\n",
       "    .dataframe tbody tr th {\n",
       "        vertical-align: top;\n",
       "    }\n",
       "\n",
       "    .dataframe thead th {\n",
       "        text-align: right;\n",
       "    }\n",
       "</style>\n",
       "<table border=\"1\" class=\"dataframe\">\n",
       "  <thead>\n",
       "    <tr style=\"text-align: right;\">\n",
       "      <th></th>\n",
       "      <th>Game</th>\n",
       "      <th>ReleaseDate</th>\n",
       "      <th>Genre</th>\n",
       "      <th>TotalEarnings</th>\n",
       "      <th>OfflineEarnings</th>\n",
       "      <th>PercentOffline</th>\n",
       "      <th>TotalPlayers</th>\n",
       "      <th>TotalTournaments</th>\n",
       "    </tr>\n",
       "  </thead>\n",
       "  <tbody>\n",
       "    <tr>\n",
       "      <th>208</th>\n",
       "      <td>Dota 2</td>\n",
       "      <td>2013</td>\n",
       "      <td>Multiplayer Online Battle Arena</td>\n",
       "      <td>337107974.16</td>\n",
       "      <td>298290573.89</td>\n",
       "      <td>0.88</td>\n",
       "      <td>4784</td>\n",
       "      <td>1841</td>\n",
       "    </tr>\n",
       "    <tr>\n",
       "      <th>621</th>\n",
       "      <td>Fortnite</td>\n",
       "      <td>2017</td>\n",
       "      <td>Battle Royale</td>\n",
       "      <td>169935795.99</td>\n",
       "      <td>48728256.19</td>\n",
       "      <td>0.29</td>\n",
       "      <td>7819</td>\n",
       "      <td>1735</td>\n",
       "    </tr>\n",
       "    <tr>\n",
       "      <th>110</th>\n",
       "      <td>Counter-Strike: Global Offensive</td>\n",
       "      <td>2012</td>\n",
       "      <td>First-Person Shooter</td>\n",
       "      <td>161615824.69</td>\n",
       "      <td>105053084.68</td>\n",
       "      <td>0.65</td>\n",
       "      <td>16272</td>\n",
       "      <td>6886</td>\n",
       "    </tr>\n",
       "    <tr>\n",
       "      <th>214</th>\n",
       "      <td>League of Legends</td>\n",
       "      <td>2009</td>\n",
       "      <td>Multiplayer Online Battle Arena</td>\n",
       "      <td>105011055.56</td>\n",
       "      <td>90815673.41</td>\n",
       "      <td>0.86</td>\n",
       "      <td>9211</td>\n",
       "      <td>2895</td>\n",
       "    </tr>\n",
       "    <tr>\n",
       "      <th>200</th>\n",
       "      <td>Arena of Valor</td>\n",
       "      <td>2015</td>\n",
       "      <td>Multiplayer Online Battle Arena</td>\n",
       "      <td>77920901.06</td>\n",
       "      <td>73831635.30</td>\n",
       "      <td>0.95</td>\n",
       "      <td>1986</td>\n",
       "      <td>156</td>\n",
       "    </tr>\n",
       "  </tbody>\n",
       "</table>\n",
       "</div>"
      ],
      "text/plain": [
       "                                 Game  ReleaseDate  \\\n",
       "208                            Dota 2         2013   \n",
       "621                          Fortnite         2017   \n",
       "110  Counter-Strike: Global Offensive         2012   \n",
       "214                 League of Legends         2009   \n",
       "200                    Arena of Valor         2015   \n",
       "\n",
       "                               Genre  TotalEarnings  OfflineEarnings  \\\n",
       "208  Multiplayer Online Battle Arena   337107974.16     298290573.89   \n",
       "621                    Battle Royale   169935795.99      48728256.19   \n",
       "110             First-Person Shooter   161615824.69     105053084.68   \n",
       "214  Multiplayer Online Battle Arena   105011055.56      90815673.41   \n",
       "200  Multiplayer Online Battle Arena    77920901.06      73831635.30   \n",
       "\n",
       "     PercentOffline  TotalPlayers  TotalTournaments  \n",
       "208            0.88          4784              1841  \n",
       "621            0.29          7819              1735  \n",
       "110            0.65         16272              6886  \n",
       "214            0.86          9211              2895  \n",
       "200            0.95          1986               156  "
      ]
     },
     "execution_count": 49,
     "metadata": {},
     "output_type": "execute_result"
    }
   ],
   "source": [
    "df_esports_general = df_esports_general[df_esports_general['TotalEarnings']>0]\n",
    "df_esports_general.sort_values('TotalEarnings',ascending=False,inplace=True)\n",
    "df_esports_general.head()"
   ]
  },
  {
   "cell_type": "code",
   "execution_count": 50,
   "metadata": {},
   "outputs": [
    {
     "data": {
      "text/html": [
       "<div>\n",
       "<style scoped>\n",
       "    .dataframe tbody tr th:only-of-type {\n",
       "        vertical-align: middle;\n",
       "    }\n",
       "\n",
       "    .dataframe tbody tr th {\n",
       "        vertical-align: top;\n",
       "    }\n",
       "\n",
       "    .dataframe thead th {\n",
       "        text-align: right;\n",
       "    }\n",
       "</style>\n",
       "<table border=\"1\" class=\"dataframe\">\n",
       "  <thead>\n",
       "    <tr style=\"text-align: right;\">\n",
       "      <th></th>\n",
       "      <th>Date</th>\n",
       "      <th>Game</th>\n",
       "      <th>Earnings</th>\n",
       "      <th>Players</th>\n",
       "      <th>Tournaments</th>\n",
       "    </tr>\n",
       "  </thead>\n",
       "  <tbody>\n",
       "    <tr>\n",
       "      <th>0</th>\n",
       "      <td>1998-01-01</td>\n",
       "      <td>Command &amp; Conquer: Red Alert</td>\n",
       "      <td>15000.00</td>\n",
       "      <td>8</td>\n",
       "      <td>1</td>\n",
       "    </tr>\n",
       "    <tr>\n",
       "      <th>1</th>\n",
       "      <td>1998-01-01</td>\n",
       "      <td>QuakeWorld</td>\n",
       "      <td>15000.00</td>\n",
       "      <td>8</td>\n",
       "      <td>1</td>\n",
       "    </tr>\n",
       "    <tr>\n",
       "      <th>2</th>\n",
       "      <td>1998-05-01</td>\n",
       "      <td>Quake II</td>\n",
       "      <td>15000.00</td>\n",
       "      <td>4</td>\n",
       "      <td>1</td>\n",
       "    </tr>\n",
       "    <tr>\n",
       "      <th>3</th>\n",
       "      <td>1998-05-01</td>\n",
       "      <td>Total Annihilation</td>\n",
       "      <td>15000.00</td>\n",
       "      <td>2</td>\n",
       "      <td>1</td>\n",
       "    </tr>\n",
       "    <tr>\n",
       "      <th>4</th>\n",
       "      <td>1998-05-01</td>\n",
       "      <td>QuakeWorld</td>\n",
       "      <td>300.00</td>\n",
       "      <td>3</td>\n",
       "      <td>1</td>\n",
       "    </tr>\n",
       "  </tbody>\n",
       "</table>\n",
       "</div>"
      ],
      "text/plain": [
       "         Date                          Game  Earnings  Players  Tournaments\n",
       "0  1998-01-01  Command & Conquer: Red Alert  15000.00        8            1\n",
       "1  1998-01-01                    QuakeWorld  15000.00        8            1\n",
       "2  1998-05-01                      Quake II  15000.00        4            1\n",
       "3  1998-05-01            Total Annihilation  15000.00        2            1\n",
       "4  1998-05-01                    QuakeWorld    300.00        3            1"
      ]
     },
     "execution_count": 50,
     "metadata": {},
     "output_type": "execute_result"
    }
   ],
   "source": [
    "df_esports_hist = df_esports_hist[df_esports_hist['Game'].isin(df_esports_general['Game'])]\n",
    "df_esports_hist.head()"
   ]
  },
  {
   "cell_type": "code",
   "execution_count": 51,
   "metadata": {},
   "outputs": [
    {
     "data": {
      "text/html": [
       "<div>\n",
       "<style scoped>\n",
       "    .dataframe tbody tr th:only-of-type {\n",
       "        vertical-align: middle;\n",
       "    }\n",
       "\n",
       "    .dataframe tbody tr th {\n",
       "        vertical-align: top;\n",
       "    }\n",
       "\n",
       "    .dataframe thead th {\n",
       "        text-align: right;\n",
       "    }\n",
       "</style>\n",
       "<table border=\"1\" class=\"dataframe\">\n",
       "  <thead>\n",
       "    <tr style=\"text-align: right;\">\n",
       "      <th></th>\n",
       "      <th>Date</th>\n",
       "      <th>Game</th>\n",
       "      <th>Earnings</th>\n",
       "      <th>Players</th>\n",
       "      <th>Tournaments</th>\n",
       "      <th>Genre</th>\n",
       "    </tr>\n",
       "  </thead>\n",
       "  <tbody>\n",
       "    <tr>\n",
       "      <th>0</th>\n",
       "      <td>2017-07-01</td>\n",
       "      <td>ARMS</td>\n",
       "      <td>1195.00</td>\n",
       "      <td>17</td>\n",
       "      <td>5</td>\n",
       "      <td>Fighting Game</td>\n",
       "    </tr>\n",
       "    <tr>\n",
       "      <th>1</th>\n",
       "      <td>2017-08-01</td>\n",
       "      <td>ARMS</td>\n",
       "      <td>91.00</td>\n",
       "      <td>5</td>\n",
       "      <td>2</td>\n",
       "      <td>Fighting Game</td>\n",
       "    </tr>\n",
       "    <tr>\n",
       "      <th>2</th>\n",
       "      <td>2017-09-01</td>\n",
       "      <td>ARMS</td>\n",
       "      <td>50.00</td>\n",
       "      <td>4</td>\n",
       "      <td>3</td>\n",
       "      <td>Fighting Game</td>\n",
       "    </tr>\n",
       "    <tr>\n",
       "      <th>3</th>\n",
       "      <td>2017-10-01</td>\n",
       "      <td>ARMS</td>\n",
       "      <td>261.00</td>\n",
       "      <td>3</td>\n",
       "      <td>2</td>\n",
       "      <td>Fighting Game</td>\n",
       "    </tr>\n",
       "    <tr>\n",
       "      <th>4</th>\n",
       "      <td>2017-11-01</td>\n",
       "      <td>ARMS</td>\n",
       "      <td>695.00</td>\n",
       "      <td>9</td>\n",
       "      <td>4</td>\n",
       "      <td>Fighting Game</td>\n",
       "    </tr>\n",
       "    <tr>\n",
       "      <th>...</th>\n",
       "      <td>...</td>\n",
       "      <td>...</td>\n",
       "      <td>...</td>\n",
       "      <td>...</td>\n",
       "      <td>...</td>\n",
       "      <td>...</td>\n",
       "    </tr>\n",
       "    <tr>\n",
       "      <th>9215</th>\n",
       "      <td>2022-07-01</td>\n",
       "      <td>rFactor 2</td>\n",
       "      <td>103239.47</td>\n",
       "      <td>46</td>\n",
       "      <td>3</td>\n",
       "      <td>Racing</td>\n",
       "    </tr>\n",
       "    <tr>\n",
       "      <th>9216</th>\n",
       "      <td>2022-08-01</td>\n",
       "      <td>rFactor 2</td>\n",
       "      <td>167.78</td>\n",
       "      <td>20</td>\n",
       "      <td>1</td>\n",
       "      <td>Racing</td>\n",
       "    </tr>\n",
       "    <tr>\n",
       "      <th>9217</th>\n",
       "      <td>2022-09-01</td>\n",
       "      <td>rFactor 2</td>\n",
       "      <td>9960.00</td>\n",
       "      <td>8</td>\n",
       "      <td>1</td>\n",
       "      <td>Racing</td>\n",
       "    </tr>\n",
       "    <tr>\n",
       "      <th>9218</th>\n",
       "      <td>2022-11-01</td>\n",
       "      <td>rFactor 2</td>\n",
       "      <td>5123.56</td>\n",
       "      <td>29</td>\n",
       "      <td>2</td>\n",
       "      <td>Racing</td>\n",
       "    </tr>\n",
       "    <tr>\n",
       "      <th>9219</th>\n",
       "      <td>2023-01-01</td>\n",
       "      <td>rFactor 2</td>\n",
       "      <td>260800.00</td>\n",
       "      <td>136</td>\n",
       "      <td>5</td>\n",
       "      <td>Racing</td>\n",
       "    </tr>\n",
       "  </tbody>\n",
       "</table>\n",
       "<p>9220 rows × 6 columns</p>\n",
       "</div>"
      ],
      "text/plain": [
       "            Date       Game  Earnings  Players  Tournaments          Genre\n",
       "0     2017-07-01       ARMS   1195.00       17            5  Fighting Game\n",
       "1     2017-08-01       ARMS     91.00        5            2  Fighting Game\n",
       "2     2017-09-01       ARMS     50.00        4            3  Fighting Game\n",
       "3     2017-10-01       ARMS    261.00        3            2  Fighting Game\n",
       "4     2017-11-01       ARMS    695.00        9            4  Fighting Game\n",
       "...          ...        ...       ...      ...          ...            ...\n",
       "9215  2022-07-01  rFactor 2 103239.47       46            3         Racing\n",
       "9216  2022-08-01  rFactor 2    167.78       20            1         Racing\n",
       "9217  2022-09-01  rFactor 2   9960.00        8            1         Racing\n",
       "9218  2022-11-01  rFactor 2   5123.56       29            2         Racing\n",
       "9219  2023-01-01  rFactor 2 260800.00      136            5         Racing\n",
       "\n",
       "[9220 rows x 6 columns]"
      ]
     },
     "execution_count": 51,
     "metadata": {},
     "output_type": "execute_result"
    }
   ],
   "source": [
    "df_hist_genero = pd.merge(df_esports_hist,df_esports_general[['Game','Genre']],how='outer',on='Game')\n",
    "df_hist_genero"
   ]
  },
  {
   "cell_type": "code",
   "execution_count": 52,
   "metadata": {},
   "outputs": [
    {
     "name": "stderr",
     "output_type": "stream",
     "text": [
      "C:\\Users\\ekait\\AppData\\Local\\Temp\\ipykernel_9544\\1984424647.py:2: SettingWithCopyWarning:\n",
      "\n",
      "\n",
      "A value is trying to be set on a copy of a slice from a DataFrame.\n",
      "Try using .loc[row_indexer,col_indexer] = value instead\n",
      "\n",
      "See the caveats in the documentation: https://pandas.pydata.org/pandas-docs/stable/user_guide/indexing.html#returning-a-view-versus-a-copy\n",
      "\n"
     ]
    },
    {
     "data": {
      "text/html": [
       "<div>\n",
       "<style scoped>\n",
       "    .dataframe tbody tr th:only-of-type {\n",
       "        vertical-align: middle;\n",
       "    }\n",
       "\n",
       "    .dataframe tbody tr th {\n",
       "        vertical-align: top;\n",
       "    }\n",
       "\n",
       "    .dataframe thead th {\n",
       "        text-align: right;\n",
       "    }\n",
       "</style>\n",
       "<table border=\"1\" class=\"dataframe\">\n",
       "  <thead>\n",
       "    <tr style=\"text-align: right;\">\n",
       "      <th></th>\n",
       "      <th>Date</th>\n",
       "      <th>Earnings</th>\n",
       "      <th>Players</th>\n",
       "      <th>Tournaments</th>\n",
       "    </tr>\n",
       "  </thead>\n",
       "  <tbody>\n",
       "    <tr>\n",
       "      <th>0</th>\n",
       "      <td>1998</td>\n",
       "      <td>153800.00</td>\n",
       "      <td>68</td>\n",
       "      <td>11</td>\n",
       "    </tr>\n",
       "    <tr>\n",
       "      <th>1</th>\n",
       "      <td>1999</td>\n",
       "      <td>285319.12</td>\n",
       "      <td>81</td>\n",
       "      <td>16</td>\n",
       "    </tr>\n",
       "    <tr>\n",
       "      <th>2</th>\n",
       "      <td>2000</td>\n",
       "      <td>769783.48</td>\n",
       "      <td>350</td>\n",
       "      <td>65</td>\n",
       "    </tr>\n",
       "    <tr>\n",
       "      <th>3</th>\n",
       "      <td>2001</td>\n",
       "      <td>940232.48</td>\n",
       "      <td>589</td>\n",
       "      <td>65</td>\n",
       "    </tr>\n",
       "    <tr>\n",
       "      <th>4</th>\n",
       "      <td>2002</td>\n",
       "      <td>1037355.15</td>\n",
       "      <td>815</td>\n",
       "      <td>87</td>\n",
       "    </tr>\n",
       "    <tr>\n",
       "      <th>5</th>\n",
       "      <td>2003</td>\n",
       "      <td>1950276.28</td>\n",
       "      <td>1599</td>\n",
       "      <td>203</td>\n",
       "    </tr>\n",
       "    <tr>\n",
       "      <th>6</th>\n",
       "      <td>2004</td>\n",
       "      <td>3068007.25</td>\n",
       "      <td>2603</td>\n",
       "      <td>299</td>\n",
       "    </tr>\n",
       "    <tr>\n",
       "      <th>7</th>\n",
       "      <td>2005</td>\n",
       "      <td>4405554.68</td>\n",
       "      <td>2987</td>\n",
       "      <td>383</td>\n",
       "    </tr>\n",
       "    <tr>\n",
       "      <th>8</th>\n",
       "      <td>2006</td>\n",
       "      <td>5783430.51</td>\n",
       "      <td>4008</td>\n",
       "      <td>448</td>\n",
       "    </tr>\n",
       "    <tr>\n",
       "      <th>9</th>\n",
       "      <td>2007</td>\n",
       "      <td>7599253.86</td>\n",
       "      <td>4681</td>\n",
       "      <td>566</td>\n",
       "    </tr>\n",
       "    <tr>\n",
       "      <th>10</th>\n",
       "      <td>2008</td>\n",
       "      <td>7690218.37</td>\n",
       "      <td>4778</td>\n",
       "      <td>569</td>\n",
       "    </tr>\n",
       "    <tr>\n",
       "      <th>11</th>\n",
       "      <td>2009</td>\n",
       "      <td>4221584.02</td>\n",
       "      <td>4968</td>\n",
       "      <td>676</td>\n",
       "    </tr>\n",
       "    <tr>\n",
       "      <th>12</th>\n",
       "      <td>2010</td>\n",
       "      <td>6372645.01</td>\n",
       "      <td>6209</td>\n",
       "      <td>1011</td>\n",
       "    </tr>\n",
       "    <tr>\n",
       "      <th>13</th>\n",
       "      <td>2011</td>\n",
       "      <td>10642085.89</td>\n",
       "      <td>7634</td>\n",
       "      <td>1697</td>\n",
       "    </tr>\n",
       "    <tr>\n",
       "      <th>14</th>\n",
       "      <td>2012</td>\n",
       "      <td>14567923.05</td>\n",
       "      <td>10590</td>\n",
       "      <td>2022</td>\n",
       "    </tr>\n",
       "    <tr>\n",
       "      <th>15</th>\n",
       "      <td>2013</td>\n",
       "      <td>22816358.67</td>\n",
       "      <td>13342</td>\n",
       "      <td>2349</td>\n",
       "    </tr>\n",
       "    <tr>\n",
       "      <th>16</th>\n",
       "      <td>2014</td>\n",
       "      <td>38170943.91</td>\n",
       "      <td>17985</td>\n",
       "      <td>3182</td>\n",
       "    </tr>\n",
       "    <tr>\n",
       "      <th>17</th>\n",
       "      <td>2015</td>\n",
       "      <td>68039857.28</td>\n",
       "      <td>31068</td>\n",
       "      <td>5314</td>\n",
       "    </tr>\n",
       "    <tr>\n",
       "      <th>18</th>\n",
       "      <td>2016</td>\n",
       "      <td>99664107.21</td>\n",
       "      <td>34750</td>\n",
       "      <td>4936</td>\n",
       "    </tr>\n",
       "    <tr>\n",
       "      <th>19</th>\n",
       "      <td>2017</td>\n",
       "      <td>119997090.87</td>\n",
       "      <td>41188</td>\n",
       "      <td>5138</td>\n",
       "    </tr>\n",
       "    <tr>\n",
       "      <th>20</th>\n",
       "      <td>2018</td>\n",
       "      <td>171038271.90</td>\n",
       "      <td>49386</td>\n",
       "      <td>5095</td>\n",
       "    </tr>\n",
       "    <tr>\n",
       "      <th>21</th>\n",
       "      <td>2019</td>\n",
       "      <td>254382803.88</td>\n",
       "      <td>64045</td>\n",
       "      <td>6323</td>\n",
       "    </tr>\n",
       "    <tr>\n",
       "      <th>22</th>\n",
       "      <td>2020</td>\n",
       "      <td>147283104.89</td>\n",
       "      <td>65186</td>\n",
       "      <td>5921</td>\n",
       "    </tr>\n",
       "    <tr>\n",
       "      <th>23</th>\n",
       "      <td>2021</td>\n",
       "      <td>256346827.90</td>\n",
       "      <td>72878</td>\n",
       "      <td>6197</td>\n",
       "    </tr>\n",
       "    <tr>\n",
       "      <th>24</th>\n",
       "      <td>2022</td>\n",
       "      <td>256312726.33</td>\n",
       "      <td>69164</td>\n",
       "      <td>5734</td>\n",
       "    </tr>\n",
       "    <tr>\n",
       "      <th>25</th>\n",
       "      <td>2023</td>\n",
       "      <td>157192028.96</td>\n",
       "      <td>40997</td>\n",
       "      <td>2989</td>\n",
       "    </tr>\n",
       "  </tbody>\n",
       "</table>\n",
       "</div>"
      ],
      "text/plain": [
       "    Date     Earnings  Players  Tournaments\n",
       "0   1998    153800.00       68           11\n",
       "1   1999    285319.12       81           16\n",
       "2   2000    769783.48      350           65\n",
       "3   2001    940232.48      589           65\n",
       "4   2002   1037355.15      815           87\n",
       "5   2003   1950276.28     1599          203\n",
       "6   2004   3068007.25     2603          299\n",
       "7   2005   4405554.68     2987          383\n",
       "8   2006   5783430.51     4008          448\n",
       "9   2007   7599253.86     4681          566\n",
       "10  2008   7690218.37     4778          569\n",
       "11  2009   4221584.02     4968          676\n",
       "12  2010   6372645.01     6209         1011\n",
       "13  2011  10642085.89     7634         1697\n",
       "14  2012  14567923.05    10590         2022\n",
       "15  2013  22816358.67    13342         2349\n",
       "16  2014  38170943.91    17985         3182\n",
       "17  2015  68039857.28    31068         5314\n",
       "18  2016  99664107.21    34750         4936\n",
       "19  2017 119997090.87    41188         5138\n",
       "20  2018 171038271.90    49386         5095\n",
       "21  2019 254382803.88    64045         6323\n",
       "22  2020 147283104.89    65186         5921\n",
       "23  2021 256346827.90    72878         6197\n",
       "24  2022 256312726.33    69164         5734\n",
       "25  2023 157192028.96    40997         2989"
      ]
     },
     "execution_count": 52,
     "metadata": {},
     "output_type": "execute_result"
    }
   ],
   "source": [
    "df_hist_anual = df_esports_hist[['Date','Earnings','Players','Tournaments']]\n",
    "df_hist_anual['Date'] = df_hist_anual['Date'].str[:4]\n",
    "df_hist_anual = df_hist_anual.groupby('Date',as_index=False).sum()\n",
    "df_hist_anual\n"
   ]
  },
  {
   "cell_type": "code",
   "execution_count": 53,
   "metadata": {},
   "outputs": [
    {
     "data": {
      "text/plain": [
       "array([[-0.73165211, -0.8657498 , -1.00786675],\n",
       "       [-0.73014198, -0.86521794, -1.00571919],\n",
       "       [-0.72457926, -0.85421237, -0.98467309],\n",
       "       [-0.72262213, -0.84443419, -0.98467309],\n",
       "       [-0.72150695, -0.83518787, -0.97522383],\n",
       "       [-0.7110246 , -0.80311217, -0.92540042],\n",
       "       [-0.69819057, -0.76203563, -0.88416725],\n",
       "       [-0.68283257, -0.74632508, -0.84808823],\n",
       "       [-0.66701151, -0.70455302, -0.82016995],\n",
       "       [-0.64616184, -0.67701864, -0.76948751],\n",
       "       [-0.64511737, -0.67305009, -0.76819898],\n",
       "       [-0.68494496, -0.66527664, -0.72224118],\n",
       "       [-0.66024603, -0.61450374, -0.57835461],\n",
       "       [-0.61122341, -0.55620288, -0.28370929],\n",
       "       [-0.56614612, -0.43526437, -0.14411784],\n",
       "       [-0.47143584, -0.3226721 , -0.00366737],\n",
       "       [-0.29513126, -0.13271355,  0.35411624],\n",
       "       [ 0.0478299 ,  0.4025498 ,  1.26983611],\n",
       "       [ 0.4109462 ,  0.55319106,  1.10748053],\n",
       "       [ 0.6444138 ,  0.81658824,  1.19424198],\n",
       "       [ 1.2304794 ,  1.15199212,  1.17577296],\n",
       "       [ 2.18745887,  1.75173418,  1.70321386],\n",
       "       [ 0.95771756,  1.79841578,  1.53054998],\n",
       "       [ 2.21001021,  2.11311774,  1.64909533],\n",
       "       [ 2.20961865,  1.96116726,  1.45023121],\n",
       "       [ 1.07149392,  0.80877388,  0.27122039]])"
      ]
     },
     "execution_count": 53,
     "metadata": {},
     "output_type": "execute_result"
    }
   ],
   "source": [
    "std_scale = preprocessing.StandardScaler().fit(df_hist_anual[['Earnings','Players','Tournaments']])\n",
    "df_std = std_scale.transform(df_hist_anual[['Earnings','Players','Tournaments']])\n",
    "df_std\n"
   ]
  },
  {
   "cell_type": "code",
   "execution_count": 54,
   "metadata": {},
   "outputs": [
    {
     "data": {
      "text/html": [
       "<div>\n",
       "<style scoped>\n",
       "    .dataframe tbody tr th:only-of-type {\n",
       "        vertical-align: middle;\n",
       "    }\n",
       "\n",
       "    .dataframe tbody tr th {\n",
       "        vertical-align: top;\n",
       "    }\n",
       "\n",
       "    .dataframe thead th {\n",
       "        text-align: right;\n",
       "    }\n",
       "</style>\n",
       "<table border=\"1\" class=\"dataframe\">\n",
       "  <thead>\n",
       "    <tr style=\"text-align: right;\">\n",
       "      <th></th>\n",
       "      <th>Date</th>\n",
       "      <th>Earnings</th>\n",
       "      <th>Players</th>\n",
       "      <th>Tournaments</th>\n",
       "    </tr>\n",
       "  </thead>\n",
       "  <tbody>\n",
       "    <tr>\n",
       "      <th>0</th>\n",
       "      <td>1998</td>\n",
       "      <td>-0.73</td>\n",
       "      <td>-0.87</td>\n",
       "      <td>-1.01</td>\n",
       "    </tr>\n",
       "    <tr>\n",
       "      <th>1</th>\n",
       "      <td>1999</td>\n",
       "      <td>-0.73</td>\n",
       "      <td>-0.87</td>\n",
       "      <td>-1.01</td>\n",
       "    </tr>\n",
       "    <tr>\n",
       "      <th>2</th>\n",
       "      <td>2000</td>\n",
       "      <td>-0.72</td>\n",
       "      <td>-0.85</td>\n",
       "      <td>-0.98</td>\n",
       "    </tr>\n",
       "    <tr>\n",
       "      <th>3</th>\n",
       "      <td>2001</td>\n",
       "      <td>-0.72</td>\n",
       "      <td>-0.84</td>\n",
       "      <td>-0.98</td>\n",
       "    </tr>\n",
       "    <tr>\n",
       "      <th>4</th>\n",
       "      <td>2002</td>\n",
       "      <td>-0.72</td>\n",
       "      <td>-0.84</td>\n",
       "      <td>-0.98</td>\n",
       "    </tr>\n",
       "    <tr>\n",
       "      <th>5</th>\n",
       "      <td>2003</td>\n",
       "      <td>-0.71</td>\n",
       "      <td>-0.80</td>\n",
       "      <td>-0.93</td>\n",
       "    </tr>\n",
       "    <tr>\n",
       "      <th>6</th>\n",
       "      <td>2004</td>\n",
       "      <td>-0.70</td>\n",
       "      <td>-0.76</td>\n",
       "      <td>-0.88</td>\n",
       "    </tr>\n",
       "    <tr>\n",
       "      <th>7</th>\n",
       "      <td>2005</td>\n",
       "      <td>-0.68</td>\n",
       "      <td>-0.75</td>\n",
       "      <td>-0.85</td>\n",
       "    </tr>\n",
       "    <tr>\n",
       "      <th>8</th>\n",
       "      <td>2006</td>\n",
       "      <td>-0.67</td>\n",
       "      <td>-0.70</td>\n",
       "      <td>-0.82</td>\n",
       "    </tr>\n",
       "    <tr>\n",
       "      <th>9</th>\n",
       "      <td>2007</td>\n",
       "      <td>-0.65</td>\n",
       "      <td>-0.68</td>\n",
       "      <td>-0.77</td>\n",
       "    </tr>\n",
       "    <tr>\n",
       "      <th>10</th>\n",
       "      <td>2008</td>\n",
       "      <td>-0.65</td>\n",
       "      <td>-0.67</td>\n",
       "      <td>-0.77</td>\n",
       "    </tr>\n",
       "    <tr>\n",
       "      <th>11</th>\n",
       "      <td>2009</td>\n",
       "      <td>-0.68</td>\n",
       "      <td>-0.67</td>\n",
       "      <td>-0.72</td>\n",
       "    </tr>\n",
       "    <tr>\n",
       "      <th>12</th>\n",
       "      <td>2010</td>\n",
       "      <td>-0.66</td>\n",
       "      <td>-0.61</td>\n",
       "      <td>-0.58</td>\n",
       "    </tr>\n",
       "    <tr>\n",
       "      <th>13</th>\n",
       "      <td>2011</td>\n",
       "      <td>-0.61</td>\n",
       "      <td>-0.56</td>\n",
       "      <td>-0.28</td>\n",
       "    </tr>\n",
       "    <tr>\n",
       "      <th>14</th>\n",
       "      <td>2012</td>\n",
       "      <td>-0.57</td>\n",
       "      <td>-0.44</td>\n",
       "      <td>-0.14</td>\n",
       "    </tr>\n",
       "    <tr>\n",
       "      <th>15</th>\n",
       "      <td>2013</td>\n",
       "      <td>-0.47</td>\n",
       "      <td>-0.32</td>\n",
       "      <td>-0.00</td>\n",
       "    </tr>\n",
       "    <tr>\n",
       "      <th>16</th>\n",
       "      <td>2014</td>\n",
       "      <td>-0.30</td>\n",
       "      <td>-0.13</td>\n",
       "      <td>0.35</td>\n",
       "    </tr>\n",
       "    <tr>\n",
       "      <th>17</th>\n",
       "      <td>2015</td>\n",
       "      <td>0.05</td>\n",
       "      <td>0.40</td>\n",
       "      <td>1.27</td>\n",
       "    </tr>\n",
       "    <tr>\n",
       "      <th>18</th>\n",
       "      <td>2016</td>\n",
       "      <td>0.41</td>\n",
       "      <td>0.55</td>\n",
       "      <td>1.11</td>\n",
       "    </tr>\n",
       "    <tr>\n",
       "      <th>19</th>\n",
       "      <td>2017</td>\n",
       "      <td>0.64</td>\n",
       "      <td>0.82</td>\n",
       "      <td>1.19</td>\n",
       "    </tr>\n",
       "    <tr>\n",
       "      <th>20</th>\n",
       "      <td>2018</td>\n",
       "      <td>1.23</td>\n",
       "      <td>1.15</td>\n",
       "      <td>1.18</td>\n",
       "    </tr>\n",
       "    <tr>\n",
       "      <th>21</th>\n",
       "      <td>2019</td>\n",
       "      <td>2.19</td>\n",
       "      <td>1.75</td>\n",
       "      <td>1.70</td>\n",
       "    </tr>\n",
       "    <tr>\n",
       "      <th>22</th>\n",
       "      <td>2020</td>\n",
       "      <td>0.96</td>\n",
       "      <td>1.80</td>\n",
       "      <td>1.53</td>\n",
       "    </tr>\n",
       "    <tr>\n",
       "      <th>23</th>\n",
       "      <td>2021</td>\n",
       "      <td>2.21</td>\n",
       "      <td>2.11</td>\n",
       "      <td>1.65</td>\n",
       "    </tr>\n",
       "    <tr>\n",
       "      <th>24</th>\n",
       "      <td>2022</td>\n",
       "      <td>2.21</td>\n",
       "      <td>1.96</td>\n",
       "      <td>1.45</td>\n",
       "    </tr>\n",
       "    <tr>\n",
       "      <th>25</th>\n",
       "      <td>2023</td>\n",
       "      <td>1.07</td>\n",
       "      <td>0.81</td>\n",
       "      <td>0.27</td>\n",
       "    </tr>\n",
       "  </tbody>\n",
       "</table>\n",
       "</div>"
      ],
      "text/plain": [
       "    Date  Earnings  Players  Tournaments\n",
       "0   1998     -0.73    -0.87        -1.01\n",
       "1   1999     -0.73    -0.87        -1.01\n",
       "2   2000     -0.72    -0.85        -0.98\n",
       "3   2001     -0.72    -0.84        -0.98\n",
       "4   2002     -0.72    -0.84        -0.98\n",
       "5   2003     -0.71    -0.80        -0.93\n",
       "6   2004     -0.70    -0.76        -0.88\n",
       "7   2005     -0.68    -0.75        -0.85\n",
       "8   2006     -0.67    -0.70        -0.82\n",
       "9   2007     -0.65    -0.68        -0.77\n",
       "10  2008     -0.65    -0.67        -0.77\n",
       "11  2009     -0.68    -0.67        -0.72\n",
       "12  2010     -0.66    -0.61        -0.58\n",
       "13  2011     -0.61    -0.56        -0.28\n",
       "14  2012     -0.57    -0.44        -0.14\n",
       "15  2013     -0.47    -0.32        -0.00\n",
       "16  2014     -0.30    -0.13         0.35\n",
       "17  2015      0.05     0.40         1.27\n",
       "18  2016      0.41     0.55         1.11\n",
       "19  2017      0.64     0.82         1.19\n",
       "20  2018      1.23     1.15         1.18\n",
       "21  2019      2.19     1.75         1.70\n",
       "22  2020      0.96     1.80         1.53\n",
       "23  2021      2.21     2.11         1.65\n",
       "24  2022      2.21     1.96         1.45\n",
       "25  2023      1.07     0.81         0.27"
      ]
     },
     "execution_count": 54,
     "metadata": {},
     "output_type": "execute_result"
    }
   ],
   "source": [
    "df_std_hist_anual = pd.DataFrame(df_std,columns=['Earnings','Players','Tournaments'],index=df_hist_anual['Date'])\n",
    "df_std_hist_anual.reset_index(inplace=True)\n",
    "df_std_hist_anual"
   ]
  },
  {
   "cell_type": "code",
   "execution_count": 55,
   "metadata": {},
   "outputs": [
    {
     "data": {
      "application/vnd.plotly.v1+json": {
       "config": {
        "linkText": "Export to plot.ly",
        "plotlyServerURL": "https://plot.ly",
        "showLink": false
       },
       "data": [
        {
         "marker": {
          "color": "rgba(16, 112, 2, 0.8)"
         },
         "mode": "lines",
         "name": "Earnings",
         "type": "scatter",
         "x": [
          "1998",
          "1999",
          "2000",
          "2001",
          "2002",
          "2003",
          "2004",
          "2005",
          "2006",
          "2007",
          "2008",
          "2009",
          "2010",
          "2011",
          "2012",
          "2013",
          "2014",
          "2015",
          "2016",
          "2017",
          "2018",
          "2019",
          "2020",
          "2021",
          "2022",
          "2023"
         ],
         "y": [
          -0.7316521144529057,
          -0.730141984206266,
          -0.7245792623491321,
          -0.7226221310178891,
          -0.7215069480574083,
          -0.7110245952922011,
          -0.6981905727911147,
          -0.6828325713814462,
          -0.6670115107858692,
          -0.6461618444910379,
          -0.6451173708211885,
          -0.6849449612617943,
          -0.6602460257506229,
          -0.6112234060043183,
          -0.5661461165676295,
          -0.47143584085088663,
          -0.2951312579466403,
          0.047829898684440424,
          0.41094619954313377,
          0.6444138020438158,
          1.2304793968989385,
          2.1874588736095397,
          0.9577175641267777,
          2.2100102112228783,
          2.2096186498110097,
          1.0714939180878178
         ]
        },
        {
         "marker": {
          "color": "rgba(200, 65, 10, 0.8)"
         },
         "mode": "lines",
         "name": "Players",
         "type": "scatter",
         "x": [
          "1998",
          "1999",
          "2000",
          "2001",
          "2002",
          "2003",
          "2004",
          "2005",
          "2006",
          "2007",
          "2008",
          "2009",
          "2010",
          "2011",
          "2012",
          "2013",
          "2014",
          "2015",
          "2016",
          "2017",
          "2018",
          "2019",
          "2020",
          "2021",
          "2022",
          "2023"
         ],
         "y": [
          -0.8657498026830831,
          -0.8652179351098538,
          -0.8542123676330317,
          -0.8444341868636618,
          -0.8351878736675212,
          -0.8031121677127683,
          -0.7620356259033652,
          -0.7463250760479759,
          -0.7045530151043499,
          -0.6770186399671703,
          -0.6730500896130746,
          -0.6652766404658768,
          -0.6145037436676006,
          -0.5562028750636172,
          -0.43526437148931885,
          -0.32267209752569603,
          -0.13271354810233094,
          0.40254979501760996,
          0.5531910569122536,
          0.8165882443315137,
          1.1519921185879742,
          1.7517341767394086,
          1.798415784512844,
          2.1131177363036096,
          1.9611672619210168,
          0.8087738822940674
         ]
        },
        {
         "marker": {
          "color": "rgba(20, 112, 100, 0.8)"
         },
         "mode": "lines",
         "name": "Tournaments",
         "type": "scatter",
         "x": [
          "1998",
          "1999",
          "2000",
          "2001",
          "2002",
          "2003",
          "2004",
          "2005",
          "2006",
          "2007",
          "2008",
          "2009",
          "2010",
          "2011",
          "2012",
          "2013",
          "2014",
          "2015",
          "2016",
          "2017",
          "2018",
          "2019",
          "2020",
          "2021",
          "2022",
          "2023"
         ],
         "y": [
          -1.0078667496394496,
          -1.0057191889534451,
          -0.9846730942306021,
          -0.9846730942306021,
          -0.9752238272121828,
          -0.9254004192968807,
          -0.8841672541255962,
          -0.8480882346007222,
          -0.8201699456826651,
          -0.7694875134929612,
          -0.7681989770813585,
          -0.7222411784008644,
          -0.5783546124385696,
          -0.2837092863187659,
          -0.14411784172847986,
          -0.0036673728637920846,
          0.354116237424541,
          1.2698361139368173,
          1.1074805260748846,
          1.1942419777894624,
          1.1757729558898244,
          1.7032138603725053,
          1.5305499812177514,
          1.6490953310851943,
          1.4502312115611868,
          0.2712203949447711
         ]
        }
       ],
       "layout": {
        "template": {
         "data": {
          "bar": [
           {
            "error_x": {
             "color": "#2a3f5f"
            },
            "error_y": {
             "color": "#2a3f5f"
            },
            "marker": {
             "line": {
              "color": "#E5ECF6",
              "width": 0.5
             },
             "pattern": {
              "fillmode": "overlay",
              "size": 10,
              "solidity": 0.2
             }
            },
            "type": "bar"
           }
          ],
          "barpolar": [
           {
            "marker": {
             "line": {
              "color": "#E5ECF6",
              "width": 0.5
             },
             "pattern": {
              "fillmode": "overlay",
              "size": 10,
              "solidity": 0.2
             }
            },
            "type": "barpolar"
           }
          ],
          "carpet": [
           {
            "aaxis": {
             "endlinecolor": "#2a3f5f",
             "gridcolor": "white",
             "linecolor": "white",
             "minorgridcolor": "white",
             "startlinecolor": "#2a3f5f"
            },
            "baxis": {
             "endlinecolor": "#2a3f5f",
             "gridcolor": "white",
             "linecolor": "white",
             "minorgridcolor": "white",
             "startlinecolor": "#2a3f5f"
            },
            "type": "carpet"
           }
          ],
          "choropleth": [
           {
            "colorbar": {
             "outlinewidth": 0,
             "ticks": ""
            },
            "type": "choropleth"
           }
          ],
          "contour": [
           {
            "colorbar": {
             "outlinewidth": 0,
             "ticks": ""
            },
            "colorscale": [
             [
              0,
              "#0d0887"
             ],
             [
              0.1111111111111111,
              "#46039f"
             ],
             [
              0.2222222222222222,
              "#7201a8"
             ],
             [
              0.3333333333333333,
              "#9c179e"
             ],
             [
              0.4444444444444444,
              "#bd3786"
             ],
             [
              0.5555555555555556,
              "#d8576b"
             ],
             [
              0.6666666666666666,
              "#ed7953"
             ],
             [
              0.7777777777777778,
              "#fb9f3a"
             ],
             [
              0.8888888888888888,
              "#fdca26"
             ],
             [
              1,
              "#f0f921"
             ]
            ],
            "type": "contour"
           }
          ],
          "contourcarpet": [
           {
            "colorbar": {
             "outlinewidth": 0,
             "ticks": ""
            },
            "type": "contourcarpet"
           }
          ],
          "heatmap": [
           {
            "colorbar": {
             "outlinewidth": 0,
             "ticks": ""
            },
            "colorscale": [
             [
              0,
              "#0d0887"
             ],
             [
              0.1111111111111111,
              "#46039f"
             ],
             [
              0.2222222222222222,
              "#7201a8"
             ],
             [
              0.3333333333333333,
              "#9c179e"
             ],
             [
              0.4444444444444444,
              "#bd3786"
             ],
             [
              0.5555555555555556,
              "#d8576b"
             ],
             [
              0.6666666666666666,
              "#ed7953"
             ],
             [
              0.7777777777777778,
              "#fb9f3a"
             ],
             [
              0.8888888888888888,
              "#fdca26"
             ],
             [
              1,
              "#f0f921"
             ]
            ],
            "type": "heatmap"
           }
          ],
          "heatmapgl": [
           {
            "colorbar": {
             "outlinewidth": 0,
             "ticks": ""
            },
            "colorscale": [
             [
              0,
              "#0d0887"
             ],
             [
              0.1111111111111111,
              "#46039f"
             ],
             [
              0.2222222222222222,
              "#7201a8"
             ],
             [
              0.3333333333333333,
              "#9c179e"
             ],
             [
              0.4444444444444444,
              "#bd3786"
             ],
             [
              0.5555555555555556,
              "#d8576b"
             ],
             [
              0.6666666666666666,
              "#ed7953"
             ],
             [
              0.7777777777777778,
              "#fb9f3a"
             ],
             [
              0.8888888888888888,
              "#fdca26"
             ],
             [
              1,
              "#f0f921"
             ]
            ],
            "type": "heatmapgl"
           }
          ],
          "histogram": [
           {
            "marker": {
             "pattern": {
              "fillmode": "overlay",
              "size": 10,
              "solidity": 0.2
             }
            },
            "type": "histogram"
           }
          ],
          "histogram2d": [
           {
            "colorbar": {
             "outlinewidth": 0,
             "ticks": ""
            },
            "colorscale": [
             [
              0,
              "#0d0887"
             ],
             [
              0.1111111111111111,
              "#46039f"
             ],
             [
              0.2222222222222222,
              "#7201a8"
             ],
             [
              0.3333333333333333,
              "#9c179e"
             ],
             [
              0.4444444444444444,
              "#bd3786"
             ],
             [
              0.5555555555555556,
              "#d8576b"
             ],
             [
              0.6666666666666666,
              "#ed7953"
             ],
             [
              0.7777777777777778,
              "#fb9f3a"
             ],
             [
              0.8888888888888888,
              "#fdca26"
             ],
             [
              1,
              "#f0f921"
             ]
            ],
            "type": "histogram2d"
           }
          ],
          "histogram2dcontour": [
           {
            "colorbar": {
             "outlinewidth": 0,
             "ticks": ""
            },
            "colorscale": [
             [
              0,
              "#0d0887"
             ],
             [
              0.1111111111111111,
              "#46039f"
             ],
             [
              0.2222222222222222,
              "#7201a8"
             ],
             [
              0.3333333333333333,
              "#9c179e"
             ],
             [
              0.4444444444444444,
              "#bd3786"
             ],
             [
              0.5555555555555556,
              "#d8576b"
             ],
             [
              0.6666666666666666,
              "#ed7953"
             ],
             [
              0.7777777777777778,
              "#fb9f3a"
             ],
             [
              0.8888888888888888,
              "#fdca26"
             ],
             [
              1,
              "#f0f921"
             ]
            ],
            "type": "histogram2dcontour"
           }
          ],
          "mesh3d": [
           {
            "colorbar": {
             "outlinewidth": 0,
             "ticks": ""
            },
            "type": "mesh3d"
           }
          ],
          "parcoords": [
           {
            "line": {
             "colorbar": {
              "outlinewidth": 0,
              "ticks": ""
             }
            },
            "type": "parcoords"
           }
          ],
          "pie": [
           {
            "automargin": true,
            "type": "pie"
           }
          ],
          "scatter": [
           {
            "fillpattern": {
             "fillmode": "overlay",
             "size": 10,
             "solidity": 0.2
            },
            "type": "scatter"
           }
          ],
          "scatter3d": [
           {
            "line": {
             "colorbar": {
              "outlinewidth": 0,
              "ticks": ""
             }
            },
            "marker": {
             "colorbar": {
              "outlinewidth": 0,
              "ticks": ""
             }
            },
            "type": "scatter3d"
           }
          ],
          "scattercarpet": [
           {
            "marker": {
             "colorbar": {
              "outlinewidth": 0,
              "ticks": ""
             }
            },
            "type": "scattercarpet"
           }
          ],
          "scattergeo": [
           {
            "marker": {
             "colorbar": {
              "outlinewidth": 0,
              "ticks": ""
             }
            },
            "type": "scattergeo"
           }
          ],
          "scattergl": [
           {
            "marker": {
             "colorbar": {
              "outlinewidth": 0,
              "ticks": ""
             }
            },
            "type": "scattergl"
           }
          ],
          "scattermapbox": [
           {
            "marker": {
             "colorbar": {
              "outlinewidth": 0,
              "ticks": ""
             }
            },
            "type": "scattermapbox"
           }
          ],
          "scatterpolar": [
           {
            "marker": {
             "colorbar": {
              "outlinewidth": 0,
              "ticks": ""
             }
            },
            "type": "scatterpolar"
           }
          ],
          "scatterpolargl": [
           {
            "marker": {
             "colorbar": {
              "outlinewidth": 0,
              "ticks": ""
             }
            },
            "type": "scatterpolargl"
           }
          ],
          "scatterternary": [
           {
            "marker": {
             "colorbar": {
              "outlinewidth": 0,
              "ticks": ""
             }
            },
            "type": "scatterternary"
           }
          ],
          "surface": [
           {
            "colorbar": {
             "outlinewidth": 0,
             "ticks": ""
            },
            "colorscale": [
             [
              0,
              "#0d0887"
             ],
             [
              0.1111111111111111,
              "#46039f"
             ],
             [
              0.2222222222222222,
              "#7201a8"
             ],
             [
              0.3333333333333333,
              "#9c179e"
             ],
             [
              0.4444444444444444,
              "#bd3786"
             ],
             [
              0.5555555555555556,
              "#d8576b"
             ],
             [
              0.6666666666666666,
              "#ed7953"
             ],
             [
              0.7777777777777778,
              "#fb9f3a"
             ],
             [
              0.8888888888888888,
              "#fdca26"
             ],
             [
              1,
              "#f0f921"
             ]
            ],
            "type": "surface"
           }
          ],
          "table": [
           {
            "cells": {
             "fill": {
              "color": "#EBF0F8"
             },
             "line": {
              "color": "white"
             }
            },
            "header": {
             "fill": {
              "color": "#C8D4E3"
             },
             "line": {
              "color": "white"
             }
            },
            "type": "table"
           }
          ]
         },
         "layout": {
          "annotationdefaults": {
           "arrowcolor": "#2a3f5f",
           "arrowhead": 0,
           "arrowwidth": 1
          },
          "autotypenumbers": "strict",
          "coloraxis": {
           "colorbar": {
            "outlinewidth": 0,
            "ticks": ""
           }
          },
          "colorscale": {
           "diverging": [
            [
             0,
             "#8e0152"
            ],
            [
             0.1,
             "#c51b7d"
            ],
            [
             0.2,
             "#de77ae"
            ],
            [
             0.3,
             "#f1b6da"
            ],
            [
             0.4,
             "#fde0ef"
            ],
            [
             0.5,
             "#f7f7f7"
            ],
            [
             0.6,
             "#e6f5d0"
            ],
            [
             0.7,
             "#b8e186"
            ],
            [
             0.8,
             "#7fbc41"
            ],
            [
             0.9,
             "#4d9221"
            ],
            [
             1,
             "#276419"
            ]
           ],
           "sequential": [
            [
             0,
             "#0d0887"
            ],
            [
             0.1111111111111111,
             "#46039f"
            ],
            [
             0.2222222222222222,
             "#7201a8"
            ],
            [
             0.3333333333333333,
             "#9c179e"
            ],
            [
             0.4444444444444444,
             "#bd3786"
            ],
            [
             0.5555555555555556,
             "#d8576b"
            ],
            [
             0.6666666666666666,
             "#ed7953"
            ],
            [
             0.7777777777777778,
             "#fb9f3a"
            ],
            [
             0.8888888888888888,
             "#fdca26"
            ],
            [
             1,
             "#f0f921"
            ]
           ],
           "sequentialminus": [
            [
             0,
             "#0d0887"
            ],
            [
             0.1111111111111111,
             "#46039f"
            ],
            [
             0.2222222222222222,
             "#7201a8"
            ],
            [
             0.3333333333333333,
             "#9c179e"
            ],
            [
             0.4444444444444444,
             "#bd3786"
            ],
            [
             0.5555555555555556,
             "#d8576b"
            ],
            [
             0.6666666666666666,
             "#ed7953"
            ],
            [
             0.7777777777777778,
             "#fb9f3a"
            ],
            [
             0.8888888888888888,
             "#fdca26"
            ],
            [
             1,
             "#f0f921"
            ]
           ]
          },
          "colorway": [
           "#636efa",
           "#EF553B",
           "#00cc96",
           "#ab63fa",
           "#FFA15A",
           "#19d3f3",
           "#FF6692",
           "#B6E880",
           "#FF97FF",
           "#FECB52"
          ],
          "font": {
           "color": "#2a3f5f"
          },
          "geo": {
           "bgcolor": "white",
           "lakecolor": "white",
           "landcolor": "#E5ECF6",
           "showlakes": true,
           "showland": true,
           "subunitcolor": "white"
          },
          "hoverlabel": {
           "align": "left"
          },
          "hovermode": "closest",
          "mapbox": {
           "style": "light"
          },
          "paper_bgcolor": "white",
          "plot_bgcolor": "#E5ECF6",
          "polar": {
           "angularaxis": {
            "gridcolor": "white",
            "linecolor": "white",
            "ticks": ""
           },
           "bgcolor": "#E5ECF6",
           "radialaxis": {
            "gridcolor": "white",
            "linecolor": "white",
            "ticks": ""
           }
          },
          "scene": {
           "xaxis": {
            "backgroundcolor": "#E5ECF6",
            "gridcolor": "white",
            "gridwidth": 2,
            "linecolor": "white",
            "showbackground": true,
            "ticks": "",
            "zerolinecolor": "white"
           },
           "yaxis": {
            "backgroundcolor": "#E5ECF6",
            "gridcolor": "white",
            "gridwidth": 2,
            "linecolor": "white",
            "showbackground": true,
            "ticks": "",
            "zerolinecolor": "white"
           },
           "zaxis": {
            "backgroundcolor": "#E5ECF6",
            "gridcolor": "white",
            "gridwidth": 2,
            "linecolor": "white",
            "showbackground": true,
            "ticks": "",
            "zerolinecolor": "white"
           }
          },
          "shapedefaults": {
           "line": {
            "color": "#2a3f5f"
           }
          },
          "ternary": {
           "aaxis": {
            "gridcolor": "white",
            "linecolor": "white",
            "ticks": ""
           },
           "baxis": {
            "gridcolor": "white",
            "linecolor": "white",
            "ticks": ""
           },
           "bgcolor": "#E5ECF6",
           "caxis": {
            "gridcolor": "white",
            "linecolor": "white",
            "ticks": ""
           }
          },
          "title": {
           "x": 0.05
          },
          "xaxis": {
           "automargin": true,
           "gridcolor": "white",
           "linecolor": "white",
           "ticks": "",
           "title": {
            "standoff": 15
           },
           "zerolinecolor": "white",
           "zerolinewidth": 2
          },
          "yaxis": {
           "automargin": true,
           "gridcolor": "white",
           "linecolor": "white",
           "ticks": "",
           "title": {
            "standoff": 15
           },
           "zerolinecolor": "white",
           "zerolinewidth": 2
          }
         }
        },
        "title": {
         "text": "Earnings, Players and Tournaments of esports by year"
        },
        "xaxis": {
         "title": {
          "text": ""
         }
        }
       }
      }
     },
     "metadata": {},
     "output_type": "display_data"
    }
   ],
   "source": [
    "trace1 = go.Scatter(\n",
    "                    x = df_std_hist_anual['Date'],\n",
    "                    y = df_std_hist_anual['Earnings'],\n",
    "                    name = 'Earnings',\n",
    "                    mode= 'lines',\n",
    "                    marker = dict(color = 'rgba(16, 112, 2, 0.8)'))\n",
    "\n",
    "trace2 = go.Scatter(\n",
    "                    x = df_std_hist_anual['Date'],\n",
    "                    y = df_std_hist_anual['Players'],\n",
    "                    name = 'Players',\n",
    "                    mode= 'lines',\n",
    "                    marker = dict(color = 'rgba(200, 65, 10, 0.8)'))\n",
    "\n",
    "trace3 = go.Scatter(\n",
    "                    x = df_std_hist_anual['Date'],\n",
    "                    y = df_std_hist_anual['Tournaments'],\n",
    "                    name = 'Tournaments',\n",
    "                    mode= 'lines',\n",
    "                    marker = dict(color = 'rgba(20, 112, 100, 0.8)'))\n",
    "\n",
    "data = [trace1, trace2, trace3]\n",
    "\n",
    "layout = dict(title = 'Earnings, Players and Tournaments of esports by year',\n",
    "             xaxis= dict(title= '')\n",
    "           )\n",
    "\n",
    "fig = go.Figure(data = data, layout=layout)\n",
    "\n",
    "iplot(fig)"
   ]
  },
  {
   "cell_type": "code",
   "execution_count": 56,
   "metadata": {},
   "outputs": [
    {
     "data": {
      "image/png": "[encoded data removed]",
      "text/plain": [
       "<Figure size 1000x1000 with 2 Axes>"
      ]
     },
     "metadata": {},
     "output_type": "display_data"
    }
   ],
   "source": [
    "plt.figure(figsize=(10,10))\n",
    "sns.heatmap(df_hist_anual.corr(numeric_only=True),\n",
    "            vmin=-1,\n",
    "            vmax=1,\n",
    "            cmap=sns.diverging_palette(145, 280, s=85, l=25, n=25),\n",
    "            square=True,\n",
    "            linewidths=.1,\n",
    "            annot=True);"
   ]
  },
  {
   "cell_type": "code",
   "execution_count": 57,
   "metadata": {},
   "outputs": [
    {
     "name": "stderr",
     "output_type": "stream",
     "text": [
      "C:\\Users\\ekait\\AppData\\Local\\Temp\\ipykernel_9544\\860251798.py:2: SettingWithCopyWarning:\n",
      "\n",
      "\n",
      "A value is trying to be set on a copy of a slice from a DataFrame.\n",
      "Try using .loc[row_indexer,col_indexer] = value instead\n",
      "\n",
      "See the caveats in the documentation: https://pandas.pydata.org/pandas-docs/stable/user_guide/indexing.html#returning-a-view-versus-a-copy\n",
      "\n"
     ]
    },
    {
     "data": {
      "text/html": [
       "<div>\n",
       "<style scoped>\n",
       "    .dataframe tbody tr th:only-of-type {\n",
       "        vertical-align: middle;\n",
       "    }\n",
       "\n",
       "    .dataframe tbody tr th {\n",
       "        vertical-align: top;\n",
       "    }\n",
       "\n",
       "    .dataframe thead th {\n",
       "        text-align: right;\n",
       "    }\n",
       "</style>\n",
       "<table border=\"1\" class=\"dataframe\">\n",
       "  <thead>\n",
       "    <tr style=\"text-align: right;\">\n",
       "      <th></th>\n",
       "      <th>Date</th>\n",
       "      <th>Genre</th>\n",
       "      <th>Earnings</th>\n",
       "      <th>Players</th>\n",
       "      <th>Tournaments</th>\n",
       "      <th>RatioEarningsPerTournaments</th>\n",
       "    </tr>\n",
       "  </thead>\n",
       "  <tbody>\n",
       "    <tr>\n",
       "      <th>190</th>\n",
       "      <td>2021</td>\n",
       "      <td>Sports</td>\n",
       "      <td>12965974.14</td>\n",
       "      <td>6129</td>\n",
       "      <td>830</td>\n",
       "      <td>15621.66</td>\n",
       "    </tr>\n",
       "    <tr>\n",
       "      <th>182</th>\n",
       "      <td>2021</td>\n",
       "      <td>Collectible Card Game</td>\n",
       "      <td>7998804.19</td>\n",
       "      <td>1496</td>\n",
       "      <td>94</td>\n",
       "      <td>85093.66</td>\n",
       "    </tr>\n",
       "    <tr>\n",
       "      <th>183</th>\n",
       "      <td>2021</td>\n",
       "      <td>Fighting Game</td>\n",
       "      <td>2782697.37</td>\n",
       "      <td>3746</td>\n",
       "      <td>716</td>\n",
       "      <td>3886.45</td>\n",
       "    </tr>\n",
       "    <tr>\n",
       "      <th>188</th>\n",
       "      <td>2021</td>\n",
       "      <td>Racing</td>\n",
       "      <td>2652606.99</td>\n",
       "      <td>2189</td>\n",
       "      <td>337</td>\n",
       "      <td>7871.24</td>\n",
       "    </tr>\n",
       "    <tr>\n",
       "      <th>189</th>\n",
       "      <td>2021</td>\n",
       "      <td>Role-Playing Game</td>\n",
       "      <td>1067350.00</td>\n",
       "      <td>360</td>\n",
       "      <td>24</td>\n",
       "      <td>44472.92</td>\n",
       "    </tr>\n",
       "    <tr>\n",
       "      <th>192</th>\n",
       "      <td>2021</td>\n",
       "      <td>Third-Person Shooter</td>\n",
       "      <td>365840.00</td>\n",
       "      <td>237</td>\n",
       "      <td>36</td>\n",
       "      <td>10162.22</td>\n",
       "    </tr>\n",
       "    <tr>\n",
       "      <th>186</th>\n",
       "      <td>2021</td>\n",
       "      <td>Music / Rhythm Game</td>\n",
       "      <td>53523.24</td>\n",
       "      <td>368</td>\n",
       "      <td>50</td>\n",
       "      <td>1070.46</td>\n",
       "    </tr>\n",
       "    <tr>\n",
       "      <th>187</th>\n",
       "      <td>2021</td>\n",
       "      <td>Puzzle Game</td>\n",
       "      <td>24765.81</td>\n",
       "      <td>158</td>\n",
       "      <td>38</td>\n",
       "      <td>651.73</td>\n",
       "    </tr>\n",
       "    <tr>\n",
       "      <th>197</th>\n",
       "      <td>2022</td>\n",
       "      <td>Multiplayer Online Battle Arena</td>\n",
       "      <td>89010159.85</td>\n",
       "      <td>11748</td>\n",
       "      <td>562</td>\n",
       "      <td>158381.07</td>\n",
       "    </tr>\n",
       "    <tr>\n",
       "      <th>193</th>\n",
       "      <td>2022</td>\n",
       "      <td>Battle Royale</td>\n",
       "      <td>63075848.18</td>\n",
       "      <td>13788</td>\n",
       "      <td>666</td>\n",
       "      <td>94708.48</td>\n",
       "    </tr>\n",
       "    <tr>\n",
       "      <th>196</th>\n",
       "      <td>2022</td>\n",
       "      <td>First-Person Shooter</td>\n",
       "      <td>56210217.94</td>\n",
       "      <td>21458</td>\n",
       "      <td>1270</td>\n",
       "      <td>44260.01</td>\n",
       "    </tr>\n",
       "    <tr>\n",
       "      <th>202</th>\n",
       "      <td>2022</td>\n",
       "      <td>Sports</td>\n",
       "      <td>18141909.12</td>\n",
       "      <td>6625</td>\n",
       "      <td>669</td>\n",
       "      <td>27117.95</td>\n",
       "    </tr>\n",
       "    <tr>\n",
       "      <th>203</th>\n",
       "      <td>2022</td>\n",
       "      <td>Strategy</td>\n",
       "      <td>15720536.91</td>\n",
       "      <td>7761</td>\n",
       "      <td>1516</td>\n",
       "      <td>10369.75</td>\n",
       "    </tr>\n",
       "    <tr>\n",
       "      <th>194</th>\n",
       "      <td>2022</td>\n",
       "      <td>Collectible Card Game</td>\n",
       "      <td>4759930.41</td>\n",
       "      <td>1375</td>\n",
       "      <td>55</td>\n",
       "      <td>86544.19</td>\n",
       "    </tr>\n",
       "    <tr>\n",
       "      <th>201</th>\n",
       "      <td>2022</td>\n",
       "      <td>Role-Playing Game</td>\n",
       "      <td>3722130.52</td>\n",
       "      <td>394</td>\n",
       "      <td>27</td>\n",
       "      <td>137856.69</td>\n",
       "    </tr>\n",
       "    <tr>\n",
       "      <th>195</th>\n",
       "      <td>2022</td>\n",
       "      <td>Fighting Game</td>\n",
       "      <td>2885526.18</td>\n",
       "      <td>3339</td>\n",
       "      <td>567</td>\n",
       "      <td>5089.11</td>\n",
       "    </tr>\n",
       "    <tr>\n",
       "      <th>200</th>\n",
       "      <td>2022</td>\n",
       "      <td>Racing</td>\n",
       "      <td>2683763.86</td>\n",
       "      <td>2082</td>\n",
       "      <td>320</td>\n",
       "      <td>8386.76</td>\n",
       "    </tr>\n",
       "    <tr>\n",
       "      <th>198</th>\n",
       "      <td>2022</td>\n",
       "      <td>Music / Rhythm Game</td>\n",
       "      <td>67691.36</td>\n",
       "      <td>486</td>\n",
       "      <td>67</td>\n",
       "      <td>1010.32</td>\n",
       "    </tr>\n",
       "    <tr>\n",
       "      <th>199</th>\n",
       "      <td>2022</td>\n",
       "      <td>Puzzle Game</td>\n",
       "      <td>23012.00</td>\n",
       "      <td>48</td>\n",
       "      <td>1</td>\n",
       "      <td>23012.00</td>\n",
       "    </tr>\n",
       "    <tr>\n",
       "      <th>204</th>\n",
       "      <td>2022</td>\n",
       "      <td>Third-Person Shooter</td>\n",
       "      <td>12000.00</td>\n",
       "      <td>60</td>\n",
       "      <td>14</td>\n",
       "      <td>857.14</td>\n",
       "    </tr>\n",
       "    <tr>\n",
       "      <th>209</th>\n",
       "      <td>2023</td>\n",
       "      <td>Multiplayer Online Battle Arena</td>\n",
       "      <td>43316877.32</td>\n",
       "      <td>6781</td>\n",
       "      <td>240</td>\n",
       "      <td>180486.99</td>\n",
       "    </tr>\n",
       "    <tr>\n",
       "      <th>208</th>\n",
       "      <td>2023</td>\n",
       "      <td>First-Person Shooter</td>\n",
       "      <td>41595437.18</td>\n",
       "      <td>13157</td>\n",
       "      <td>540</td>\n",
       "      <td>77028.59</td>\n",
       "    </tr>\n",
       "    <tr>\n",
       "      <th>205</th>\n",
       "      <td>2023</td>\n",
       "      <td>Battle Royale</td>\n",
       "      <td>37334793.92</td>\n",
       "      <td>8567</td>\n",
       "      <td>364</td>\n",
       "      <td>102568.12</td>\n",
       "    </tr>\n",
       "    <tr>\n",
       "      <th>213</th>\n",
       "      <td>2023</td>\n",
       "      <td>Sports</td>\n",
       "      <td>19249653.34</td>\n",
       "      <td>4432</td>\n",
       "      <td>372</td>\n",
       "      <td>51746.38</td>\n",
       "    </tr>\n",
       "    <tr>\n",
       "      <th>214</th>\n",
       "      <td>2023</td>\n",
       "      <td>Strategy</td>\n",
       "      <td>8841527.58</td>\n",
       "      <td>5359</td>\n",
       "      <td>1042</td>\n",
       "      <td>8485.15</td>\n",
       "    </tr>\n",
       "    <tr>\n",
       "      <th>207</th>\n",
       "      <td>2023</td>\n",
       "      <td>Fighting Game</td>\n",
       "      <td>3822558.66</td>\n",
       "      <td>1140</td>\n",
       "      <td>165</td>\n",
       "      <td>23167.02</td>\n",
       "    </tr>\n",
       "    <tr>\n",
       "      <th>211</th>\n",
       "      <td>2023</td>\n",
       "      <td>Racing</td>\n",
       "      <td>2208697.85</td>\n",
       "      <td>983</td>\n",
       "      <td>205</td>\n",
       "      <td>10774.14</td>\n",
       "    </tr>\n",
       "    <tr>\n",
       "      <th>206</th>\n",
       "      <td>2023</td>\n",
       "      <td>Collectible Card Game</td>\n",
       "      <td>761330.20</td>\n",
       "      <td>147</td>\n",
       "      <td>11</td>\n",
       "      <td>69211.84</td>\n",
       "    </tr>\n",
       "    <tr>\n",
       "      <th>210</th>\n",
       "      <td>2023</td>\n",
       "      <td>Music / Rhythm Game</td>\n",
       "      <td>41152.91</td>\n",
       "      <td>403</td>\n",
       "      <td>48</td>\n",
       "      <td>857.35</td>\n",
       "    </tr>\n",
       "    <tr>\n",
       "      <th>212</th>\n",
       "      <td>2023</td>\n",
       "      <td>Role-Playing Game</td>\n",
       "      <td>20000.00</td>\n",
       "      <td>28</td>\n",
       "      <td>2</td>\n",
       "      <td>10000.00</td>\n",
       "    </tr>\n",
       "  </tbody>\n",
       "</table>\n",
       "</div>"
      ],
      "text/plain": [
       "     Date                            Genre    Earnings  Players  Tournaments  \\\n",
       "190  2021                           Sports 12965974.14     6129          830   \n",
       "182  2021            Collectible Card Game  7998804.19     1496           94   \n",
       "183  2021                    Fighting Game  2782697.37     3746          716   \n",
       "188  2021                           Racing  2652606.99     2189          337   \n",
       "189  2021                Role-Playing Game  1067350.00      360           24   \n",
       "192  2021             Third-Person Shooter   365840.00      237           36   \n",
       "186  2021              Music / Rhythm Game    53523.24      368           50   \n",
       "187  2021                      Puzzle Game    24765.81      158           38   \n",
       "197  2022  Multiplayer Online Battle Arena 89010159.85    11748          562   \n",
       "193  2022                    Battle Royale 63075848.18    13788          666   \n",
       "196  2022             First-Person Shooter 56210217.94    21458         1270   \n",
       "202  2022                           Sports 18141909.12     6625          669   \n",
       "203  2022                         Strategy 15720536.91     7761         1516   \n",
       "194  2022            Collectible Card Game  4759930.41     1375           55   \n",
       "201  2022                Role-Playing Game  3722130.52      394           27   \n",
       "195  2022                    Fighting Game  2885526.18     3339          567   \n",
       "200  2022                           Racing  2683763.86     2082          320   \n",
       "198  2022              Music / Rhythm Game    67691.36      486           67   \n",
       "199  2022                      Puzzle Game    23012.00       48            1   \n",
       "204  2022             Third-Person Shooter    12000.00       60           14   \n",
       "209  2023  Multiplayer Online Battle Arena 43316877.32     6781          240   \n",
       "208  2023             First-Person Shooter 41595437.18    13157          540   \n",
       "205  2023                    Battle Royale 37334793.92     8567          364   \n",
       "213  2023                           Sports 19249653.34     4432          372   \n",
       "214  2023                         Strategy  8841527.58     5359         1042   \n",
       "207  2023                    Fighting Game  3822558.66     1140          165   \n",
       "211  2023                           Racing  2208697.85      983          205   \n",
       "206  2023            Collectible Card Game   761330.20      147           11   \n",
       "210  2023              Music / Rhythm Game    41152.91      403           48   \n",
       "212  2023                Role-Playing Game    20000.00       28            2   \n",
       "\n",
       "     RatioEarningsPerTournaments  \n",
       "190                     15621.66  \n",
       "182                     85093.66  \n",
       "183                      3886.45  \n",
       "188                      7871.24  \n",
       "189                     44472.92  \n",
       "192                     10162.22  \n",
       "186                      1070.46  \n",
       "187                       651.73  \n",
       "197                    158381.07  \n",
       "193                     94708.48  \n",
       "196                     44260.01  \n",
       "202                     27117.95  \n",
       "203                     10369.75  \n",
       "194                     86544.19  \n",
       "201                    137856.69  \n",
       "195                      5089.11  \n",
       "200                      8386.76  \n",
       "198                      1010.32  \n",
       "199                     23012.00  \n",
       "204                       857.14  \n",
       "209                    180486.99  \n",
       "208                     77028.59  \n",
       "205                    102568.12  \n",
       "213                     51746.38  \n",
       "214                      8485.15  \n",
       "207                     23167.02  \n",
       "211                     10774.14  \n",
       "206                     69211.84  \n",
       "210                       857.35  \n",
       "212                     10000.00  "
      ]
     },
     "execution_count": 57,
     "metadata": {},
     "output_type": "execute_result"
    }
   ],
   "source": [
    "df_hist_anual_genero = df_hist_genero[['Date','Earnings','Players','Tournaments','Genre']]\n",
    "df_hist_anual_genero['Date'] = df_hist_anual_genero['Date'].str[:4]\n",
    "df_hist_anual_genero = df_hist_anual_genero.groupby(['Date','Genre'],as_index=False).sum()\n",
    "df_hist_anual_genero['RatioEarningsPerTournaments'] = df_hist_anual_genero['Earnings']/df_hist_anual_genero['Tournaments']\n",
    "df_hist_anual_genero.sort_values(['Date','Earnings'],ascending=[True,False],inplace=True)\n",
    "df_hist_anual_genero.tail(30)"
   ]
  },
  {
   "cell_type": "code",
   "execution_count": 58,
   "metadata": {},
   "outputs": [
    {
     "data": {
      "text/html": [
       "<div>\n",
       "<style scoped>\n",
       "    .dataframe tbody tr th:only-of-type {\n",
       "        vertical-align: middle;\n",
       "    }\n",
       "\n",
       "    .dataframe tbody tr th {\n",
       "        vertical-align: top;\n",
       "    }\n",
       "\n",
       "    .dataframe thead th {\n",
       "        text-align: right;\n",
       "    }\n",
       "</style>\n",
       "<table border=\"1\" class=\"dataframe\">\n",
       "  <thead>\n",
       "    <tr style=\"text-align: right;\">\n",
       "      <th></th>\n",
       "      <th>Date</th>\n",
       "      <th>Genre</th>\n",
       "      <th>Earnings</th>\n",
       "      <th>Players</th>\n",
       "      <th>Tournaments</th>\n",
       "      <th>RatioEarningsPerTournaments</th>\n",
       "    </tr>\n",
       "  </thead>\n",
       "  <tbody>\n",
       "    <tr>\n",
       "      <th>0</th>\n",
       "      <td>1998</td>\n",
       "      <td>First-Person Shooter</td>\n",
       "      <td>101800.00</td>\n",
       "      <td>49</td>\n",
       "      <td>7</td>\n",
       "      <td>14542.86</td>\n",
       "    </tr>\n",
       "    <tr>\n",
       "      <th>1</th>\n",
       "      <td>1998</td>\n",
       "      <td>Strategy</td>\n",
       "      <td>52000.00</td>\n",
       "      <td>19</td>\n",
       "      <td>4</td>\n",
       "      <td>13000.00</td>\n",
       "    </tr>\n",
       "    <tr>\n",
       "      <th>3</th>\n",
       "      <td>1999</td>\n",
       "      <td>Strategy</td>\n",
       "      <td>149719.12</td>\n",
       "      <td>49</td>\n",
       "      <td>11</td>\n",
       "      <td>13610.83</td>\n",
       "    </tr>\n",
       "    <tr>\n",
       "      <th>2</th>\n",
       "      <td>1999</td>\n",
       "      <td>First-Person Shooter</td>\n",
       "      <td>135600.00</td>\n",
       "      <td>32</td>\n",
       "      <td>5</td>\n",
       "      <td>27120.00</td>\n",
       "    </tr>\n",
       "    <tr>\n",
       "      <th>5</th>\n",
       "      <td>2000</td>\n",
       "      <td>First-Person Shooter</td>\n",
       "      <td>456286.15</td>\n",
       "      <td>241</td>\n",
       "      <td>32</td>\n",
       "      <td>14258.94</td>\n",
       "    </tr>\n",
       "  </tbody>\n",
       "</table>\n",
       "</div>"
      ],
      "text/plain": [
       "   Date                 Genre  Earnings  Players  Tournaments  \\\n",
       "0  1998  First-Person Shooter 101800.00       49            7   \n",
       "1  1998              Strategy  52000.00       19            4   \n",
       "3  1999              Strategy 149719.12       49           11   \n",
       "2  1999  First-Person Shooter 135600.00       32            5   \n",
       "5  2000  First-Person Shooter 456286.15      241           32   \n",
       "\n",
       "   RatioEarningsPerTournaments  \n",
       "0                     14542.86  \n",
       "1                     13000.00  \n",
       "3                     13610.83  \n",
       "2                     27120.00  \n",
       "5                     14258.94  "
      ]
     },
     "execution_count": 58,
     "metadata": {},
     "output_type": "execute_result"
    }
   ],
   "source": [
    "\n",
    "df_hist_anual_genero_top3 = df_hist_anual_genero.groupby('Date',sort=True).head(3)\n",
    "df_hist_anual_genero_top3.head()"
   ]
  },
  {
   "cell_type": "code",
   "execution_count": 59,
   "metadata": {},
   "outputs": [
    {
     "data": {
      "text/html": [
       "<div>\n",
       "<style scoped>\n",
       "    .dataframe tbody tr th:only-of-type {\n",
       "        vertical-align: middle;\n",
       "    }\n",
       "\n",
       "    .dataframe tbody tr th {\n",
       "        vertical-align: top;\n",
       "    }\n",
       "\n",
       "    .dataframe thead th {\n",
       "        text-align: right;\n",
       "    }\n",
       "</style>\n",
       "<table border=\"1\" class=\"dataframe\">\n",
       "  <thead>\n",
       "    <tr style=\"text-align: right;\">\n",
       "      <th></th>\n",
       "      <th>Date</th>\n",
       "      <th>Genre</th>\n",
       "      <th>Earnings</th>\n",
       "      <th>Players</th>\n",
       "      <th>Tournaments</th>\n",
       "      <th>RatioEarningsPerTournaments</th>\n",
       "    </tr>\n",
       "  </thead>\n",
       "  <tbody>\n",
       "    <tr>\n",
       "      <th>0</th>\n",
       "      <td>1998</td>\n",
       "      <td>First-Person Shooter</td>\n",
       "      <td>101800.00</td>\n",
       "      <td>49</td>\n",
       "      <td>7</td>\n",
       "      <td>14542.86</td>\n",
       "    </tr>\n",
       "    <tr>\n",
       "      <th>1</th>\n",
       "      <td>1998</td>\n",
       "      <td>Strategy</td>\n",
       "      <td>52000.00</td>\n",
       "      <td>19</td>\n",
       "      <td>4</td>\n",
       "      <td>13000.00</td>\n",
       "    </tr>\n",
       "    <tr>\n",
       "      <th>3</th>\n",
       "      <td>1999</td>\n",
       "      <td>Strategy</td>\n",
       "      <td>149719.12</td>\n",
       "      <td>49</td>\n",
       "      <td>11</td>\n",
       "      <td>13610.83</td>\n",
       "    </tr>\n",
       "    <tr>\n",
       "      <th>2</th>\n",
       "      <td>1999</td>\n",
       "      <td>First-Person Shooter</td>\n",
       "      <td>135600.00</td>\n",
       "      <td>32</td>\n",
       "      <td>5</td>\n",
       "      <td>27120.00</td>\n",
       "    </tr>\n",
       "    <tr>\n",
       "      <th>5</th>\n",
       "      <td>2000</td>\n",
       "      <td>First-Person Shooter</td>\n",
       "      <td>456286.15</td>\n",
       "      <td>241</td>\n",
       "      <td>32</td>\n",
       "      <td>14258.94</td>\n",
       "    </tr>\n",
       "  </tbody>\n",
       "</table>\n",
       "</div>"
      ],
      "text/plain": [
       "   Date                 Genre  Earnings  Players  Tournaments  \\\n",
       "0  1998  First-Person Shooter 101800.00       49            7   \n",
       "1  1998              Strategy  52000.00       19            4   \n",
       "3  1999              Strategy 149719.12       49           11   \n",
       "2  1999  First-Person Shooter 135600.00       32            5   \n",
       "5  2000  First-Person Shooter 456286.15      241           32   \n",
       "\n",
       "   RatioEarningsPerTournaments  \n",
       "0                     14542.86  \n",
       "1                     13000.00  \n",
       "3                     13610.83  \n",
       "2                     27120.00  \n",
       "5                     14258.94  "
      ]
     },
     "execution_count": 59,
     "metadata": {},
     "output_type": "execute_result"
    }
   ],
   "source": [
    "df_hist_anual_genero_top3_period1 = df_hist_anual_genero_top3.copy()\n",
    "df_hist_anual_genero_top3_period1 = df_hist_anual_genero_top3_period1[(df_hist_anual_genero_top3_period1['Date'] <= '2004') & (df_hist_anual_genero_top3_period1['Date'] >= '1998')]\n",
    "df_hist_anual_genero_top3_period1.head()"
   ]
  },
  {
   "cell_type": "code",
   "execution_count": 60,
   "metadata": {},
   "outputs": [
    {
     "data": {
      "text/html": [
       "<div>\n",
       "<style scoped>\n",
       "    .dataframe tbody tr th:only-of-type {\n",
       "        vertical-align: middle;\n",
       "    }\n",
       "\n",
       "    .dataframe tbody tr th {\n",
       "        vertical-align: top;\n",
       "    }\n",
       "\n",
       "    .dataframe thead th {\n",
       "        text-align: right;\n",
       "    }\n",
       "</style>\n",
       "<table border=\"1\" class=\"dataframe\">\n",
       "  <thead>\n",
       "    <tr style=\"text-align: right;\">\n",
       "      <th></th>\n",
       "      <th>Date</th>\n",
       "      <th>Genre</th>\n",
       "      <th>Earnings</th>\n",
       "      <th>Players</th>\n",
       "      <th>Tournaments</th>\n",
       "      <th>RatioEarningsPerTournaments</th>\n",
       "    </tr>\n",
       "  </thead>\n",
       "  <tbody>\n",
       "    <tr>\n",
       "      <th>28</th>\n",
       "      <td>2005</td>\n",
       "      <td>First-Person Shooter</td>\n",
       "      <td>2968891.75</td>\n",
       "      <td>2323</td>\n",
       "      <td>191</td>\n",
       "      <td>15543.94</td>\n",
       "    </tr>\n",
       "    <tr>\n",
       "      <th>32</th>\n",
       "      <td>2005</td>\n",
       "      <td>Strategy</td>\n",
       "      <td>1192733.13</td>\n",
       "      <td>495</td>\n",
       "      <td>137</td>\n",
       "      <td>8706.08</td>\n",
       "    </tr>\n",
       "    <tr>\n",
       "      <th>31</th>\n",
       "      <td>2005</td>\n",
       "      <td>Sports</td>\n",
       "      <td>124973.19</td>\n",
       "      <td>23</td>\n",
       "      <td>9</td>\n",
       "      <td>13885.91</td>\n",
       "    </tr>\n",
       "    <tr>\n",
       "      <th>34</th>\n",
       "      <td>2006</td>\n",
       "      <td>First-Person Shooter</td>\n",
       "      <td>3567334.86</td>\n",
       "      <td>3011</td>\n",
       "      <td>234</td>\n",
       "      <td>15245.02</td>\n",
       "    </tr>\n",
       "    <tr>\n",
       "      <th>38</th>\n",
       "      <td>2006</td>\n",
       "      <td>Strategy</td>\n",
       "      <td>1499660.27</td>\n",
       "      <td>698</td>\n",
       "      <td>148</td>\n",
       "      <td>10132.84</td>\n",
       "    </tr>\n",
       "    <tr>\n",
       "      <th>37</th>\n",
       "      <td>2006</td>\n",
       "      <td>Sports</td>\n",
       "      <td>245069.99</td>\n",
       "      <td>32</td>\n",
       "      <td>13</td>\n",
       "      <td>18851.54</td>\n",
       "    </tr>\n",
       "    <tr>\n",
       "      <th>40</th>\n",
       "      <td>2007</td>\n",
       "      <td>First-Person Shooter</td>\n",
       "      <td>3831793.03</td>\n",
       "      <td>3290</td>\n",
       "      <td>218</td>\n",
       "      <td>17577.03</td>\n",
       "    </tr>\n",
       "    <tr>\n",
       "      <th>45</th>\n",
       "      <td>2007</td>\n",
       "      <td>Strategy</td>\n",
       "      <td>2190959.05</td>\n",
       "      <td>798</td>\n",
       "      <td>209</td>\n",
       "      <td>10483.06</td>\n",
       "    </tr>\n",
       "    <tr>\n",
       "      <th>44</th>\n",
       "      <td>2007</td>\n",
       "      <td>Sports</td>\n",
       "      <td>454365.55</td>\n",
       "      <td>64</td>\n",
       "      <td>19</td>\n",
       "      <td>23913.98</td>\n",
       "    </tr>\n",
       "    <tr>\n",
       "      <th>48</th>\n",
       "      <td>2008</td>\n",
       "      <td>First-Person Shooter</td>\n",
       "      <td>3937062.84</td>\n",
       "      <td>3324</td>\n",
       "      <td>250</td>\n",
       "      <td>15748.25</td>\n",
       "    </tr>\n",
       "    <tr>\n",
       "      <th>54</th>\n",
       "      <td>2008</td>\n",
       "      <td>Strategy</td>\n",
       "      <td>2094263.42</td>\n",
       "      <td>795</td>\n",
       "      <td>175</td>\n",
       "      <td>11967.22</td>\n",
       "    </tr>\n",
       "    <tr>\n",
       "      <th>52</th>\n",
       "      <td>2008</td>\n",
       "      <td>Role-Playing Game</td>\n",
       "      <td>592300.00</td>\n",
       "      <td>162</td>\n",
       "      <td>16</td>\n",
       "      <td>37018.75</td>\n",
       "    </tr>\n",
       "    <tr>\n",
       "      <th>58</th>\n",
       "      <td>2009</td>\n",
       "      <td>First-Person Shooter</td>\n",
       "      <td>2160585.68</td>\n",
       "      <td>3342</td>\n",
       "      <td>244</td>\n",
       "      <td>8854.86</td>\n",
       "    </tr>\n",
       "    <tr>\n",
       "      <th>64</th>\n",
       "      <td>2009</td>\n",
       "      <td>Strategy</td>\n",
       "      <td>1130969.24</td>\n",
       "      <td>494</td>\n",
       "      <td>157</td>\n",
       "      <td>7203.63</td>\n",
       "    </tr>\n",
       "    <tr>\n",
       "      <th>62</th>\n",
       "      <td>2009</td>\n",
       "      <td>Role-Playing Game</td>\n",
       "      <td>382438.91</td>\n",
       "      <td>129</td>\n",
       "      <td>14</td>\n",
       "      <td>27317.06</td>\n",
       "    </tr>\n",
       "    <tr>\n",
       "      <th>68</th>\n",
       "      <td>2010</td>\n",
       "      <td>First-Person Shooter</td>\n",
       "      <td>3094759.08</td>\n",
       "      <td>3859</td>\n",
       "      <td>321</td>\n",
       "      <td>9640.99</td>\n",
       "    </tr>\n",
       "    <tr>\n",
       "      <th>74</th>\n",
       "      <td>2010</td>\n",
       "      <td>Strategy</td>\n",
       "      <td>2047431.03</td>\n",
       "      <td>1119</td>\n",
       "      <td>406</td>\n",
       "      <td>5042.93</td>\n",
       "    </tr>\n",
       "    <tr>\n",
       "      <th>72</th>\n",
       "      <td>2010</td>\n",
       "      <td>Role-Playing Game</td>\n",
       "      <td>291250.00</td>\n",
       "      <td>117</td>\n",
       "      <td>9</td>\n",
       "      <td>32361.11</td>\n",
       "    </tr>\n",
       "  </tbody>\n",
       "</table>\n",
       "</div>"
      ],
      "text/plain": [
       "    Date                 Genre   Earnings  Players  Tournaments  \\\n",
       "28  2005  First-Person Shooter 2968891.75     2323          191   \n",
       "32  2005              Strategy 1192733.13      495          137   \n",
       "31  2005                Sports  124973.19       23            9   \n",
       "34  2006  First-Person Shooter 3567334.86     3011          234   \n",
       "38  2006              Strategy 1499660.27      698          148   \n",
       "37  2006                Sports  245069.99       32           13   \n",
       "40  2007  First-Person Shooter 3831793.03     3290          218   \n",
       "45  2007              Strategy 2190959.05      798          209   \n",
       "44  2007                Sports  454365.55       64           19   \n",
       "48  2008  First-Person Shooter 3937062.84     3324          250   \n",
       "54  2008              Strategy 2094263.42      795          175   \n",
       "52  2008     Role-Playing Game  592300.00      162           16   \n",
       "58  2009  First-Person Shooter 2160585.68     3342          244   \n",
       "64  2009              Strategy 1130969.24      494          157   \n",
       "62  2009     Role-Playing Game  382438.91      129           14   \n",
       "68  2010  First-Person Shooter 3094759.08     3859          321   \n",
       "74  2010              Strategy 2047431.03     1119          406   \n",
       "72  2010     Role-Playing Game  291250.00      117            9   \n",
       "\n",
       "    RatioEarningsPerTournaments  \n",
       "28                     15543.94  \n",
       "32                      8706.08  \n",
       "31                     13885.91  \n",
       "34                     15245.02  \n",
       "38                     10132.84  \n",
       "37                     18851.54  \n",
       "40                     17577.03  \n",
       "45                     10483.06  \n",
       "44                     23913.98  \n",
       "48                     15748.25  \n",
       "54                     11967.22  \n",
       "52                     37018.75  \n",
       "58                      8854.86  \n",
       "64                      7203.63  \n",
       "62                     27317.06  \n",
       "68                      9640.99  \n",
       "74                      5042.93  \n",
       "72                     32361.11  "
      ]
     },
     "execution_count": 60,
     "metadata": {},
     "output_type": "execute_result"
    }
   ],
   "source": [
    "df_hist_anual_genero_top3_period2 = df_hist_anual_genero_top3.copy()\n",
    "df_hist_anual_genero_top3_period2 = df_hist_anual_genero_top3_period2[(df_hist_anual_genero_top3_period2['Date'] <= '2010') & (df_hist_anual_genero_top3_period2['Date'] >= '2005')]\n",
    "df_hist_anual_genero_top3_period2.head(50)"
   ]
  },
  {
   "cell_type": "code",
   "execution_count": 61,
   "metadata": {},
   "outputs": [
    {
     "data": {
      "text/html": [
       "<div>\n",
       "<style scoped>\n",
       "    .dataframe tbody tr th:only-of-type {\n",
       "        vertical-align: middle;\n",
       "    }\n",
       "\n",
       "    .dataframe tbody tr th {\n",
       "        vertical-align: top;\n",
       "    }\n",
       "\n",
       "    .dataframe thead th {\n",
       "        text-align: right;\n",
       "    }\n",
       "</style>\n",
       "<table border=\"1\" class=\"dataframe\">\n",
       "  <thead>\n",
       "    <tr style=\"text-align: right;\">\n",
       "      <th></th>\n",
       "      <th>Date</th>\n",
       "      <th>Genre</th>\n",
       "      <th>Earnings</th>\n",
       "      <th>Players</th>\n",
       "      <th>Tournaments</th>\n",
       "      <th>RatioEarningsPerTournaments</th>\n",
       "    </tr>\n",
       "  </thead>\n",
       "  <tbody>\n",
       "    <tr>\n",
       "      <th>83</th>\n",
       "      <td>2011</td>\n",
       "      <td>Strategy</td>\n",
       "      <td>3832204.89</td>\n",
       "      <td>2204</td>\n",
       "      <td>934</td>\n",
       "      <td>4103.00</td>\n",
       "    </tr>\n",
       "    <tr>\n",
       "      <th>78</th>\n",
       "      <td>2011</td>\n",
       "      <td>First-Person Shooter</td>\n",
       "      <td>3407173.95</td>\n",
       "      <td>3032</td>\n",
       "      <td>271</td>\n",
       "      <td>12572.60</td>\n",
       "    </tr>\n",
       "    <tr>\n",
       "      <th>79</th>\n",
       "      <td>2011</td>\n",
       "      <td>Multiplayer Online Battle Arena</td>\n",
       "      <td>2618685.78</td>\n",
       "      <td>1473</td>\n",
       "      <td>222</td>\n",
       "      <td>11795.88</td>\n",
       "    </tr>\n",
       "    <tr>\n",
       "      <th>87</th>\n",
       "      <td>2012</td>\n",
       "      <td>Multiplayer Online Battle Arena</td>\n",
       "      <td>6943234.60</td>\n",
       "      <td>3835</td>\n",
       "      <td>565</td>\n",
       "      <td>12288.91</td>\n",
       "    </tr>\n",
       "    <tr>\n",
       "      <th>91</th>\n",
       "      <td>2012</td>\n",
       "      <td>Strategy</td>\n",
       "      <td>4573800.37</td>\n",
       "      <td>2626</td>\n",
       "      <td>826</td>\n",
       "      <td>5537.29</td>\n",
       "    </tr>\n",
       "    <tr>\n",
       "      <th>86</th>\n",
       "      <td>2012</td>\n",
       "      <td>First-Person Shooter</td>\n",
       "      <td>2090701.24</td>\n",
       "      <td>3093</td>\n",
       "      <td>315</td>\n",
       "      <td>6637.15</td>\n",
       "    </tr>\n",
       "    <tr>\n",
       "      <th>96</th>\n",
       "      <td>2013</td>\n",
       "      <td>Multiplayer Online Battle Arena</td>\n",
       "      <td>11496008.96</td>\n",
       "      <td>5113</td>\n",
       "      <td>614</td>\n",
       "      <td>18723.14</td>\n",
       "    </tr>\n",
       "    <tr>\n",
       "      <th>100</th>\n",
       "      <td>2013</td>\n",
       "      <td>Strategy</td>\n",
       "      <td>4530809.73</td>\n",
       "      <td>2437</td>\n",
       "      <td>641</td>\n",
       "      <td>7068.35</td>\n",
       "    </tr>\n",
       "    <tr>\n",
       "      <th>95</th>\n",
       "      <td>2013</td>\n",
       "      <td>First-Person Shooter</td>\n",
       "      <td>4132884.56</td>\n",
       "      <td>3912</td>\n",
       "      <td>430</td>\n",
       "      <td>9611.36</td>\n",
       "    </tr>\n",
       "    <tr>\n",
       "      <th>104</th>\n",
       "      <td>2014</td>\n",
       "      <td>Multiplayer Online Battle Arena</td>\n",
       "      <td>25731262.94</td>\n",
       "      <td>6741</td>\n",
       "      <td>701</td>\n",
       "      <td>36706.51</td>\n",
       "    </tr>\n",
       "    <tr>\n",
       "      <th>103</th>\n",
       "      <td>2014</td>\n",
       "      <td>First-Person Shooter</td>\n",
       "      <td>4902534.36</td>\n",
       "      <td>5102</td>\n",
       "      <td>629</td>\n",
       "      <td>7794.17</td>\n",
       "    </tr>\n",
       "    <tr>\n",
       "      <th>108</th>\n",
       "      <td>2014</td>\n",
       "      <td>Strategy</td>\n",
       "      <td>4722772.88</td>\n",
       "      <td>2416</td>\n",
       "      <td>718</td>\n",
       "      <td>6577.68</td>\n",
       "    </tr>\n",
       "    <tr>\n",
       "      <th>113</th>\n",
       "      <td>2015</td>\n",
       "      <td>Multiplayer Online Battle Arena</td>\n",
       "      <td>45927724.22</td>\n",
       "      <td>10062</td>\n",
       "      <td>951</td>\n",
       "      <td>48294.14</td>\n",
       "    </tr>\n",
       "    <tr>\n",
       "      <th>112</th>\n",
       "      <td>2015</td>\n",
       "      <td>First-Person Shooter</td>\n",
       "      <td>10895755.91</td>\n",
       "      <td>11580</td>\n",
       "      <td>1427</td>\n",
       "      <td>7635.43</td>\n",
       "    </tr>\n",
       "    <tr>\n",
       "      <th>119</th>\n",
       "      <td>2015</td>\n",
       "      <td>Strategy</td>\n",
       "      <td>4908239.65</td>\n",
       "      <td>3089</td>\n",
       "      <td>890</td>\n",
       "      <td>5514.88</td>\n",
       "    </tr>\n",
       "    <tr>\n",
       "      <th>125</th>\n",
       "      <td>2016</td>\n",
       "      <td>Multiplayer Online Battle Arena</td>\n",
       "      <td>55328614.24</td>\n",
       "      <td>8083</td>\n",
       "      <td>515</td>\n",
       "      <td>107434.20</td>\n",
       "    </tr>\n",
       "    <tr>\n",
       "      <th>124</th>\n",
       "      <td>2016</td>\n",
       "      <td>First-Person Shooter</td>\n",
       "      <td>29326694.18</td>\n",
       "      <td>15772</td>\n",
       "      <td>1358</td>\n",
       "      <td>21595.50</td>\n",
       "    </tr>\n",
       "    <tr>\n",
       "      <th>131</th>\n",
       "      <td>2016</td>\n",
       "      <td>Strategy</td>\n",
       "      <td>4659522.74</td>\n",
       "      <td>2565</td>\n",
       "      <td>894</td>\n",
       "      <td>5211.99</td>\n",
       "    </tr>\n",
       "    <tr>\n",
       "      <th>137</th>\n",
       "      <td>2017</td>\n",
       "      <td>Multiplayer Online Battle Arena</td>\n",
       "      <td>60194087.70</td>\n",
       "      <td>8717</td>\n",
       "      <td>483</td>\n",
       "      <td>124625.44</td>\n",
       "    </tr>\n",
       "    <tr>\n",
       "      <th>136</th>\n",
       "      <td>2017</td>\n",
       "      <td>First-Person Shooter</td>\n",
       "      <td>34438710.13</td>\n",
       "      <td>19618</td>\n",
       "      <td>1565</td>\n",
       "      <td>22005.57</td>\n",
       "    </tr>\n",
       "    <tr>\n",
       "      <th>143</th>\n",
       "      <td>2017</td>\n",
       "      <td>Strategy</td>\n",
       "      <td>6162966.47</td>\n",
       "      <td>3175</td>\n",
       "      <td>1063</td>\n",
       "      <td>5797.71</td>\n",
       "    </tr>\n",
       "  </tbody>\n",
       "</table>\n",
       "</div>"
      ],
      "text/plain": [
       "     Date                            Genre    Earnings  Players  Tournaments  \\\n",
       "83   2011                         Strategy  3832204.89     2204          934   \n",
       "78   2011             First-Person Shooter  3407173.95     3032          271   \n",
       "79   2011  Multiplayer Online Battle Arena  2618685.78     1473          222   \n",
       "87   2012  Multiplayer Online Battle Arena  6943234.60     3835          565   \n",
       "91   2012                         Strategy  4573800.37     2626          826   \n",
       "86   2012             First-Person Shooter  2090701.24     3093          315   \n",
       "96   2013  Multiplayer Online Battle Arena 11496008.96     5113          614   \n",
       "100  2013                         Strategy  4530809.73     2437          641   \n",
       "95   2013             First-Person Shooter  4132884.56     3912          430   \n",
       "104  2014  Multiplayer Online Battle Arena 25731262.94     6741          701   \n",
       "103  2014             First-Person Shooter  4902534.36     5102          629   \n",
       "108  2014                         Strategy  4722772.88     2416          718   \n",
       "113  2015  Multiplayer Online Battle Arena 45927724.22    10062          951   \n",
       "112  2015             First-Person Shooter 10895755.91    11580         1427   \n",
       "119  2015                         Strategy  4908239.65     3089          890   \n",
       "125  2016  Multiplayer Online Battle Arena 55328614.24     8083          515   \n",
       "124  2016             First-Person Shooter 29326694.18    15772         1358   \n",
       "131  2016                         Strategy  4659522.74     2565          894   \n",
       "137  2017  Multiplayer Online Battle Arena 60194087.70     8717          483   \n",
       "136  2017             First-Person Shooter 34438710.13    19618         1565   \n",
       "143  2017                         Strategy  6162966.47     3175         1063   \n",
       "\n",
       "     RatioEarningsPerTournaments  \n",
       "83                       4103.00  \n",
       "78                      12572.60  \n",
       "79                      11795.88  \n",
       "87                      12288.91  \n",
       "91                       5537.29  \n",
       "86                       6637.15  \n",
       "96                      18723.14  \n",
       "100                      7068.35  \n",
       "95                       9611.36  \n",
       "104                     36706.51  \n",
       "103                      7794.17  \n",
       "108                      6577.68  \n",
       "113                     48294.14  \n",
       "112                      7635.43  \n",
       "119                      5514.88  \n",
       "125                    107434.20  \n",
       "124                     21595.50  \n",
       "131                      5211.99  \n",
       "137                    124625.44  \n",
       "136                     22005.57  \n",
       "143                      5797.71  "
      ]
     },
     "execution_count": 61,
     "metadata": {},
     "output_type": "execute_result"
    }
   ],
   "source": [
    "df_hist_anual_genero_top3_period3 = df_hist_anual_genero_top3.copy()\n",
    "df_hist_anual_genero_top3_period3 = df_hist_anual_genero_top3_period3[(df_hist_anual_genero_top3_period3['Date'] <= '2017') & (df_hist_anual_genero_top3_period3['Date'] >= '2011')]\n",
    "df_hist_anual_genero_top3_period3.head(50)"
   ]
  },
  {
   "cell_type": "code",
   "execution_count": 62,
   "metadata": {},
   "outputs": [
    {
     "data": {
      "text/html": [
       "<div>\n",
       "<style scoped>\n",
       "    .dataframe tbody tr th:only-of-type {\n",
       "        vertical-align: middle;\n",
       "    }\n",
       "\n",
       "    .dataframe tbody tr th {\n",
       "        vertical-align: top;\n",
       "    }\n",
       "\n",
       "    .dataframe thead th {\n",
       "        text-align: right;\n",
       "    }\n",
       "</style>\n",
       "<table border=\"1\" class=\"dataframe\">\n",
       "  <thead>\n",
       "    <tr style=\"text-align: right;\">\n",
       "      <th></th>\n",
       "      <th>Date</th>\n",
       "      <th>Genre</th>\n",
       "      <th>Earnings</th>\n",
       "      <th>Players</th>\n",
       "      <th>Tournaments</th>\n",
       "      <th>RatioEarningsPerTournaments</th>\n",
       "    </tr>\n",
       "  </thead>\n",
       "  <tbody>\n",
       "    <tr>\n",
       "      <th>149</th>\n",
       "      <td>2018</td>\n",
       "      <td>Multiplayer Online Battle Arena</td>\n",
       "      <td>70621382.67</td>\n",
       "      <td>9966</td>\n",
       "      <td>468</td>\n",
       "      <td>150900.39</td>\n",
       "    </tr>\n",
       "    <tr>\n",
       "      <th>148</th>\n",
       "      <td>2018</td>\n",
       "      <td>First-Person Shooter</td>\n",
       "      <td>44009629.15</td>\n",
       "      <td>20178</td>\n",
       "      <td>1678</td>\n",
       "      <td>26227.43</td>\n",
       "    </tr>\n",
       "    <tr>\n",
       "      <th>145</th>\n",
       "      <td>2018</td>\n",
       "      <td>Battle Royale</td>\n",
       "      <td>29201551.44</td>\n",
       "      <td>5721</td>\n",
       "      <td>323</td>\n",
       "      <td>90407.28</td>\n",
       "    </tr>\n",
       "    <tr>\n",
       "      <th>157</th>\n",
       "      <td>2019</td>\n",
       "      <td>Battle Royale</td>\n",
       "      <td>100154934.46</td>\n",
       "      <td>16022</td>\n",
       "      <td>768</td>\n",
       "      <td>130410.07</td>\n",
       "    </tr>\n",
       "    <tr>\n",
       "      <th>161</th>\n",
       "      <td>2019</td>\n",
       "      <td>Multiplayer Online Battle Arena</td>\n",
       "      <td>70153233.06</td>\n",
       "      <td>10116</td>\n",
       "      <td>529</td>\n",
       "      <td>132614.81</td>\n",
       "    </tr>\n",
       "    <tr>\n",
       "      <th>160</th>\n",
       "      <td>2019</td>\n",
       "      <td>First-Person Shooter</td>\n",
       "      <td>47589736.35</td>\n",
       "      <td>18646</td>\n",
       "      <td>1312</td>\n",
       "      <td>36272.66</td>\n",
       "    </tr>\n",
       "    <tr>\n",
       "      <th>172</th>\n",
       "      <td>2020</td>\n",
       "      <td>First-Person Shooter</td>\n",
       "      <td>46566140.39</td>\n",
       "      <td>22223</td>\n",
       "      <td>1505</td>\n",
       "      <td>30940.96</td>\n",
       "    </tr>\n",
       "    <tr>\n",
       "      <th>169</th>\n",
       "      <td>2020</td>\n",
       "      <td>Battle Royale</td>\n",
       "      <td>36276951.37</td>\n",
       "      <td>15499</td>\n",
       "      <td>736</td>\n",
       "      <td>49289.34</td>\n",
       "    </tr>\n",
       "    <tr>\n",
       "      <th>173</th>\n",
       "      <td>2020</td>\n",
       "      <td>Multiplayer Online Battle Arena</td>\n",
       "      <td>30962139.55</td>\n",
       "      <td>8524</td>\n",
       "      <td>347</td>\n",
       "      <td>89228.07</td>\n",
       "    </tr>\n",
       "    <tr>\n",
       "      <th>185</th>\n",
       "      <td>2021</td>\n",
       "      <td>Multiplayer Online Battle Arena</td>\n",
       "      <td>80514963.01</td>\n",
       "      <td>10439</td>\n",
       "      <td>343</td>\n",
       "      <td>234737.50</td>\n",
       "    </tr>\n",
       "    <tr>\n",
       "      <th>181</th>\n",
       "      <td>2021</td>\n",
       "      <td>Battle Royale</td>\n",
       "      <td>70933755.52</td>\n",
       "      <td>13427</td>\n",
       "      <td>579</td>\n",
       "      <td>122510.80</td>\n",
       "    </tr>\n",
       "    <tr>\n",
       "      <th>184</th>\n",
       "      <td>2021</td>\n",
       "      <td>First-Person Shooter</td>\n",
       "      <td>63926516.68</td>\n",
       "      <td>27086</td>\n",
       "      <td>1627</td>\n",
       "      <td>39291.04</td>\n",
       "    </tr>\n",
       "    <tr>\n",
       "      <th>197</th>\n",
       "      <td>2022</td>\n",
       "      <td>Multiplayer Online Battle Arena</td>\n",
       "      <td>89010159.85</td>\n",
       "      <td>11748</td>\n",
       "      <td>562</td>\n",
       "      <td>158381.07</td>\n",
       "    </tr>\n",
       "    <tr>\n",
       "      <th>193</th>\n",
       "      <td>2022</td>\n",
       "      <td>Battle Royale</td>\n",
       "      <td>63075848.18</td>\n",
       "      <td>13788</td>\n",
       "      <td>666</td>\n",
       "      <td>94708.48</td>\n",
       "    </tr>\n",
       "    <tr>\n",
       "      <th>196</th>\n",
       "      <td>2022</td>\n",
       "      <td>First-Person Shooter</td>\n",
       "      <td>56210217.94</td>\n",
       "      <td>21458</td>\n",
       "      <td>1270</td>\n",
       "      <td>44260.01</td>\n",
       "    </tr>\n",
       "    <tr>\n",
       "      <th>209</th>\n",
       "      <td>2023</td>\n",
       "      <td>Multiplayer Online Battle Arena</td>\n",
       "      <td>43316877.32</td>\n",
       "      <td>6781</td>\n",
       "      <td>240</td>\n",
       "      <td>180486.99</td>\n",
       "    </tr>\n",
       "    <tr>\n",
       "      <th>208</th>\n",
       "      <td>2023</td>\n",
       "      <td>First-Person Shooter</td>\n",
       "      <td>41595437.18</td>\n",
       "      <td>13157</td>\n",
       "      <td>540</td>\n",
       "      <td>77028.59</td>\n",
       "    </tr>\n",
       "    <tr>\n",
       "      <th>205</th>\n",
       "      <td>2023</td>\n",
       "      <td>Battle Royale</td>\n",
       "      <td>37334793.92</td>\n",
       "      <td>8567</td>\n",
       "      <td>364</td>\n",
       "      <td>102568.12</td>\n",
       "    </tr>\n",
       "  </tbody>\n",
       "</table>\n",
       "</div>"
      ],
      "text/plain": [
       "     Date                            Genre     Earnings  Players  Tournaments  \\\n",
       "149  2018  Multiplayer Online Battle Arena  70621382.67     9966          468   \n",
       "148  2018             First-Person Shooter  44009629.15    20178         1678   \n",
       "145  2018                    Battle Royale  29201551.44     5721          323   \n",
       "157  2019                    Battle Royale 100154934.46    16022          768   \n",
       "161  2019  Multiplayer Online Battle Arena  70153233.06    10116          529   \n",
       "160  2019             First-Person Shooter  47589736.35    18646         1312   \n",
       "172  2020             First-Person Shooter  46566140.39    22223         1505   \n",
       "169  2020                    Battle Royale  36276951.37    15499          736   \n",
       "173  2020  Multiplayer Online Battle Arena  30962139.55     8524          347   \n",
       "185  2021  Multiplayer Online Battle Arena  80514963.01    10439          343   \n",
       "181  2021                    Battle Royale  70933755.52    13427          579   \n",
       "184  2021             First-Person Shooter  63926516.68    27086         1627   \n",
       "197  2022  Multiplayer Online Battle Arena  89010159.85    11748          562   \n",
       "193  2022                    Battle Royale  63075848.18    13788          666   \n",
       "196  2022             First-Person Shooter  56210217.94    21458         1270   \n",
       "209  2023  Multiplayer Online Battle Arena  43316877.32     6781          240   \n",
       "208  2023             First-Person Shooter  41595437.18    13157          540   \n",
       "205  2023                    Battle Royale  37334793.92     8567          364   \n",
       "\n",
       "     RatioEarningsPerTournaments  \n",
       "149                    150900.39  \n",
       "148                     26227.43  \n",
       "145                     90407.28  \n",
       "157                    130410.07  \n",
       "161                    132614.81  \n",
       "160                     36272.66  \n",
       "172                     30940.96  \n",
       "169                     49289.34  \n",
       "173                     89228.07  \n",
       "185                    234737.50  \n",
       "181                    122510.80  \n",
       "184                     39291.04  \n",
       "197                    158381.07  \n",
       "193                     94708.48  \n",
       "196                     44260.01  \n",
       "209                    180486.99  \n",
       "208                     77028.59  \n",
       "205                    102568.12  "
      ]
     },
     "execution_count": 62,
     "metadata": {},
     "output_type": "execute_result"
    }
   ],
   "source": [
    "df_hist_anual_genero_top3_period4 = df_hist_anual_genero_top3.copy()\n",
    "df_hist_anual_genero_top3_period4 = df_hist_anual_genero_top3_period4[(df_hist_anual_genero_top3_period4['Date'] <= '2023') & (df_hist_anual_genero_top3_period4['Date'] >= '2018')]\n",
    "df_hist_anual_genero_top3_period4.head(50)"
   ]
  },
  {
   "cell_type": "code",
   "execution_count": 63,
   "metadata": {},
   "outputs": [
    {
     "data": {
      "text/plain": [
       "<Figure size 2000x1500 with 0 Axes>"
      ]
     },
     "metadata": {},
     "output_type": "display_data"
    },
    {
     "data": {
      "image/png": "[encoded data removed]",
      "text/plain": [
       "<Figure size 689.25x500 with 1 Axes>"
      ]
     },
     "metadata": {},
     "output_type": "display_data"
    }
   ],
   "source": [
    "plt.figure(figsize=(20,15))\n",
    "sns.catplot(x=\"Date\",\n",
    "            y=\"Earnings\",\n",
    "            hue=\"Genre\",\n",
    "            kind=\"bar\",\n",
    "            data=df_hist_anual_genero_top3_period1,\n",
    "            errorbar=None);"
   ]
  },
  {
   "cell_type": "code",
   "execution_count": 64,
   "metadata": {},
   "outputs": [
    {
     "data": {
      "text/plain": [
       "<Figure size 2000x1500 with 0 Axes>"
      ]
     },
     "metadata": {},
     "output_type": "display_data"
    },
    {
     "data": {
      "image/png": "[encoded data removed]",
      "text/plain": [
       "<Figure size 689.25x500 with 1 Axes>"
      ]
     },
     "metadata": {},
     "output_type": "display_data"
    }
   ],
   "source": [
    "plt.figure(figsize=(20,15))\n",
    "sns.catplot(x=\"Date\",\n",
    "            y=\"Earnings\",\n",
    "            hue=\"Genre\",\n",
    "            kind=\"bar\",\n",
    "            data=df_hist_anual_genero_top3_period2,\n",
    "            errorbar=None);"
   ]
  },
  {
   "cell_type": "code",
   "execution_count": 65,
   "metadata": {},
   "outputs": [
    {
     "data": {
      "text/plain": [
       "<Figure size 2000x1500 with 0 Axes>"
      ]
     },
     "metadata": {},
     "output_type": "display_data"
    },
    {
     "data": {
      "image/png": "[encoded data removed]",
      "text/plain": [
       "<Figure size 768.125x500 with 1 Axes>"
      ]
     },
     "metadata": {},
     "output_type": "display_data"
    }
   ],
   "source": [
    "plt.figure(figsize=(20,15))\n",
    "sns.catplot(x=\"Date\",\n",
    "            y=\"Earnings\",\n",
    "            hue=\"Genre\",\n",
    "            kind=\"bar\",\n",
    "            data=df_hist_anual_genero_top3_period3,\n",
    "            errorbar=None);"
   ]
  },
  {
   "cell_type": "code",
   "execution_count": 66,
   "metadata": {},
   "outputs": [
    {
     "data": {
      "text/plain": [
       "<Figure size 2000x1500 with 0 Axes>"
      ]
     },
     "metadata": {},
     "output_type": "display_data"
    },
    {
     "data": {
      "image/png": "[encoded data removed]",
      "text/plain": [
       "<Figure size 768.125x500 with 1 Axes>"
      ]
     },
     "metadata": {},
     "output_type": "display_data"
    }
   ],
   "source": [
    "plt.figure(figsize=(20,15))\n",
    "sns.catplot(x=\"Date\",\n",
    "            y=\"Earnings\",\n",
    "            hue=\"Genre\",\n",
    "            kind=\"bar\",\n",
    "            data=df_hist_anual_genero_top3_period4,\n",
    "            errorbar=None);"
   ]
  },
  {
   "cell_type": "code",
   "execution_count": 67,
   "metadata": {},
   "outputs": [
    {
     "data": {
      "text/plain": [
       "'rgba(20, 112, 100, 0.8)'"
      ]
     },
     "execution_count": 67,
     "metadata": {},
     "output_type": "execute_result"
    }
   ],
   "source": [
    "'rgba(16, 112, 2, 0.8)'\n",
    "'rgba(200, 65, 10, 0.8)'\n",
    "'rgba(20, 112, 100, 0.8)'"
   ]
  },
  {
   "cell_type": "code",
   "execution_count": 68,
   "metadata": {},
   "outputs": [
    {
     "data": {
      "application/vnd.plotly.v1+json": {
       "config": {
        "linkText": "Export to plot.ly",
        "plotlyServerURL": "https://plot.ly",
        "showLink": false
       },
       "data": [
        {
         "marker": {
          "color": "rgba(16, 112, 2, 0.8)"
         },
         "mode": "lines",
         "name": "Strategy",
         "type": "scatter",
         "x": [
          "2011",
          "2012",
          "2013",
          "2014",
          "2015",
          "2016",
          "2017"
         ],
         "y": [
          3832204.89,
          4573800.37,
          4530809.7299999995,
          4722772.88,
          4908239.65,
          4659522.74,
          6162966.47
         ]
        },
        {
         "marker": {
          "color": "rgba(200, 65, 10, 0.8)"
         },
         "mode": "lines",
         "name": "First-Person Shooter",
         "type": "scatter",
         "x": [
          "2011",
          "2012",
          "2013",
          "2014",
          "2015",
          "2016",
          "2017"
         ],
         "y": [
          3407173.95,
          2090701.24,
          4132884.56,
          4902534.36,
          10895755.91,
          29326694.18,
          34438710.13
         ]
        },
        {
         "marker": {
          "color": "rgba(20, 112, 100, 0.8)"
         },
         "mode": "lines",
         "name": "Multiplayer Online Battle Arena",
         "type": "scatter",
         "x": [
          "2011",
          "2012",
          "2013",
          "2014",
          "2015",
          "2016",
          "2017"
         ],
         "y": [
          2618685.78,
          6943234.6,
          11496008.96,
          25731262.939999998,
          45927724.22,
          55328614.24,
          60194087.7
         ]
        }
       ],
       "layout": {
        "template": {
         "data": {
          "bar": [
           {
            "error_x": {
             "color": "#2a3f5f"
            },
            "error_y": {
             "color": "#2a3f5f"
            },
            "marker": {
             "line": {
              "color": "#E5ECF6",
              "width": 0.5
             },
             "pattern": {
              "fillmode": "overlay",
              "size": 10,
              "solidity": 0.2
             }
            },
            "type": "bar"
           }
          ],
          "barpolar": [
           {
            "marker": {
             "line": {
              "color": "#E5ECF6",
              "width": 0.5
             },
             "pattern": {
              "fillmode": "overlay",
              "size": 10,
              "solidity": 0.2
             }
            },
            "type": "barpolar"
           }
          ],
          "carpet": [
           {
            "aaxis": {
             "endlinecolor": "#2a3f5f",
             "gridcolor": "white",
             "linecolor": "white",
             "minorgridcolor": "white",
             "startlinecolor": "#2a3f5f"
            },
            "baxis": {
             "endlinecolor": "#2a3f5f",
             "gridcolor": "white",
             "linecolor": "white",
             "minorgridcolor": "white",
             "startlinecolor": "#2a3f5f"
            },
            "type": "carpet"
           }
          ],
          "choropleth": [
           {
            "colorbar": {
             "outlinewidth": 0,
             "ticks": ""
            },
            "type": "choropleth"
           }
          ],
          "contour": [
           {
            "colorbar": {
             "outlinewidth": 0,
             "ticks": ""
            },
            "colorscale": [
             [
              0,
              "#0d0887"
             ],
             [
              0.1111111111111111,
              "#46039f"
             ],
             [
              0.2222222222222222,
              "#7201a8"
             ],
             [
              0.3333333333333333,
              "#9c179e"
             ],
             [
              0.4444444444444444,
              "#bd3786"
             ],
             [
              0.5555555555555556,
              "#d8576b"
             ],
             [
              0.6666666666666666,
              "#ed7953"
             ],
             [
              0.7777777777777778,
              "#fb9f3a"
             ],
             [
              0.8888888888888888,
              "#fdca26"
             ],
             [
              1,
              "#f0f921"
             ]
            ],
            "type": "contour"
           }
          ],
          "contourcarpet": [
           {
            "colorbar": {
             "outlinewidth": 0,
             "ticks": ""
            },
            "type": "contourcarpet"
           }
          ],
          "heatmap": [
           {
            "colorbar": {
             "outlinewidth": 0,
             "ticks": ""
            },
            "colorscale": [
             [
              0,
              "#0d0887"
             ],
             [
              0.1111111111111111,
              "#46039f"
             ],
             [
              0.2222222222222222,
              "#7201a8"
             ],
             [
              0.3333333333333333,
              "#9c179e"
             ],
             [
              0.4444444444444444,
              "#bd3786"
             ],
             [
              0.5555555555555556,
              "#d8576b"
             ],
             [
              0.6666666666666666,
              "#ed7953"
             ],
             [
              0.7777777777777778,
              "#fb9f3a"
             ],
             [
              0.8888888888888888,
              "#fdca26"
             ],
             [
              1,
              "#f0f921"
             ]
            ],
            "type": "heatmap"
           }
          ],
          "heatmapgl": [
           {
            "colorbar": {
             "outlinewidth": 0,
             "ticks": ""
            },
            "colorscale": [
             [
              0,
              "#0d0887"
             ],
             [
              0.1111111111111111,
              "#46039f"
             ],
             [
              0.2222222222222222,
              "#7201a8"
             ],
             [
              0.3333333333333333,
              "#9c179e"
             ],
             [
              0.4444444444444444,
              "#bd3786"
             ],
             [
              0.5555555555555556,
              "#d8576b"
             ],
             [
              0.6666666666666666,
              "#ed7953"
             ],
             [
              0.7777777777777778,
              "#fb9f3a"
             ],
             [
              0.8888888888888888,
              "#fdca26"
             ],
             [
              1,
              "#f0f921"
             ]
            ],
            "type": "heatmapgl"
           }
          ],
          "histogram": [
           {
            "marker": {
             "pattern": {
              "fillmode": "overlay",
              "size": 10,
              "solidity": 0.2
             }
            },
            "type": "histogram"
           }
          ],
          "histogram2d": [
           {
            "colorbar": {
             "outlinewidth": 0,
             "ticks": ""
            },
            "colorscale": [
             [
              0,
              "#0d0887"
             ],
             [
              0.1111111111111111,
              "#46039f"
             ],
             [
              0.2222222222222222,
              "#7201a8"
             ],
             [
              0.3333333333333333,
              "#9c179e"
             ],
             [
              0.4444444444444444,
              "#bd3786"
             ],
             [
              0.5555555555555556,
              "#d8576b"
             ],
             [
              0.6666666666666666,
              "#ed7953"
             ],
             [
              0.7777777777777778,
              "#fb9f3a"
             ],
             [
              0.8888888888888888,
              "#fdca26"
             ],
             [
              1,
              "#f0f921"
             ]
            ],
            "type": "histogram2d"
           }
          ],
          "histogram2dcontour": [
           {
            "colorbar": {
             "outlinewidth": 0,
             "ticks": ""
            },
            "colorscale": [
             [
              0,
              "#0d0887"
             ],
             [
              0.1111111111111111,
              "#46039f"
             ],
             [
              0.2222222222222222,
              "#7201a8"
             ],
             [
              0.3333333333333333,
              "#9c179e"
             ],
             [
              0.4444444444444444,
              "#bd3786"
             ],
             [
              0.5555555555555556,
              "#d8576b"
             ],
             [
              0.6666666666666666,
              "#ed7953"
             ],
             [
              0.7777777777777778,
              "#fb9f3a"
             ],
             [
              0.8888888888888888,
              "#fdca26"
             ],
             [
              1,
              "#f0f921"
             ]
            ],
            "type": "histogram2dcontour"
           }
          ],
          "mesh3d": [
           {
            "colorbar": {
             "outlinewidth": 0,
             "ticks": ""
            },
            "type": "mesh3d"
           }
          ],
          "parcoords": [
           {
            "line": {
             "colorbar": {
              "outlinewidth": 0,
              "ticks": ""
             }
            },
            "type": "parcoords"
           }
          ],
          "pie": [
           {
            "automargin": true,
            "type": "pie"
           }
          ],
          "scatter": [
           {
            "fillpattern": {
             "fillmode": "overlay",
             "size": 10,
             "solidity": 0.2
            },
            "type": "scatter"
           }
          ],
          "scatter3d": [
           {
            "line": {
             "colorbar": {
              "outlinewidth": 0,
              "ticks": ""
             }
            },
            "marker": {
             "colorbar": {
              "outlinewidth": 0,
              "ticks": ""
             }
            },
            "type": "scatter3d"
           }
          ],
          "scattercarpet": [
           {
            "marker": {
             "colorbar": {
              "outlinewidth": 0,
              "ticks": ""
             }
            },
            "type": "scattercarpet"
           }
          ],
          "scattergeo": [
           {
            "marker": {
             "colorbar": {
              "outlinewidth": 0,
              "ticks": ""
             }
            },
            "type": "scattergeo"
           }
          ],
          "scattergl": [
           {
            "marker": {
             "colorbar": {
              "outlinewidth": 0,
              "ticks": ""
             }
            },
            "type": "scattergl"
           }
          ],
          "scattermapbox": [
           {
            "marker": {
             "colorbar": {
              "outlinewidth": 0,
              "ticks": ""
             }
            },
            "type": "scattermapbox"
           }
          ],
          "scatterpolar": [
           {
            "marker": {
             "colorbar": {
              "outlinewidth": 0,
              "ticks": ""
             }
            },
            "type": "scatterpolar"
           }
          ],
          "scatterpolargl": [
           {
            "marker": {
             "colorbar": {
              "outlinewidth": 0,
              "ticks": ""
             }
            },
            "type": "scatterpolargl"
           }
          ],
          "scatterternary": [
           {
            "marker": {
             "colorbar": {
              "outlinewidth": 0,
              "ticks": ""
             }
            },
            "type": "scatterternary"
           }
          ],
          "surface": [
           {
            "colorbar": {
             "outlinewidth": 0,
             "ticks": ""
            },
            "colorscale": [
             [
              0,
              "#0d0887"
             ],
             [
              0.1111111111111111,
              "#46039f"
             ],
             [
              0.2222222222222222,
              "#7201a8"
             ],
             [
              0.3333333333333333,
              "#9c179e"
             ],
             [
              0.4444444444444444,
              "#bd3786"
             ],
             [
              0.5555555555555556,
              "#d8576b"
             ],
             [
              0.6666666666666666,
              "#ed7953"
             ],
             [
              0.7777777777777778,
              "#fb9f3a"
             ],
             [
              0.8888888888888888,
              "#fdca26"
             ],
             [
              1,
              "#f0f921"
             ]
            ],
            "type": "surface"
           }
          ],
          "table": [
           {
            "cells": {
             "fill": {
              "color": "#EBF0F8"
             },
             "line": {
              "color": "white"
             }
            },
            "header": {
             "fill": {
              "color": "#C8D4E3"
             },
             "line": {
              "color": "white"
             }
            },
            "type": "table"
           }
          ]
         },
         "layout": {
          "annotationdefaults": {
           "arrowcolor": "#2a3f5f",
           "arrowhead": 0,
           "arrowwidth": 1
          },
          "autotypenumbers": "strict",
          "coloraxis": {
           "colorbar": {
            "outlinewidth": 0,
            "ticks": ""
           }
          },
          "colorscale": {
           "diverging": [
            [
             0,
             "#8e0152"
            ],
            [
             0.1,
             "#c51b7d"
            ],
            [
             0.2,
             "#de77ae"
            ],
            [
             0.3,
             "#f1b6da"
            ],
            [
             0.4,
             "#fde0ef"
            ],
            [
             0.5,
             "#f7f7f7"
            ],
            [
             0.6,
             "#e6f5d0"
            ],
            [
             0.7,
             "#b8e186"
            ],
            [
             0.8,
             "#7fbc41"
            ],
            [
             0.9,
             "#4d9221"
            ],
            [
             1,
             "#276419"
            ]
           ],
           "sequential": [
            [
             0,
             "#0d0887"
            ],
            [
             0.1111111111111111,
             "#46039f"
            ],
            [
             0.2222222222222222,
             "#7201a8"
            ],
            [
             0.3333333333333333,
             "#9c179e"
            ],
            [
             0.4444444444444444,
             "#bd3786"
            ],
            [
             0.5555555555555556,
             "#d8576b"
            ],
            [
             0.6666666666666666,
             "#ed7953"
            ],
            [
             0.7777777777777778,
             "#fb9f3a"
            ],
            [
             0.8888888888888888,
             "#fdca26"
            ],
            [
             1,
             "#f0f921"
            ]
           ],
           "sequentialminus": [
            [
             0,
             "#0d0887"
            ],
            [
             0.1111111111111111,
             "#46039f"
            ],
            [
             0.2222222222222222,
             "#7201a8"
            ],
            [
             0.3333333333333333,
             "#9c179e"
            ],
            [
             0.4444444444444444,
             "#bd3786"
            ],
            [
             0.5555555555555556,
             "#d8576b"
            ],
            [
             0.6666666666666666,
             "#ed7953"
            ],
            [
             0.7777777777777778,
             "#fb9f3a"
            ],
            [
             0.8888888888888888,
             "#fdca26"
            ],
            [
             1,
             "#f0f921"
            ]
           ]
          },
          "colorway": [
           "#636efa",
           "#EF553B",
           "#00cc96",
           "#ab63fa",
           "#FFA15A",
           "#19d3f3",
           "#FF6692",
           "#B6E880",
           "#FF97FF",
           "#FECB52"
          ],
          "font": {
           "color": "#2a3f5f"
          },
          "geo": {
           "bgcolor": "white",
           "lakecolor": "white",
           "landcolor": "#E5ECF6",
           "showlakes": true,
           "showland": true,
           "subunitcolor": "white"
          },
          "hoverlabel": {
           "align": "left"
          },
          "hovermode": "closest",
          "mapbox": {
           "style": "light"
          },
          "paper_bgcolor": "white",
          "plot_bgcolor": "#E5ECF6",
          "polar": {
           "angularaxis": {
            "gridcolor": "white",
            "linecolor": "white",
            "ticks": ""
           },
           "bgcolor": "#E5ECF6",
           "radialaxis": {
            "gridcolor": "white",
            "linecolor": "white",
            "ticks": ""
           }
          },
          "scene": {
           "xaxis": {
            "backgroundcolor": "#E5ECF6",
            "gridcolor": "white",
            "gridwidth": 2,
            "linecolor": "white",
            "showbackground": true,
            "ticks": "",
            "zerolinecolor": "white"
           },
           "yaxis": {
            "backgroundcolor": "#E5ECF6",
            "gridcolor": "white",
            "gridwidth": 2,
            "linecolor": "white",
            "showbackground": true,
            "ticks": "",
            "zerolinecolor": "white"
           },
           "zaxis": {
            "backgroundcolor": "#E5ECF6",
            "gridcolor": "white",
            "gridwidth": 2,
            "linecolor": "white",
            "showbackground": true,
            "ticks": "",
            "zerolinecolor": "white"
           }
          },
          "shapedefaults": {
           "line": {
            "color": "#2a3f5f"
           }
          },
          "ternary": {
           "aaxis": {
            "gridcolor": "white",
            "linecolor": "white",
            "ticks": ""
           },
           "baxis": {
            "gridcolor": "white",
            "linecolor": "white",
            "ticks": ""
           },
           "bgcolor": "#E5ECF6",
           "caxis": {
            "gridcolor": "white",
            "linecolor": "white",
            "ticks": ""
           }
          },
          "title": {
           "x": 0.05
          },
          "xaxis": {
           "automargin": true,
           "gridcolor": "white",
           "linecolor": "white",
           "ticks": "",
           "title": {
            "standoff": 15
           },
           "zerolinecolor": "white",
           "zerolinewidth": 2
          },
          "yaxis": {
           "automargin": true,
           "gridcolor": "white",
           "linecolor": "white",
           "ticks": "",
           "title": {
            "standoff": 15
           },
           "zerolinecolor": "white",
           "zerolinewidth": 2
          }
         }
        },
        "title": {
         "text": "Earnings of esports by year of top 3 genre"
        },
        "xaxis": {
         "title": {
          "text": ""
         }
        }
       }
      }
     },
     "metadata": {},
     "output_type": "display_data"
    }
   ],
   "source": [
    "colores = ['rgba(16, 112, 2, 0.8)','rgba(200, 65, 10, 0.8)','rgba(20, 112, 100, 0.8)']\n",
    "data = []\n",
    "color = 0\n",
    "for i in df_hist_anual_genero_top3_period3['Genre'].unique():\n",
    "    df_genero = df_hist_anual_genero_top3_period3[['Date','Earnings','Players','Tournaments']][df_hist_anual_genero_top3_period3['Genre'] == i]\n",
    "    df_genero['Date'] = df_genero['Date'].str[:4]\n",
    "    df_genero = df_genero.groupby('Date',as_index=False).sum()\n",
    "\n",
    "    trace1 = go.Scatter(\n",
    "                        x = df_genero['Date'],\n",
    "                        y = df_genero['Earnings'],\n",
    "                        name = i,\n",
    "                        mode= 'lines',\n",
    "                        marker = dict(color = colores[color]))\n",
    "\n",
    "    color += 1\n",
    "    data.append(trace1)\n",
    "\n",
    "layout = dict(title = 'Earnings of esports by year of top 3 genre',\n",
    "             xaxis= dict(title= '')\n",
    "           )\n",
    "\n",
    "fig = go.Figure(data = data, layout=layout)\n",
    "\n",
    "iplot(fig)"
   ]
  },
  {
   "cell_type": "code",
   "execution_count": 69,
   "metadata": {},
   "outputs": [
    {
     "data": {
      "application/vnd.plotly.v1+json": {
       "config": {
        "linkText": "Export to plot.ly",
        "plotlyServerURL": "https://plot.ly",
        "showLink": false
       },
       "data": [
        {
         "marker": {
          "color": "rgba(16, 112, 2, 0.8)"
         },
         "mode": "lines",
         "name": "Strategy",
         "type": "scatter",
         "x": [
          "2011",
          "2012",
          "2013",
          "2014",
          "2015",
          "2016",
          "2017"
         ],
         "y": [
          934,
          826,
          641,
          718,
          890,
          894,
          1063
         ]
        },
        {
         "marker": {
          "color": "rgba(200, 65, 10, 0.8)"
         },
         "mode": "lines",
         "name": "First-Person Shooter",
         "type": "scatter",
         "x": [
          "2011",
          "2012",
          "2013",
          "2014",
          "2015",
          "2016",
          "2017"
         ],
         "y": [
          271,
          315,
          430,
          629,
          1427,
          1358,
          1565
         ]
        },
        {
         "marker": {
          "color": "rgba(20, 112, 100, 0.8)"
         },
         "mode": "lines",
         "name": "Multiplayer Online Battle Arena",
         "type": "scatter",
         "x": [
          "2011",
          "2012",
          "2013",
          "2014",
          "2015",
          "2016",
          "2017"
         ],
         "y": [
          222,
          565,
          614,
          701,
          951,
          515,
          483
         ]
        }
       ],
       "layout": {
        "template": {
         "data": {
          "bar": [
           {
            "error_x": {
             "color": "#2a3f5f"
            },
            "error_y": {
             "color": "#2a3f5f"
            },
            "marker": {
             "line": {
              "color": "#E5ECF6",
              "width": 0.5
             },
             "pattern": {
              "fillmode": "overlay",
              "size": 10,
              "solidity": 0.2
             }
            },
            "type": "bar"
           }
          ],
          "barpolar": [
           {
            "marker": {
             "line": {
              "color": "#E5ECF6",
              "width": 0.5
             },
             "pattern": {
              "fillmode": "overlay",
              "size": 10,
              "solidity": 0.2
             }
            },
            "type": "barpolar"
           }
          ],
          "carpet": [
           {
            "aaxis": {
             "endlinecolor": "#2a3f5f",
             "gridcolor": "white",
             "linecolor": "white",
             "minorgridcolor": "white",
             "startlinecolor": "#2a3f5f"
            },
            "baxis": {
             "endlinecolor": "#2a3f5f",
             "gridcolor": "white",
             "linecolor": "white",
             "minorgridcolor": "white",
             "startlinecolor": "#2a3f5f"
            },
            "type": "carpet"
           }
          ],
          "choropleth": [
           {
            "colorbar": {
             "outlinewidth": 0,
             "ticks": ""
            },
            "type": "choropleth"
           }
          ],
          "contour": [
           {
            "colorbar": {
             "outlinewidth": 0,
             "ticks": ""
            },
            "colorscale": [
             [
              0,
              "#0d0887"
             ],
             [
              0.1111111111111111,
              "#46039f"
             ],
             [
              0.2222222222222222,
              "#7201a8"
             ],
             [
              0.3333333333333333,
              "#9c179e"
             ],
             [
              0.4444444444444444,
              "#bd3786"
             ],
             [
              0.5555555555555556,
              "#d8576b"
             ],
             [
              0.6666666666666666,
              "#ed7953"
             ],
             [
              0.7777777777777778,
              "#fb9f3a"
             ],
             [
              0.8888888888888888,
              "#fdca26"
             ],
             [
              1,
              "#f0f921"
             ]
            ],
            "type": "contour"
           }
          ],
          "contourcarpet": [
           {
            "colorbar": {
             "outlinewidth": 0,
             "ticks": ""
            },
            "type": "contourcarpet"
           }
          ],
          "heatmap": [
           {
            "colorbar": {
             "outlinewidth": 0,
             "ticks": ""
            },
            "colorscale": [
             [
              0,
              "#0d0887"
             ],
             [
              0.1111111111111111,
              "#46039f"
             ],
             [
              0.2222222222222222,
              "#7201a8"
             ],
             [
              0.3333333333333333,
              "#9c179e"
             ],
             [
              0.4444444444444444,
              "#bd3786"
             ],
             [
              0.5555555555555556,
              "#d8576b"
             ],
             [
              0.6666666666666666,
              "#ed7953"
             ],
             [
              0.7777777777777778,
              "#fb9f3a"
             ],
             [
              0.8888888888888888,
              "#fdca26"
             ],
             [
              1,
              "#f0f921"
             ]
            ],
            "type": "heatmap"
           }
          ],
          "heatmapgl": [
           {
            "colorbar": {
             "outlinewidth": 0,
             "ticks": ""
            },
            "colorscale": [
             [
              0,
              "#0d0887"
             ],
             [
              0.1111111111111111,
              "#46039f"
             ],
             [
              0.2222222222222222,
              "#7201a8"
             ],
             [
              0.3333333333333333,
              "#9c179e"
             ],
             [
              0.4444444444444444,
              "#bd3786"
             ],
             [
              0.5555555555555556,
              "#d8576b"
             ],
             [
              0.6666666666666666,
              "#ed7953"
             ],
             [
              0.7777777777777778,
              "#fb9f3a"
             ],
             [
              0.8888888888888888,
              "#fdca26"
             ],
             [
              1,
              "#f0f921"
             ]
            ],
            "type": "heatmapgl"
           }
          ],
          "histogram": [
           {
            "marker": {
             "pattern": {
              "fillmode": "overlay",
              "size": 10,
              "solidity": 0.2
             }
            },
            "type": "histogram"
           }
          ],
          "histogram2d": [
           {
            "colorbar": {
             "outlinewidth": 0,
             "ticks": ""
            },
            "colorscale": [
             [
              0,
              "#0d0887"
             ],
             [
              0.1111111111111111,
              "#46039f"
             ],
             [
              0.2222222222222222,
              "#7201a8"
             ],
             [
              0.3333333333333333,
              "#9c179e"
             ],
             [
              0.4444444444444444,
              "#bd3786"
             ],
             [
              0.5555555555555556,
              "#d8576b"
             ],
             [
              0.6666666666666666,
              "#ed7953"
             ],
             [
              0.7777777777777778,
              "#fb9f3a"
             ],
             [
              0.8888888888888888,
              "#fdca26"
             ],
             [
              1,
              "#f0f921"
             ]
            ],
            "type": "histogram2d"
           }
          ],
          "histogram2dcontour": [
           {
            "colorbar": {
             "outlinewidth": 0,
             "ticks": ""
            },
            "colorscale": [
             [
              0,
              "#0d0887"
             ],
             [
              0.1111111111111111,
              "#46039f"
             ],
             [
              0.2222222222222222,
              "#7201a8"
             ],
             [
              0.3333333333333333,
              "#9c179e"
             ],
             [
              0.4444444444444444,
              "#bd3786"
             ],
             [
              0.5555555555555556,
              "#d8576b"
             ],
             [
              0.6666666666666666,
              "#ed7953"
             ],
             [
              0.7777777777777778,
              "#fb9f3a"
             ],
             [
              0.8888888888888888,
              "#fdca26"
             ],
             [
              1,
              "#f0f921"
             ]
            ],
            "type": "histogram2dcontour"
           }
          ],
          "mesh3d": [
           {
            "colorbar": {
             "outlinewidth": 0,
             "ticks": ""
            },
            "type": "mesh3d"
           }
          ],
          "parcoords": [
           {
            "line": {
             "colorbar": {
              "outlinewidth": 0,
              "ticks": ""
             }
            },
            "type": "parcoords"
           }
          ],
          "pie": [
           {
            "automargin": true,
            "type": "pie"
           }
          ],
          "scatter": [
           {
            "fillpattern": {
             "fillmode": "overlay",
             "size": 10,
             "solidity": 0.2
            },
            "type": "scatter"
           }
          ],
          "scatter3d": [
           {
            "line": {
             "colorbar": {
              "outlinewidth": 0,
              "ticks": ""
             }
            },
            "marker": {
             "colorbar": {
              "outlinewidth": 0,
              "ticks": ""
             }
            },
            "type": "scatter3d"
           }
          ],
          "scattercarpet": [
           {
            "marker": {
             "colorbar": {
              "outlinewidth": 0,
              "ticks": ""
             }
            },
            "type": "scattercarpet"
           }
          ],
          "scattergeo": [
           {
            "marker": {
             "colorbar": {
              "outlinewidth": 0,
              "ticks": ""
             }
            },
            "type": "scattergeo"
           }
          ],
          "scattergl": [
           {
            "marker": {
             "colorbar": {
              "outlinewidth": 0,
              "ticks": ""
             }
            },
            "type": "scattergl"
           }
          ],
          "scattermapbox": [
           {
            "marker": {
             "colorbar": {
              "outlinewidth": 0,
              "ticks": ""
             }
            },
            "type": "scattermapbox"
           }
          ],
          "scatterpolar": [
           {
            "marker": {
             "colorbar": {
              "outlinewidth": 0,
              "ticks": ""
             }
            },
            "type": "scatterpolar"
           }
          ],
          "scatterpolargl": [
           {
            "marker": {
             "colorbar": {
              "outlinewidth": 0,
              "ticks": ""
             }
            },
            "type": "scatterpolargl"
           }
          ],
          "scatterternary": [
           {
            "marker": {
             "colorbar": {
              "outlinewidth": 0,
              "ticks": ""
             }
            },
            "type": "scatterternary"
           }
          ],
          "surface": [
           {
            "colorbar": {
             "outlinewidth": 0,
             "ticks": ""
            },
            "colorscale": [
             [
              0,
              "#0d0887"
             ],
             [
              0.1111111111111111,
              "#46039f"
             ],
             [
              0.2222222222222222,
              "#7201a8"
             ],
             [
              0.3333333333333333,
              "#9c179e"
             ],
             [
              0.4444444444444444,
              "#bd3786"
             ],
             [
              0.5555555555555556,
              "#d8576b"
             ],
             [
              0.6666666666666666,
              "#ed7953"
             ],
             [
              0.7777777777777778,
              "#fb9f3a"
             ],
             [
              0.8888888888888888,
              "#fdca26"
             ],
             [
              1,
              "#f0f921"
             ]
            ],
            "type": "surface"
           }
          ],
          "table": [
           {
            "cells": {
             "fill": {
              "color": "#EBF0F8"
             },
             "line": {
              "color": "white"
             }
            },
            "header": {
             "fill": {
              "color": "#C8D4E3"
             },
             "line": {
              "color": "white"
             }
            },
            "type": "table"
           }
          ]
         },
         "layout": {
          "annotationdefaults": {
           "arrowcolor": "#2a3f5f",
           "arrowhead": 0,
           "arrowwidth": 1
          },
          "autotypenumbers": "strict",
          "coloraxis": {
           "colorbar": {
            "outlinewidth": 0,
            "ticks": ""
           }
          },
          "colorscale": {
           "diverging": [
            [
             0,
             "#8e0152"
            ],
            [
             0.1,
             "#c51b7d"
            ],
            [
             0.2,
             "#de77ae"
            ],
            [
             0.3,
             "#f1b6da"
            ],
            [
             0.4,
             "#fde0ef"
            ],
            [
             0.5,
             "#f7f7f7"
            ],
            [
             0.6,
             "#e6f5d0"
            ],
            [
             0.7,
             "#b8e186"
            ],
            [
             0.8,
             "#7fbc41"
            ],
            [
             0.9,
             "#4d9221"
            ],
            [
             1,
             "#276419"
            ]
           ],
           "sequential": [
            [
             0,
             "#0d0887"
            ],
            [
             0.1111111111111111,
             "#46039f"
            ],
            [
             0.2222222222222222,
             "#7201a8"
            ],
            [
             0.3333333333333333,
             "#9c179e"
            ],
            [
             0.4444444444444444,
             "#bd3786"
            ],
            [
             0.5555555555555556,
             "#d8576b"
            ],
            [
             0.6666666666666666,
             "#ed7953"
            ],
            [
             0.7777777777777778,
             "#fb9f3a"
            ],
            [
             0.8888888888888888,
             "#fdca26"
            ],
            [
             1,
             "#f0f921"
            ]
           ],
           "sequentialminus": [
            [
             0,
             "#0d0887"
            ],
            [
             0.1111111111111111,
             "#46039f"
            ],
            [
             0.2222222222222222,
             "#7201a8"
            ],
            [
             0.3333333333333333,
             "#9c179e"
            ],
            [
             0.4444444444444444,
             "#bd3786"
            ],
            [
             0.5555555555555556,
             "#d8576b"
            ],
            [
             0.6666666666666666,
             "#ed7953"
            ],
            [
             0.7777777777777778,
             "#fb9f3a"
            ],
            [
             0.8888888888888888,
             "#fdca26"
            ],
            [
             1,
             "#f0f921"
            ]
           ]
          },
          "colorway": [
           "#636efa",
           "#EF553B",
           "#00cc96",
           "#ab63fa",
           "#FFA15A",
           "#19d3f3",
           "#FF6692",
           "#B6E880",
           "#FF97FF",
           "#FECB52"
          ],
          "font": {
           "color": "#2a3f5f"
          },
          "geo": {
           "bgcolor": "white",
           "lakecolor": "white",
           "landcolor": "#E5ECF6",
           "showlakes": true,
           "showland": true,
           "subunitcolor": "white"
          },
          "hoverlabel": {
           "align": "left"
          },
          "hovermode": "closest",
          "mapbox": {
           "style": "light"
          },
          "paper_bgcolor": "white",
          "plot_bgcolor": "#E5ECF6",
          "polar": {
           "angularaxis": {
            "gridcolor": "white",
            "linecolor": "white",
            "ticks": ""
           },
           "bgcolor": "#E5ECF6",
           "radialaxis": {
            "gridcolor": "white",
            "linecolor": "white",
            "ticks": ""
           }
          },
          "scene": {
           "xaxis": {
            "backgroundcolor": "#E5ECF6",
            "gridcolor": "white",
            "gridwidth": 2,
            "linecolor": "white",
            "showbackground": true,
            "ticks": "",
            "zerolinecolor": "white"
           },
           "yaxis": {
            "backgroundcolor": "#E5ECF6",
            "gridcolor": "white",
            "gridwidth": 2,
            "linecolor": "white",
            "showbackground": true,
            "ticks": "",
            "zerolinecolor": "white"
           },
           "zaxis": {
            "backgroundcolor": "#E5ECF6",
            "gridcolor": "white",
            "gridwidth": 2,
            "linecolor": "white",
            "showbackground": true,
            "ticks": "",
            "zerolinecolor": "white"
           }
          },
          "shapedefaults": {
           "line": {
            "color": "#2a3f5f"
           }
          },
          "ternary": {
           "aaxis": {
            "gridcolor": "white",
            "linecolor": "white",
            "ticks": ""
           },
           "baxis": {
            "gridcolor": "white",
            "linecolor": "white",
            "ticks": ""
           },
           "bgcolor": "#E5ECF6",
           "caxis": {
            "gridcolor": "white",
            "linecolor": "white",
            "ticks": ""
           }
          },
          "title": {
           "x": 0.05
          },
          "xaxis": {
           "automargin": true,
           "gridcolor": "white",
           "linecolor": "white",
           "ticks": "",
           "title": {
            "standoff": 15
           },
           "zerolinecolor": "white",
           "zerolinewidth": 2
          },
          "yaxis": {
           "automargin": true,
           "gridcolor": "white",
           "linecolor": "white",
           "ticks": "",
           "title": {
            "standoff": 15
           },
           "zerolinecolor": "white",
           "zerolinewidth": 2
          }
         }
        },
        "title": {
         "text": "Tournaments of esports by year of top 3 genre"
        },
        "xaxis": {
         "title": {
          "text": ""
         }
        }
       }
      }
     },
     "metadata": {},
     "output_type": "display_data"
    }
   ],
   "source": [
    "colores = ['rgba(16, 112, 2, 0.8)','rgba(200, 65, 10, 0.8)','rgba(20, 112, 100, 0.8)']\n",
    "data = []\n",
    "color = 0\n",
    "for i in df_hist_anual_genero_top3_period3['Genre'].unique():\n",
    "    df_genero = df_hist_anual_genero_top3_period3[['Date','Earnings','Players','Tournaments']][df_hist_anual_genero_top3_period3['Genre'] == i]\n",
    "    df_genero['Date'] = df_genero['Date'].str[:4]\n",
    "    df_genero = df_genero.groupby('Date',as_index=False).sum()\n",
    "\n",
    "    trace1 = go.Scatter(\n",
    "                        x = df_genero['Date'],\n",
    "                        y = df_genero['Tournaments'],\n",
    "                        name = i,\n",
    "                        mode= 'lines',\n",
    "                        marker = dict(color = colores[color]))\n",
    "\n",
    "    color += 1\n",
    "    data.append(trace1)\n",
    "\n",
    "layout = dict(title = 'Tournaments of esports by year of top 3 genre',\n",
    "             xaxis= dict(title= '')\n",
    "           )\n",
    "\n",
    "fig = go.Figure(data = data, layout=layout)\n",
    "\n",
    "iplot(fig)"
   ]
  },
  {
   "cell_type": "code",
   "execution_count": 70,
   "metadata": {},
   "outputs": [
    {
     "data": {
      "application/vnd.plotly.v1+json": {
       "config": {
        "linkText": "Export to plot.ly",
        "plotlyServerURL": "https://plot.ly",
        "showLink": false
       },
       "data": [
        {
         "marker": {
          "color": "rgba(20, 112, 100, 0.8)"
         },
         "mode": "lines",
         "name": "Multiplayer Online Battle Arena",
         "type": "scatter",
         "x": [
          "2018",
          "2019",
          "2020",
          "2021",
          "2022",
          "2023"
         ],
         "y": [
          70621382.67,
          70153233.06,
          30962139.549999997,
          80514963.00999999,
          89010159.85,
          43316877.32
         ]
        },
        {
         "marker": {
          "color": "rgba(200, 65, 10, 0.8)"
         },
         "mode": "lines",
         "name": "First-Person Shooter",
         "type": "scatter",
         "x": [
          "2018",
          "2019",
          "2020",
          "2021",
          "2022",
          "2023"
         ],
         "y": [
          44009629.15,
          47589736.35,
          46566140.39,
          63926516.68,
          56210217.94,
          41595437.18
         ]
        },
        {
         "marker": {
          "color": "rgba(16, 112, 2, 0.8)"
         },
         "mode": "lines",
         "name": "Battle Royale",
         "type": "scatter",
         "x": [
          "2018",
          "2019",
          "2020",
          "2021",
          "2022",
          "2023"
         ],
         "y": [
          29201551.44,
          100154934.46,
          36276951.37,
          70933755.52,
          63075848.18,
          37334793.92
         ]
        }
       ],
       "layout": {
        "template": {
         "data": {
          "bar": [
           {
            "error_x": {
             "color": "#2a3f5f"
            },
            "error_y": {
             "color": "#2a3f5f"
            },
            "marker": {
             "line": {
              "color": "#E5ECF6",
              "width": 0.5
             },
             "pattern": {
              "fillmode": "overlay",
              "size": 10,
              "solidity": 0.2
             }
            },
            "type": "bar"
           }
          ],
          "barpolar": [
           {
            "marker": {
             "line": {
              "color": "#E5ECF6",
              "width": 0.5
             },
             "pattern": {
              "fillmode": "overlay",
              "size": 10,
              "solidity": 0.2
             }
            },
            "type": "barpolar"
           }
          ],
          "carpet": [
           {
            "aaxis": {
             "endlinecolor": "#2a3f5f",
             "gridcolor": "white",
             "linecolor": "white",
             "minorgridcolor": "white",
             "startlinecolor": "#2a3f5f"
            },
            "baxis": {
             "endlinecolor": "#2a3f5f",
             "gridcolor": "white",
             "linecolor": "white",
             "minorgridcolor": "white",
             "startlinecolor": "#2a3f5f"
            },
            "type": "carpet"
           }
          ],
          "choropleth": [
           {
            "colorbar": {
             "outlinewidth": 0,
             "ticks": ""
            },
            "type": "choropleth"
           }
          ],
          "contour": [
           {
            "colorbar": {
             "outlinewidth": 0,
             "ticks": ""
            },
            "colorscale": [
             [
              0,
              "#0d0887"
             ],
             [
              0.1111111111111111,
              "#46039f"
             ],
             [
              0.2222222222222222,
              "#7201a8"
             ],
             [
              0.3333333333333333,
              "#9c179e"
             ],
             [
              0.4444444444444444,
              "#bd3786"
             ],
             [
              0.5555555555555556,
              "#d8576b"
             ],
             [
              0.6666666666666666,
              "#ed7953"
             ],
             [
              0.7777777777777778,
              "#fb9f3a"
             ],
             [
              0.8888888888888888,
              "#fdca26"
             ],
             [
              1,
              "#f0f921"
             ]
            ],
            "type": "contour"
           }
          ],
          "contourcarpet": [
           {
            "colorbar": {
             "outlinewidth": 0,
             "ticks": ""
            },
            "type": "contourcarpet"
           }
          ],
          "heatmap": [
           {
            "colorbar": {
             "outlinewidth": 0,
             "ticks": ""
            },
            "colorscale": [
             [
              0,
              "#0d0887"
             ],
             [
              0.1111111111111111,
              "#46039f"
             ],
             [
              0.2222222222222222,
              "#7201a8"
             ],
             [
              0.3333333333333333,
              "#9c179e"
             ],
             [
              0.4444444444444444,
              "#bd3786"
             ],
             [
              0.5555555555555556,
              "#d8576b"
             ],
             [
              0.6666666666666666,
              "#ed7953"
             ],
             [
              0.7777777777777778,
              "#fb9f3a"
             ],
             [
              0.8888888888888888,
              "#fdca26"
             ],
             [
              1,
              "#f0f921"
             ]
            ],
            "type": "heatmap"
           }
          ],
          "heatmapgl": [
           {
            "colorbar": {
             "outlinewidth": 0,
             "ticks": ""
            },
            "colorscale": [
             [
              0,
              "#0d0887"
             ],
             [
              0.1111111111111111,
              "#46039f"
             ],
             [
              0.2222222222222222,
              "#7201a8"
             ],
             [
              0.3333333333333333,
              "#9c179e"
             ],
             [
              0.4444444444444444,
              "#bd3786"
             ],
             [
              0.5555555555555556,
              "#d8576b"
             ],
             [
              0.6666666666666666,
              "#ed7953"
             ],
             [
              0.7777777777777778,
              "#fb9f3a"
             ],
             [
              0.8888888888888888,
              "#fdca26"
             ],
             [
              1,
              "#f0f921"
             ]
            ],
            "type": "heatmapgl"
           }
          ],
          "histogram": [
           {
            "marker": {
             "pattern": {
              "fillmode": "overlay",
              "size": 10,
              "solidity": 0.2
             }
            },
            "type": "histogram"
           }
          ],
          "histogram2d": [
           {
            "colorbar": {
             "outlinewidth": 0,
             "ticks": ""
            },
            "colorscale": [
             [
              0,
              "#0d0887"
             ],
             [
              0.1111111111111111,
              "#46039f"
             ],
             [
              0.2222222222222222,
              "#7201a8"
             ],
             [
              0.3333333333333333,
              "#9c179e"
             ],
             [
              0.4444444444444444,
              "#bd3786"
             ],
             [
              0.5555555555555556,
              "#d8576b"
             ],
             [
              0.6666666666666666,
              "#ed7953"
             ],
             [
              0.7777777777777778,
              "#fb9f3a"
             ],
             [
              0.8888888888888888,
              "#fdca26"
             ],
             [
              1,
              "#f0f921"
             ]
            ],
            "type": "histogram2d"
           }
          ],
          "histogram2dcontour": [
           {
            "colorbar": {
             "outlinewidth": 0,
             "ticks": ""
            },
            "colorscale": [
             [
              0,
              "#0d0887"
             ],
             [
              0.1111111111111111,
              "#46039f"
             ],
             [
              0.2222222222222222,
              "#7201a8"
             ],
             [
              0.3333333333333333,
              "#9c179e"
             ],
             [
              0.4444444444444444,
              "#bd3786"
             ],
             [
              0.5555555555555556,
              "#d8576b"
             ],
             [
              0.6666666666666666,
              "#ed7953"
             ],
             [
              0.7777777777777778,
              "#fb9f3a"
             ],
             [
              0.8888888888888888,
              "#fdca26"
             ],
             [
              1,
              "#f0f921"
             ]
            ],
            "type": "histogram2dcontour"
           }
          ],
          "mesh3d": [
           {
            "colorbar": {
             "outlinewidth": 0,
             "ticks": ""
            },
            "type": "mesh3d"
           }
          ],
          "parcoords": [
           {
            "line": {
             "colorbar": {
              "outlinewidth": 0,
              "ticks": ""
             }
            },
            "type": "parcoords"
           }
          ],
          "pie": [
           {
            "automargin": true,
            "type": "pie"
           }
          ],
          "scatter": [
           {
            "fillpattern": {
             "fillmode": "overlay",
             "size": 10,
             "solidity": 0.2
            },
            "type": "scatter"
           }
          ],
          "scatter3d": [
           {
            "line": {
             "colorbar": {
              "outlinewidth": 0,
              "ticks": ""
             }
            },
            "marker": {
             "colorbar": {
              "outlinewidth": 0,
              "ticks": ""
             }
            },
            "type": "scatter3d"
           }
          ],
          "scattercarpet": [
           {
            "marker": {
             "colorbar": {
              "outlinewidth": 0,
              "ticks": ""
             }
            },
            "type": "scattercarpet"
           }
          ],
          "scattergeo": [
           {
            "marker": {
             "colorbar": {
              "outlinewidth": 0,
              "ticks": ""
             }
            },
            "type": "scattergeo"
           }
          ],
          "scattergl": [
           {
            "marker": {
             "colorbar": {
              "outlinewidth": 0,
              "ticks": ""
             }
            },
            "type": "scattergl"
           }
          ],
          "scattermapbox": [
           {
            "marker": {
             "colorbar": {
              "outlinewidth": 0,
              "ticks": ""
             }
            },
            "type": "scattermapbox"
           }
          ],
          "scatterpolar": [
           {
            "marker": {
             "colorbar": {
              "outlinewidth": 0,
              "ticks": ""
             }
            },
            "type": "scatterpolar"
           }
          ],
          "scatterpolargl": [
           {
            "marker": {
             "colorbar": {
              "outlinewidth": 0,
              "ticks": ""
             }
            },
            "type": "scatterpolargl"
           }
          ],
          "scatterternary": [
           {
            "marker": {
             "colorbar": {
              "outlinewidth": 0,
              "ticks": ""
             }
            },
            "type": "scatterternary"
           }
          ],
          "surface": [
           {
            "colorbar": {
             "outlinewidth": 0,
             "ticks": ""
            },
            "colorscale": [
             [
              0,
              "#0d0887"
             ],
             [
              0.1111111111111111,
              "#46039f"
             ],
             [
              0.2222222222222222,
              "#7201a8"
             ],
             [
              0.3333333333333333,
              "#9c179e"
             ],
             [
              0.4444444444444444,
              "#bd3786"
             ],
             [
              0.5555555555555556,
              "#d8576b"
             ],
             [
              0.6666666666666666,
              "#ed7953"
             ],
             [
              0.7777777777777778,
              "#fb9f3a"
             ],
             [
              0.8888888888888888,
              "#fdca26"
             ],
             [
              1,
              "#f0f921"
             ]
            ],
            "type": "surface"
           }
          ],
          "table": [
           {
            "cells": {
             "fill": {
              "color": "#EBF0F8"
             },
             "line": {
              "color": "white"
             }
            },
            "header": {
             "fill": {
              "color": "#C8D4E3"
             },
             "line": {
              "color": "white"
             }
            },
            "type": "table"
           }
          ]
         },
         "layout": {
          "annotationdefaults": {
           "arrowcolor": "#2a3f5f",
           "arrowhead": 0,
           "arrowwidth": 1
          },
          "autotypenumbers": "strict",
          "coloraxis": {
           "colorbar": {
            "outlinewidth": 0,
            "ticks": ""
           }
          },
          "colorscale": {
           "diverging": [
            [
             0,
             "#8e0152"
            ],
            [
             0.1,
             "#c51b7d"
            ],
            [
             0.2,
             "#de77ae"
            ],
            [
             0.3,
             "#f1b6da"
            ],
            [
             0.4,
             "#fde0ef"
            ],
            [
             0.5,
             "#f7f7f7"
            ],
            [
             0.6,
             "#e6f5d0"
            ],
            [
             0.7,
             "#b8e186"
            ],
            [
             0.8,
             "#7fbc41"
            ],
            [
             0.9,
             "#4d9221"
            ],
            [
             1,
             "#276419"
            ]
           ],
           "sequential": [
            [
             0,
             "#0d0887"
            ],
            [
             0.1111111111111111,
             "#46039f"
            ],
            [
             0.2222222222222222,
             "#7201a8"
            ],
            [
             0.3333333333333333,
             "#9c179e"
            ],
            [
             0.4444444444444444,
             "#bd3786"
            ],
            [
             0.5555555555555556,
             "#d8576b"
            ],
            [
             0.6666666666666666,
             "#ed7953"
            ],
            [
             0.7777777777777778,
             "#fb9f3a"
            ],
            [
             0.8888888888888888,
             "#fdca26"
            ],
            [
             1,
             "#f0f921"
            ]
           ],
           "sequentialminus": [
            [
             0,
             "#0d0887"
            ],
            [
             0.1111111111111111,
             "#46039f"
            ],
            [
             0.2222222222222222,
             "#7201a8"
            ],
            [
             0.3333333333333333,
             "#9c179e"
            ],
            [
             0.4444444444444444,
             "#bd3786"
            ],
            [
             0.5555555555555556,
             "#d8576b"
            ],
            [
             0.6666666666666666,
             "#ed7953"
            ],
            [
             0.7777777777777778,
             "#fb9f3a"
            ],
            [
             0.8888888888888888,
             "#fdca26"
            ],
            [
             1,
             "#f0f921"
            ]
           ]
          },
          "colorway": [
           "#636efa",
           "#EF553B",
           "#00cc96",
           "#ab63fa",
           "#FFA15A",
           "#19d3f3",
           "#FF6692",
           "#B6E880",
           "#FF97FF",
           "#FECB52"
          ],
          "font": {
           "color": "#2a3f5f"
          },
          "geo": {
           "bgcolor": "white",
           "lakecolor": "white",
           "landcolor": "#E5ECF6",
           "showlakes": true,
           "showland": true,
           "subunitcolor": "white"
          },
          "hoverlabel": {
           "align": "left"
          },
          "hovermode": "closest",
          "mapbox": {
           "style": "light"
          },
          "paper_bgcolor": "white",
          "plot_bgcolor": "#E5ECF6",
          "polar": {
           "angularaxis": {
            "gridcolor": "white",
            "linecolor": "white",
            "ticks": ""
           },
           "bgcolor": "#E5ECF6",
           "radialaxis": {
            "gridcolor": "white",
            "linecolor": "white",
            "ticks": ""
           }
          },
          "scene": {
           "xaxis": {
            "backgroundcolor": "#E5ECF6",
            "gridcolor": "white",
            "gridwidth": 2,
            "linecolor": "white",
            "showbackground": true,
            "ticks": "",
            "zerolinecolor": "white"
           },
           "yaxis": {
            "backgroundcolor": "#E5ECF6",
            "gridcolor": "white",
            "gridwidth": 2,
            "linecolor": "white",
            "showbackground": true,
            "ticks": "",
            "zerolinecolor": "white"
           },
           "zaxis": {
            "backgroundcolor": "#E5ECF6",
            "gridcolor": "white",
            "gridwidth": 2,
            "linecolor": "white",
            "showbackground": true,
            "ticks": "",
            "zerolinecolor": "white"
           }
          },
          "shapedefaults": {
           "line": {
            "color": "#2a3f5f"
           }
          },
          "ternary": {
           "aaxis": {
            "gridcolor": "white",
            "linecolor": "white",
            "ticks": ""
           },
           "baxis": {
            "gridcolor": "white",
            "linecolor": "white",
            "ticks": ""
           },
           "bgcolor": "#E5ECF6",
           "caxis": {
            "gridcolor": "white",
            "linecolor": "white",
            "ticks": ""
           }
          },
          "title": {
           "x": 0.05
          },
          "xaxis": {
           "automargin": true,
           "gridcolor": "white",
           "linecolor": "white",
           "ticks": "",
           "title": {
            "standoff": 15
           },
           "zerolinecolor": "white",
           "zerolinewidth": 2
          },
          "yaxis": {
           "automargin": true,
           "gridcolor": "white",
           "linecolor": "white",
           "ticks": "",
           "title": {
            "standoff": 15
           },
           "zerolinecolor": "white",
           "zerolinewidth": 2
          }
         }
        },
        "title": {
         "text": "Earnings of esports by year of top 3 genre"
        },
        "xaxis": {
         "title": {
          "text": ""
         }
        }
       }
      }
     },
     "metadata": {},
     "output_type": "display_data"
    }
   ],
   "source": [
    "colores = ['rgba(20, 112, 100, 0.8)','rgba(200, 65, 10, 0.8)','rgba(16, 112, 2, 0.8)']\n",
    "data = []\n",
    "color = 0\n",
    "for i in df_hist_anual_genero_top3_period4['Genre'].unique():\n",
    "    df_genero = df_hist_anual_genero_top3_period4[['Date','Earnings','Players','Tournaments']][df_hist_anual_genero_top3_period4['Genre'] == i]\n",
    "    df_genero['Date'] = df_genero['Date'].str[:4]\n",
    "    df_genero = df_genero.groupby('Date',as_index=False).sum()\n",
    "\n",
    "    trace1 = go.Scatter(\n",
    "                        x = df_genero['Date'],\n",
    "                        y = df_genero['Earnings'],\n",
    "                        name = i,\n",
    "                        mode= 'lines',\n",
    "                        marker = dict(color = colores[color]))\n",
    "\n",
    "    color += 1\n",
    "    data.append(trace1)\n",
    "\n",
    "layout = dict(title = 'Earnings of esports by year of top 3 genre',\n",
    "             xaxis= dict(title= '')\n",
    "           )\n",
    "\n",
    "fig = go.Figure(data = data, layout=layout)\n",
    "\n",
    "iplot(fig)"
   ]
  },
  {
   "cell_type": "code",
   "execution_count": 71,
   "metadata": {},
   "outputs": [
    {
     "data": {
      "application/vnd.plotly.v1+json": {
       "config": {
        "linkText": "Export to plot.ly",
        "plotlyServerURL": "https://plot.ly",
        "showLink": false
       },
       "data": [
        {
         "marker": {
          "color": "rgba(20, 112, 100, 0.8)"
         },
         "mode": "lines",
         "name": "Multiplayer Online Battle Arena",
         "type": "scatter",
         "x": [
          "2018",
          "2019",
          "2020",
          "2021",
          "2022",
          "2023"
         ],
         "y": [
          468,
          529,
          347,
          343,
          562,
          240
         ]
        },
        {
         "marker": {
          "color": "rgba(200, 65, 10, 0.8)"
         },
         "mode": "lines",
         "name": "First-Person Shooter",
         "type": "scatter",
         "x": [
          "2018",
          "2019",
          "2020",
          "2021",
          "2022",
          "2023"
         ],
         "y": [
          1678,
          1312,
          1505,
          1627,
          1270,
          540
         ]
        },
        {
         "marker": {
          "color": "rgba(16, 112, 2, 0.8)"
         },
         "mode": "lines",
         "name": "Battle Royale",
         "type": "scatter",
         "x": [
          "2018",
          "2019",
          "2020",
          "2021",
          "2022",
          "2023"
         ],
         "y": [
          323,
          768,
          736,
          579,
          666,
          364
         ]
        }
       ],
       "layout": {
        "template": {
         "data": {
          "bar": [
           {
            "error_x": {
             "color": "#2a3f5f"
            },
            "error_y": {
             "color": "#2a3f5f"
            },
            "marker": {
             "line": {
              "color": "#E5ECF6",
              "width": 0.5
             },
             "pattern": {
              "fillmode": "overlay",
              "size": 10,
              "solidity": 0.2
             }
            },
            "type": "bar"
           }
          ],
          "barpolar": [
           {
            "marker": {
             "line": {
              "color": "#E5ECF6",
              "width": 0.5
             },
             "pattern": {
              "fillmode": "overlay",
              "size": 10,
              "solidity": 0.2
             }
            },
            "type": "barpolar"
           }
          ],
          "carpet": [
           {
            "aaxis": {
             "endlinecolor": "#2a3f5f",
             "gridcolor": "white",
             "linecolor": "white",
             "minorgridcolor": "white",
             "startlinecolor": "#2a3f5f"
            },
            "baxis": {
             "endlinecolor": "#2a3f5f",
             "gridcolor": "white",
             "linecolor": "white",
             "minorgridcolor": "white",
             "startlinecolor": "#2a3f5f"
            },
            "type": "carpet"
           }
          ],
          "choropleth": [
           {
            "colorbar": {
             "outlinewidth": 0,
             "ticks": ""
            },
            "type": "choropleth"
           }
          ],
          "contour": [
           {
            "colorbar": {
             "outlinewidth": 0,
             "ticks": ""
            },
            "colorscale": [
             [
              0,
              "#0d0887"
             ],
             [
              0.1111111111111111,
              "#46039f"
             ],
             [
              0.2222222222222222,
              "#7201a8"
             ],
             [
              0.3333333333333333,
              "#9c179e"
             ],
             [
              0.4444444444444444,
              "#bd3786"
             ],
             [
              0.5555555555555556,
              "#d8576b"
             ],
             [
              0.6666666666666666,
              "#ed7953"
             ],
             [
              0.7777777777777778,
              "#fb9f3a"
             ],
             [
              0.8888888888888888,
              "#fdca26"
             ],
             [
              1,
              "#f0f921"
             ]
            ],
            "type": "contour"
           }
          ],
          "contourcarpet": [
           {
            "colorbar": {
             "outlinewidth": 0,
             "ticks": ""
            },
            "type": "contourcarpet"
           }
          ],
          "heatmap": [
           {
            "colorbar": {
             "outlinewidth": 0,
             "ticks": ""
            },
            "colorscale": [
             [
              0,
              "#0d0887"
             ],
             [
              0.1111111111111111,
              "#46039f"
             ],
             [
              0.2222222222222222,
              "#7201a8"
             ],
             [
              0.3333333333333333,
              "#9c179e"
             ],
             [
              0.4444444444444444,
              "#bd3786"
             ],
             [
              0.5555555555555556,
              "#d8576b"
             ],
             [
              0.6666666666666666,
              "#ed7953"
             ],
             [
              0.7777777777777778,
              "#fb9f3a"
             ],
             [
              0.8888888888888888,
              "#fdca26"
             ],
             [
              1,
              "#f0f921"
             ]
            ],
            "type": "heatmap"
           }
          ],
          "heatmapgl": [
           {
            "colorbar": {
             "outlinewidth": 0,
             "ticks": ""
            },
            "colorscale": [
             [
              0,
              "#0d0887"
             ],
             [
              0.1111111111111111,
              "#46039f"
             ],
             [
              0.2222222222222222,
              "#7201a8"
             ],
             [
              0.3333333333333333,
              "#9c179e"
             ],
             [
              0.4444444444444444,
              "#bd3786"
             ],
             [
              0.5555555555555556,
              "#d8576b"
             ],
             [
              0.6666666666666666,
              "#ed7953"
             ],
             [
              0.7777777777777778,
              "#fb9f3a"
             ],
             [
              0.8888888888888888,
              "#fdca26"
             ],
             [
              1,
              "#f0f921"
             ]
            ],
            "type": "heatmapgl"
           }
          ],
          "histogram": [
           {
            "marker": {
             "pattern": {
              "fillmode": "overlay",
              "size": 10,
              "solidity": 0.2
             }
            },
            "type": "histogram"
           }
          ],
          "histogram2d": [
           {
            "colorbar": {
             "outlinewidth": 0,
             "ticks": ""
            },
            "colorscale": [
             [
              0,
              "#0d0887"
             ],
             [
              0.1111111111111111,
              "#46039f"
             ],
             [
              0.2222222222222222,
              "#7201a8"
             ],
             [
              0.3333333333333333,
              "#9c179e"
             ],
             [
              0.4444444444444444,
              "#bd3786"
             ],
             [
              0.5555555555555556,
              "#d8576b"
             ],
             [
              0.6666666666666666,
              "#ed7953"
             ],
             [
              0.7777777777777778,
              "#fb9f3a"
             ],
             [
              0.8888888888888888,
              "#fdca26"
             ],
             [
              1,
              "#f0f921"
             ]
            ],
            "type": "histogram2d"
           }
          ],
          "histogram2dcontour": [
           {
            "colorbar": {
             "outlinewidth": 0,
             "ticks": ""
            },
            "colorscale": [
             [
              0,
              "#0d0887"
             ],
             [
              0.1111111111111111,
              "#46039f"
             ],
             [
              0.2222222222222222,
              "#7201a8"
             ],
             [
              0.3333333333333333,
              "#9c179e"
             ],
             [
              0.4444444444444444,
              "#bd3786"
             ],
             [
              0.5555555555555556,
              "#d8576b"
             ],
             [
              0.6666666666666666,
              "#ed7953"
             ],
             [
              0.7777777777777778,
              "#fb9f3a"
             ],
             [
              0.8888888888888888,
              "#fdca26"
             ],
             [
              1,
              "#f0f921"
             ]
            ],
            "type": "histogram2dcontour"
           }
          ],
          "mesh3d": [
           {
            "colorbar": {
             "outlinewidth": 0,
             "ticks": ""
            },
            "type": "mesh3d"
           }
          ],
          "parcoords": [
           {
            "line": {
             "colorbar": {
              "outlinewidth": 0,
              "ticks": ""
             }
            },
            "type": "parcoords"
           }
          ],
          "pie": [
           {
            "automargin": true,
            "type": "pie"
           }
          ],
          "scatter": [
           {
            "fillpattern": {
             "fillmode": "overlay",
             "size": 10,
             "solidity": 0.2
            },
            "type": "scatter"
           }
          ],
          "scatter3d": [
           {
            "line": {
             "colorbar": {
              "outlinewidth": 0,
              "ticks": ""
             }
            },
            "marker": {
             "colorbar": {
              "outlinewidth": 0,
              "ticks": ""
             }
            },
            "type": "scatter3d"
           }
          ],
          "scattercarpet": [
           {
            "marker": {
             "colorbar": {
              "outlinewidth": 0,
              "ticks": ""
             }
            },
            "type": "scattercarpet"
           }
          ],
          "scattergeo": [
           {
            "marker": {
             "colorbar": {
              "outlinewidth": 0,
              "ticks": ""
             }
            },
            "type": "scattergeo"
           }
          ],
          "scattergl": [
           {
            "marker": {
             "colorbar": {
              "outlinewidth": 0,
              "ticks": ""
             }
            },
            "type": "scattergl"
           }
          ],
          "scattermapbox": [
           {
            "marker": {
             "colorbar": {
              "outlinewidth": 0,
              "ticks": ""
             }
            },
            "type": "scattermapbox"
           }
          ],
          "scatterpolar": [
           {
            "marker": {
             "colorbar": {
              "outlinewidth": 0,
              "ticks": ""
             }
            },
            "type": "scatterpolar"
           }
          ],
          "scatterpolargl": [
           {
            "marker": {
             "colorbar": {
              "outlinewidth": 0,
              "ticks": ""
             }
            },
            "type": "scatterpolargl"
           }
          ],
          "scatterternary": [
           {
            "marker": {
             "colorbar": {
              "outlinewidth": 0,
              "ticks": ""
             }
            },
            "type": "scatterternary"
           }
          ],
          "surface": [
           {
            "colorbar": {
             "outlinewidth": 0,
             "ticks": ""
            },
            "colorscale": [
             [
              0,
              "#0d0887"
             ],
             [
              0.1111111111111111,
              "#46039f"
             ],
             [
              0.2222222222222222,
              "#7201a8"
             ],
             [
              0.3333333333333333,
              "#9c179e"
             ],
             [
              0.4444444444444444,
              "#bd3786"
             ],
             [
              0.5555555555555556,
              "#d8576b"
             ],
             [
              0.6666666666666666,
              "#ed7953"
             ],
             [
              0.7777777777777778,
              "#fb9f3a"
             ],
             [
              0.8888888888888888,
              "#fdca26"
             ],
             [
              1,
              "#f0f921"
             ]
            ],
            "type": "surface"
           }
          ],
          "table": [
           {
            "cells": {
             "fill": {
              "color": "#EBF0F8"
             },
             "line": {
              "color": "white"
             }
            },
            "header": {
             "fill": {
              "color": "#C8D4E3"
             },
             "line": {
              "color": "white"
             }
            },
            "type": "table"
           }
          ]
         },
         "layout": {
          "annotationdefaults": {
           "arrowcolor": "#2a3f5f",
           "arrowhead": 0,
           "arrowwidth": 1
          },
          "autotypenumbers": "strict",
          "coloraxis": {
           "colorbar": {
            "outlinewidth": 0,
            "ticks": ""
           }
          },
          "colorscale": {
           "diverging": [
            [
             0,
             "#8e0152"
            ],
            [
             0.1,
             "#c51b7d"
            ],
            [
             0.2,
             "#de77ae"
            ],
            [
             0.3,
             "#f1b6da"
            ],
            [
             0.4,
             "#fde0ef"
            ],
            [
             0.5,
             "#f7f7f7"
            ],
            [
             0.6,
             "#e6f5d0"
            ],
            [
             0.7,
             "#b8e186"
            ],
            [
             0.8,
             "#7fbc41"
            ],
            [
             0.9,
             "#4d9221"
            ],
            [
             1,
             "#276419"
            ]
           ],
           "sequential": [
            [
             0,
             "#0d0887"
            ],
            [
             0.1111111111111111,
             "#46039f"
            ],
            [
             0.2222222222222222,
             "#7201a8"
            ],
            [
             0.3333333333333333,
             "#9c179e"
            ],
            [
             0.4444444444444444,
             "#bd3786"
            ],
            [
             0.5555555555555556,
             "#d8576b"
            ],
            [
             0.6666666666666666,
             "#ed7953"
            ],
            [
             0.7777777777777778,
             "#fb9f3a"
            ],
            [
             0.8888888888888888,
             "#fdca26"
            ],
            [
             1,
             "#f0f921"
            ]
           ],
           "sequentialminus": [
            [
             0,
             "#0d0887"
            ],
            [
             0.1111111111111111,
             "#46039f"
            ],
            [
             0.2222222222222222,
             "#7201a8"
            ],
            [
             0.3333333333333333,
             "#9c179e"
            ],
            [
             0.4444444444444444,
             "#bd3786"
            ],
            [
             0.5555555555555556,
             "#d8576b"
            ],
            [
             0.6666666666666666,
             "#ed7953"
            ],
            [
             0.7777777777777778,
             "#fb9f3a"
            ],
            [
             0.8888888888888888,
             "#fdca26"
            ],
            [
             1,
             "#f0f921"
            ]
           ]
          },
          "colorway": [
           "#636efa",
           "#EF553B",
           "#00cc96",
           "#ab63fa",
           "#FFA15A",
           "#19d3f3",
           "#FF6692",
           "#B6E880",
           "#FF97FF",
           "#FECB52"
          ],
          "font": {
           "color": "#2a3f5f"
          },
          "geo": {
           "bgcolor": "white",
           "lakecolor": "white",
           "landcolor": "#E5ECF6",
           "showlakes": true,
           "showland": true,
           "subunitcolor": "white"
          },
          "hoverlabel": {
           "align": "left"
          },
          "hovermode": "closest",
          "mapbox": {
           "style": "light"
          },
          "paper_bgcolor": "white",
          "plot_bgcolor": "#E5ECF6",
          "polar": {
           "angularaxis": {
            "gridcolor": "white",
            "linecolor": "white",
            "ticks": ""
           },
           "bgcolor": "#E5ECF6",
           "radialaxis": {
            "gridcolor": "white",
            "linecolor": "white",
            "ticks": ""
           }
          },
          "scene": {
           "xaxis": {
            "backgroundcolor": "#E5ECF6",
            "gridcolor": "white",
            "gridwidth": 2,
            "linecolor": "white",
            "showbackground": true,
            "ticks": "",
            "zerolinecolor": "white"
           },
           "yaxis": {
            "backgroundcolor": "#E5ECF6",
            "gridcolor": "white",
            "gridwidth": 2,
            "linecolor": "white",
            "showbackground": true,
            "ticks": "",
            "zerolinecolor": "white"
           },
           "zaxis": {
            "backgroundcolor": "#E5ECF6",
            "gridcolor": "white",
            "gridwidth": 2,
            "linecolor": "white",
            "showbackground": true,
            "ticks": "",
            "zerolinecolor": "white"
           }
          },
          "shapedefaults": {
           "line": {
            "color": "#2a3f5f"
           }
          },
          "ternary": {
           "aaxis": {
            "gridcolor": "white",
            "linecolor": "white",
            "ticks": ""
           },
           "baxis": {
            "gridcolor": "white",
            "linecolor": "white",
            "ticks": ""
           },
           "bgcolor": "#E5ECF6",
           "caxis": {
            "gridcolor": "white",
            "linecolor": "white",
            "ticks": ""
           }
          },
          "title": {
           "x": 0.05
          },
          "xaxis": {
           "automargin": true,
           "gridcolor": "white",
           "linecolor": "white",
           "ticks": "",
           "title": {
            "standoff": 15
           },
           "zerolinecolor": "white",
           "zerolinewidth": 2
          },
          "yaxis": {
           "automargin": true,
           "gridcolor": "white",
           "linecolor": "white",
           "ticks": "",
           "title": {
            "standoff": 15
           },
           "zerolinecolor": "white",
           "zerolinewidth": 2
          }
         }
        },
        "title": {
         "text": "Tournaments of esports by year of top 3 genre"
        },
        "xaxis": {
         "title": {
          "text": ""
         }
        }
       }
      }
     },
     "metadata": {},
     "output_type": "display_data"
    }
   ],
   "source": [
    "colores = ['rgba(20, 112, 100, 0.8)','rgba(200, 65, 10, 0.8)','rgba(16, 112, 2, 0.8)']\n",
    "data = []\n",
    "color = 0\n",
    "for i in df_hist_anual_genero_top3_period4['Genre'].unique():\n",
    "    df_genero = df_hist_anual_genero_top3_period4[['Date','Earnings','Players','Tournaments']][df_hist_anual_genero_top3_period4['Genre'] == i]\n",
    "    df_genero['Date'] = df_genero['Date'].str[:4]\n",
    "    df_genero = df_genero.groupby('Date',as_index=False).sum()\n",
    "\n",
    "    trace1 = go.Scatter(\n",
    "                        x = df_genero['Date'],\n",
    "                        y = df_genero['Tournaments'],\n",
    "                        name = i,\n",
    "                        mode= 'lines',\n",
    "                        marker = dict(color = colores[color]))\n",
    "\n",
    "    color += 1\n",
    "    data.append(trace1)\n",
    "\n",
    "layout = dict(title = 'Tournaments of esports by year of top 3 genre',\n",
    "             xaxis= dict(title= '')\n",
    "           )\n",
    "\n",
    "fig = go.Figure(data = data, layout=layout)\n",
    "\n",
    "iplot(fig)"
   ]
  },
  {
   "cell_type": "code",
   "execution_count": 72,
   "metadata": {},
   "outputs": [
    {
     "data": {
      "text/html": [
       "<div>\n",
       "<style scoped>\n",
       "    .dataframe tbody tr th:only-of-type {\n",
       "        vertical-align: middle;\n",
       "    }\n",
       "\n",
       "    .dataframe tbody tr th {\n",
       "        vertical-align: top;\n",
       "    }\n",
       "\n",
       "    .dataframe thead th {\n",
       "        text-align: right;\n",
       "    }\n",
       "</style>\n",
       "<table border=\"1\" class=\"dataframe\">\n",
       "  <thead>\n",
       "    <tr style=\"text-align: right;\">\n",
       "      <th></th>\n",
       "      <th>Date</th>\n",
       "      <th>Game</th>\n",
       "      <th>Earnings</th>\n",
       "      <th>Players</th>\n",
       "      <th>Tournaments</th>\n",
       "    </tr>\n",
       "  </thead>\n",
       "  <tbody>\n",
       "    <tr>\n",
       "      <th>2</th>\n",
       "      <td>1998</td>\n",
       "      <td>Quake II</td>\n",
       "      <td>56500.00</td>\n",
       "      <td>21</td>\n",
       "      <td>4</td>\n",
       "    </tr>\n",
       "    <tr>\n",
       "      <th>3</th>\n",
       "      <td>1998</td>\n",
       "      <td>QuakeWorld</td>\n",
       "      <td>45300.00</td>\n",
       "      <td>28</td>\n",
       "      <td>3</td>\n",
       "    </tr>\n",
       "    <tr>\n",
       "      <th>4</th>\n",
       "      <td>1998</td>\n",
       "      <td>StarCraft: Brood War</td>\n",
       "      <td>20000.00</td>\n",
       "      <td>8</td>\n",
       "      <td>1</td>\n",
       "    </tr>\n",
       "    <tr>\n",
       "      <th>1</th>\n",
       "      <td>1998</td>\n",
       "      <td>Command &amp; Conquer: Red Alert</td>\n",
       "      <td>15000.00</td>\n",
       "      <td>8</td>\n",
       "      <td>1</td>\n",
       "    </tr>\n",
       "    <tr>\n",
       "      <th>5</th>\n",
       "      <td>1998</td>\n",
       "      <td>Total Annihilation</td>\n",
       "      <td>15000.00</td>\n",
       "      <td>2</td>\n",
       "      <td>1</td>\n",
       "    </tr>\n",
       "    <tr>\n",
       "      <th>...</th>\n",
       "      <td>...</td>\n",
       "      <td>...</td>\n",
       "      <td>...</td>\n",
       "      <td>...</td>\n",
       "      <td>...</td>\n",
       "    </tr>\n",
       "    <tr>\n",
       "      <th>1989</th>\n",
       "      <td>2023</td>\n",
       "      <td>Quake III Arena</td>\n",
       "      <td>587.63</td>\n",
       "      <td>4</td>\n",
       "      <td>1</td>\n",
       "    </tr>\n",
       "    <tr>\n",
       "      <th>1933</th>\n",
       "      <td>2023</td>\n",
       "      <td>Beat Saber</td>\n",
       "      <td>516.50</td>\n",
       "      <td>7</td>\n",
       "      <td>1</td>\n",
       "    </tr>\n",
       "    <tr>\n",
       "      <th>1953</th>\n",
       "      <td>2023</td>\n",
       "      <td>F1 22</td>\n",
       "      <td>324.00</td>\n",
       "      <td>3</td>\n",
       "      <td>1</td>\n",
       "    </tr>\n",
       "    <tr>\n",
       "      <th>1931</th>\n",
       "      <td>2023</td>\n",
       "      <td>Artifact Classic</td>\n",
       "      <td>130.20</td>\n",
       "      <td>6</td>\n",
       "      <td>2</td>\n",
       "    </tr>\n",
       "    <tr>\n",
       "      <th>1932</th>\n",
       "      <td>2023</td>\n",
       "      <td>Battlerite</td>\n",
       "      <td>54.50</td>\n",
       "      <td>2</td>\n",
       "      <td>1</td>\n",
       "    </tr>\n",
       "  </tbody>\n",
       "</table>\n",
       "<p>2019 rows × 5 columns</p>\n",
       "</div>"
      ],
      "text/plain": [
       "      Date                          Game  Earnings  Players  Tournaments\n",
       "2     1998                      Quake II  56500.00       21            4\n",
       "3     1998                    QuakeWorld  45300.00       28            3\n",
       "4     1998          StarCraft: Brood War  20000.00        8            1\n",
       "1     1998  Command & Conquer: Red Alert  15000.00        8            1\n",
       "5     1998            Total Annihilation  15000.00        2            1\n",
       "...    ...                           ...       ...      ...          ...\n",
       "1989  2023               Quake III Arena    587.63        4            1\n",
       "1933  2023                    Beat Saber    516.50        7            1\n",
       "1953  2023                         F1 22    324.00        3            1\n",
       "1931  2023              Artifact Classic    130.20        6            2\n",
       "1932  2023                    Battlerite     54.50        2            1\n",
       "\n",
       "[2019 rows x 5 columns]"
      ]
     },
     "execution_count": 72,
     "metadata": {},
     "output_type": "execute_result"
    }
   ],
   "source": [
    "df_hist_anual_game = df_esports_hist.copy()\n",
    "df_hist_anual_game['Date'] = df_hist_anual_game['Date'].str[:4]\n",
    "df_hist_anual_game = df_hist_anual_game.groupby(['Date','Game'],as_index=False).sum()\n",
    "df_hist_anual_game.sort_values(['Date','Earnings'],ascending=[True,False],inplace=True)\n",
    "df_hist_anual_game"
   ]
  },
  {
   "cell_type": "code",
   "execution_count": 73,
   "metadata": {},
   "outputs": [
    {
     "data": {
      "text/html": [
       "<div>\n",
       "<style scoped>\n",
       "    .dataframe tbody tr th:only-of-type {\n",
       "        vertical-align: middle;\n",
       "    }\n",
       "\n",
       "    .dataframe tbody tr th {\n",
       "        vertical-align: top;\n",
       "    }\n",
       "\n",
       "    .dataframe thead th {\n",
       "        text-align: right;\n",
       "    }\n",
       "</style>\n",
       "<table border=\"1\" class=\"dataframe\">\n",
       "  <thead>\n",
       "    <tr style=\"text-align: right;\">\n",
       "      <th></th>\n",
       "      <th>Date</th>\n",
       "      <th>Game</th>\n",
       "      <th>Earnings</th>\n",
       "      <th>Players</th>\n",
       "      <th>Tournaments</th>\n",
       "    </tr>\n",
       "  </thead>\n",
       "  <tbody>\n",
       "    <tr>\n",
       "      <th>2</th>\n",
       "      <td>1998</td>\n",
       "      <td>Quake II</td>\n",
       "      <td>56500.00</td>\n",
       "      <td>21</td>\n",
       "      <td>4</td>\n",
       "    </tr>\n",
       "    <tr>\n",
       "      <th>3</th>\n",
       "      <td>1998</td>\n",
       "      <td>QuakeWorld</td>\n",
       "      <td>45300.00</td>\n",
       "      <td>28</td>\n",
       "      <td>3</td>\n",
       "    </tr>\n",
       "    <tr>\n",
       "      <th>4</th>\n",
       "      <td>1998</td>\n",
       "      <td>StarCraft: Brood War</td>\n",
       "      <td>20000.00</td>\n",
       "      <td>8</td>\n",
       "      <td>1</td>\n",
       "    </tr>\n",
       "    <tr>\n",
       "      <th>9</th>\n",
       "      <td>1999</td>\n",
       "      <td>StarCraft: Brood War</td>\n",
       "      <td>149719.12</td>\n",
       "      <td>49</td>\n",
       "      <td>11</td>\n",
       "    </tr>\n",
       "    <tr>\n",
       "      <th>6</th>\n",
       "      <td>1999</td>\n",
       "      <td>Descent 3</td>\n",
       "      <td>50000.00</td>\n",
       "      <td>1</td>\n",
       "      <td>1</td>\n",
       "    </tr>\n",
       "    <tr>\n",
       "      <th>8</th>\n",
       "      <td>1999</td>\n",
       "      <td>Quake III Arena</td>\n",
       "      <td>43200.00</td>\n",
       "      <td>18</td>\n",
       "      <td>2</td>\n",
       "    </tr>\n",
       "    <tr>\n",
       "      <th>16</th>\n",
       "      <td>2000</td>\n",
       "      <td>Quake III Arena</td>\n",
       "      <td>432522.82</td>\n",
       "      <td>176</td>\n",
       "      <td>29</td>\n",
       "    </tr>\n",
       "    <tr>\n",
       "      <th>17</th>\n",
       "      <td>2000</td>\n",
       "      <td>StarCraft: Brood War</td>\n",
       "      <td>140229.03</td>\n",
       "      <td>44</td>\n",
       "      <td>10</td>\n",
       "    </tr>\n",
       "    <tr>\n",
       "      <th>11</th>\n",
       "      <td>2000</td>\n",
       "      <td>Age of Empires II</td>\n",
       "      <td>113768.30</td>\n",
       "      <td>42</td>\n",
       "      <td>16</td>\n",
       "    </tr>\n",
       "    <tr>\n",
       "      <th>25</th>\n",
       "      <td>2001</td>\n",
       "      <td>Counter-Strike</td>\n",
       "      <td>346592.44</td>\n",
       "      <td>344</td>\n",
       "      <td>13</td>\n",
       "    </tr>\n",
       "    <tr>\n",
       "      <th>28</th>\n",
       "      <td>2001</td>\n",
       "      <td>Quake III Arena</td>\n",
       "      <td>175736.74</td>\n",
       "      <td>78</td>\n",
       "      <td>16</td>\n",
       "    </tr>\n",
       "    <tr>\n",
       "      <th>22</th>\n",
       "      <td>2001</td>\n",
       "      <td>Age of Empires II</td>\n",
       "      <td>160541.29</td>\n",
       "      <td>61</td>\n",
       "      <td>17</td>\n",
       "    </tr>\n",
       "    <tr>\n",
       "      <th>38</th>\n",
       "      <td>2002</td>\n",
       "      <td>Counter-Strike</td>\n",
       "      <td>400994.88</td>\n",
       "      <td>489</td>\n",
       "      <td>14</td>\n",
       "    </tr>\n",
       "    <tr>\n",
       "      <th>46</th>\n",
       "      <td>2002</td>\n",
       "      <td>StarCraft: Brood War</td>\n",
       "      <td>144860.35</td>\n",
       "      <td>55</td>\n",
       "      <td>10</td>\n",
       "    </tr>\n",
       "    <tr>\n",
       "      <th>43</th>\n",
       "      <td>2002</td>\n",
       "      <td>Quake III Arena</td>\n",
       "      <td>110325.52</td>\n",
       "      <td>45</td>\n",
       "      <td>6</td>\n",
       "    </tr>\n",
       "    <tr>\n",
       "      <th>56</th>\n",
       "      <td>2003</td>\n",
       "      <td>Counter-Strike</td>\n",
       "      <td>835208.29</td>\n",
       "      <td>921</td>\n",
       "      <td>63</td>\n",
       "    </tr>\n",
       "    <tr>\n",
       "      <th>69</th>\n",
       "      <td>2003</td>\n",
       "      <td>StarCraft: Brood War</td>\n",
       "      <td>299644.65</td>\n",
       "      <td>181</td>\n",
       "      <td>16</td>\n",
       "    </tr>\n",
       "    <tr>\n",
       "      <th>75</th>\n",
       "      <td>2003</td>\n",
       "      <td>WarCraft III</td>\n",
       "      <td>250081.85</td>\n",
       "      <td>152</td>\n",
       "      <td>41</td>\n",
       "    </tr>\n",
       "    <tr>\n",
       "      <th>80</th>\n",
       "      <td>2004</td>\n",
       "      <td>Counter-Strike</td>\n",
       "      <td>914789.75</td>\n",
       "      <td>1436</td>\n",
       "      <td>92</td>\n",
       "    </tr>\n",
       "    <tr>\n",
       "      <th>96</th>\n",
       "      <td>2004</td>\n",
       "      <td>StarCraft: Brood War</td>\n",
       "      <td>562022.02</td>\n",
       "      <td>159</td>\n",
       "      <td>19</td>\n",
       "    </tr>\n",
       "    <tr>\n",
       "      <th>102</th>\n",
       "      <td>2004</td>\n",
       "      <td>WarCraft III</td>\n",
       "      <td>463440.61</td>\n",
       "      <td>304</td>\n",
       "      <td>91</td>\n",
       "    </tr>\n",
       "    <tr>\n",
       "      <th>108</th>\n",
       "      <td>2005</td>\n",
       "      <td>Counter-Strike</td>\n",
       "      <td>1354441.43</td>\n",
       "      <td>1667</td>\n",
       "      <td>98</td>\n",
       "    </tr>\n",
       "    <tr>\n",
       "      <th>123</th>\n",
       "      <td>2005</td>\n",
       "      <td>Painkiller</td>\n",
       "      <td>960000.00</td>\n",
       "      <td>141</td>\n",
       "      <td>10</td>\n",
       "    </tr>\n",
       "    <tr>\n",
       "      <th>129</th>\n",
       "      <td>2005</td>\n",
       "      <td>StarCraft: Brood War</td>\n",
       "      <td>627006.19</td>\n",
       "      <td>143</td>\n",
       "      <td>30</td>\n",
       "    </tr>\n",
       "    <tr>\n",
       "      <th>145</th>\n",
       "      <td>2006</td>\n",
       "      <td>Counter-Strike</td>\n",
       "      <td>2136311.20</td>\n",
       "      <td>2120</td>\n",
       "      <td>122</td>\n",
       "    </tr>\n",
       "    <tr>\n",
       "      <th>166</th>\n",
       "      <td>2006</td>\n",
       "      <td>StarCraft: Brood War</td>\n",
       "      <td>848422.31</td>\n",
       "      <td>307</td>\n",
       "      <td>47</td>\n",
       "    </tr>\n",
       "    <tr>\n",
       "      <th>156</th>\n",
       "      <td>2006</td>\n",
       "      <td>Halo 2</td>\n",
       "      <td>618050.00</td>\n",
       "      <td>218</td>\n",
       "      <td>19</td>\n",
       "    </tr>\n",
       "    <tr>\n",
       "      <th>185</th>\n",
       "      <td>2007</td>\n",
       "      <td>Counter-Strike</td>\n",
       "      <td>1641126.20</td>\n",
       "      <td>1898</td>\n",
       "      <td>110</td>\n",
       "    </tr>\n",
       "    <tr>\n",
       "      <th>212</th>\n",
       "      <td>2007</td>\n",
       "      <td>StarCraft: Brood War</td>\n",
       "      <td>1103760.38</td>\n",
       "      <td>279</td>\n",
       "      <td>46</td>\n",
       "    </tr>\n",
       "    <tr>\n",
       "      <th>223</th>\n",
       "      <td>2007</td>\n",
       "      <td>WarCraft III</td>\n",
       "      <td>879490.75</td>\n",
       "      <td>416</td>\n",
       "      <td>145</td>\n",
       "    </tr>\n",
       "    <tr>\n",
       "      <th>236</th>\n",
       "      <td>2008</td>\n",
       "      <td>Counter-Strike</td>\n",
       "      <td>1690779.83</td>\n",
       "      <td>1729</td>\n",
       "      <td>117</td>\n",
       "    </tr>\n",
       "    <tr>\n",
       "      <th>260</th>\n",
       "      <td>2008</td>\n",
       "      <td>StarCraft: Brood War</td>\n",
       "      <td>1081476.61</td>\n",
       "      <td>389</td>\n",
       "      <td>34</td>\n",
       "    </tr>\n",
       "    <tr>\n",
       "      <th>237</th>\n",
       "      <td>2008</td>\n",
       "      <td>Counter-Strike: Source</td>\n",
       "      <td>871999.50</td>\n",
       "      <td>897</td>\n",
       "      <td>60</td>\n",
       "    </tr>\n",
       "    <tr>\n",
       "      <th>287</th>\n",
       "      <td>2009</td>\n",
       "      <td>Counter-Strike</td>\n",
       "      <td>1354652.70</td>\n",
       "      <td>1765</td>\n",
       "      <td>123</td>\n",
       "    </tr>\n",
       "    <tr>\n",
       "      <th>305</th>\n",
       "      <td>2009</td>\n",
       "      <td>StarCraft: Brood War</td>\n",
       "      <td>719717.80</td>\n",
       "      <td>249</td>\n",
       "      <td>52</td>\n",
       "    </tr>\n",
       "    <tr>\n",
       "      <th>315</th>\n",
       "      <td>2009</td>\n",
       "      <td>WarCraft III</td>\n",
       "      <td>397506.60</td>\n",
       "      <td>201</td>\n",
       "      <td>98</td>\n",
       "    </tr>\n",
       "    <tr>\n",
       "      <th>327</th>\n",
       "      <td>2010</td>\n",
       "      <td>Counter-Strike</td>\n",
       "      <td>1458931.05</td>\n",
       "      <td>1827</td>\n",
       "      <td>119</td>\n",
       "    </tr>\n",
       "    <tr>\n",
       "      <th>351</th>\n",
       "      <td>2010</td>\n",
       "      <td>StarCraft II</td>\n",
       "      <td>820839.29</td>\n",
       "      <td>558</td>\n",
       "      <td>277</td>\n",
       "    </tr>\n",
       "    <tr>\n",
       "      <th>339</th>\n",
       "      <td>2010</td>\n",
       "      <td>Halo 3</td>\n",
       "      <td>798113.79</td>\n",
       "      <td>225</td>\n",
       "      <td>8</td>\n",
       "    </tr>\n",
       "    <tr>\n",
       "      <th>401</th>\n",
       "      <td>2011</td>\n",
       "      <td>StarCraft II</td>\n",
       "      <td>3199680.74</td>\n",
       "      <td>1716</td>\n",
       "      <td>795</td>\n",
       "    </tr>\n",
       "    <tr>\n",
       "      <th>384</th>\n",
       "      <td>2011</td>\n",
       "      <td>Dota 2</td>\n",
       "      <td>1672768.08</td>\n",
       "      <td>132</td>\n",
       "      <td>7</td>\n",
       "    </tr>\n",
       "    <tr>\n",
       "      <th>379</th>\n",
       "      <td>2011</td>\n",
       "      <td>Call of Duty: Modern Warfare 3</td>\n",
       "      <td>1006015.34</td>\n",
       "      <td>48</td>\n",
       "      <td>5</td>\n",
       "    </tr>\n",
       "    <tr>\n",
       "      <th>454</th>\n",
       "      <td>2012</td>\n",
       "      <td>League of Legends</td>\n",
       "      <td>4287289.10</td>\n",
       "      <td>2367</td>\n",
       "      <td>391</td>\n",
       "    </tr>\n",
       "    <tr>\n",
       "      <th>465</th>\n",
       "      <td>2012</td>\n",
       "      <td>StarCraft II</td>\n",
       "      <td>4215299.50</td>\n",
       "      <td>2200</td>\n",
       "      <td>702</td>\n",
       "    </tr>\n",
       "    <tr>\n",
       "      <th>444</th>\n",
       "      <td>2012</td>\n",
       "      <td>Dota 2</td>\n",
       "      <td>2087094.85</td>\n",
       "      <td>665</td>\n",
       "      <td>96</td>\n",
       "    </tr>\n",
       "    <tr>\n",
       "      <th>513</th>\n",
       "      <td>2013</td>\n",
       "      <td>League of Legends</td>\n",
       "      <td>6240900.65</td>\n",
       "      <td>2865</td>\n",
       "      <td>375</td>\n",
       "    </tr>\n",
       "    <tr>\n",
       "      <th>503</th>\n",
       "      <td>2013</td>\n",
       "      <td>Dota 2</td>\n",
       "      <td>4548280.98</td>\n",
       "      <td>1283</td>\n",
       "      <td>134</td>\n",
       "    </tr>\n",
       "    <tr>\n",
       "      <th>528</th>\n",
       "      <td>2013</td>\n",
       "      <td>StarCraft II</td>\n",
       "      <td>3848829.06</td>\n",
       "      <td>1905</td>\n",
       "      <td>502</td>\n",
       "    </tr>\n",
       "    <tr>\n",
       "      <th>566</th>\n",
       "      <td>2014</td>\n",
       "      <td>Dota 2</td>\n",
       "      <td>16608180.59</td>\n",
       "      <td>1762</td>\n",
       "      <td>150</td>\n",
       "    </tr>\n",
       "    <tr>\n",
       "      <th>582</th>\n",
       "      <td>2014</td>\n",
       "      <td>League of Legends</td>\n",
       "      <td>8068170.99</td>\n",
       "      <td>4045</td>\n",
       "      <td>429</td>\n",
       "    </tr>\n",
       "    <tr>\n",
       "      <th>600</th>\n",
       "      <td>2014</td>\n",
       "      <td>StarCraft II</td>\n",
       "      <td>3473756.90</td>\n",
       "      <td>1798</td>\n",
       "      <td>611</td>\n",
       "    </tr>\n",
       "    <tr>\n",
       "      <th>649</th>\n",
       "      <td>2015</td>\n",
       "      <td>Dota 2</td>\n",
       "      <td>31036820.46</td>\n",
       "      <td>2730</td>\n",
       "      <td>227</td>\n",
       "    </tr>\n",
       "    <tr>\n",
       "      <th>669</th>\n",
       "      <td>2015</td>\n",
       "      <td>League of Legends</td>\n",
       "      <td>7719111.53</td>\n",
       "      <td>4054</td>\n",
       "      <td>311</td>\n",
       "    </tr>\n",
       "    <tr>\n",
       "      <th>644</th>\n",
       "      <td>2015</td>\n",
       "      <td>Counter-Strike: Global Offensive</td>\n",
       "      <td>6297500.42</td>\n",
       "      <td>7331</td>\n",
       "      <td>721</td>\n",
       "    </tr>\n",
       "    <tr>\n",
       "      <th>756</th>\n",
       "      <td>2016</td>\n",
       "      <td>Dota 2</td>\n",
       "      <td>37464037.33</td>\n",
       "      <td>2535</td>\n",
       "      <td>153</td>\n",
       "    </tr>\n",
       "    <tr>\n",
       "      <th>750</th>\n",
       "      <td>2016</td>\n",
       "      <td>Counter-Strike: Global Offensive</td>\n",
       "      <td>17268045.48</td>\n",
       "      <td>10518</td>\n",
       "      <td>863</td>\n",
       "    </tr>\n",
       "    <tr>\n",
       "      <th>780</th>\n",
       "      <td>2016</td>\n",
       "      <td>League of Legends</td>\n",
       "      <td>10519032.01</td>\n",
       "      <td>3155</td>\n",
       "      <td>182</td>\n",
       "    </tr>\n",
       "    <tr>\n",
       "      <th>882</th>\n",
       "      <td>2017</td>\n",
       "      <td>Dota 2</td>\n",
       "      <td>38074599.32</td>\n",
       "      <td>2666</td>\n",
       "      <td>167</td>\n",
       "    </tr>\n",
       "    <tr>\n",
       "      <th>874</th>\n",
       "      <td>2017</td>\n",
       "      <td>Counter-Strike: Global Offensive</td>\n",
       "      <td>19295990.90</td>\n",
       "      <td>11703</td>\n",
       "      <td>915</td>\n",
       "    </tr>\n",
       "    <tr>\n",
       "      <th>906</th>\n",
       "      <td>2017</td>\n",
       "      <td>League of Legends</td>\n",
       "      <td>12261870.43</td>\n",
       "      <td>3641</td>\n",
       "      <td>193</td>\n",
       "    </tr>\n",
       "  </tbody>\n",
       "</table>\n",
       "</div>"
      ],
      "text/plain": [
       "     Date                              Game    Earnings  Players  Tournaments\n",
       "2    1998                          Quake II    56500.00       21            4\n",
       "3    1998                        QuakeWorld    45300.00       28            3\n",
       "4    1998              StarCraft: Brood War    20000.00        8            1\n",
       "9    1999              StarCraft: Brood War   149719.12       49           11\n",
       "6    1999                         Descent 3    50000.00        1            1\n",
       "8    1999                   Quake III Arena    43200.00       18            2\n",
       "16   2000                   Quake III Arena   432522.82      176           29\n",
       "17   2000              StarCraft: Brood War   140229.03       44           10\n",
       "11   2000                 Age of Empires II   113768.30       42           16\n",
       "25   2001                    Counter-Strike   346592.44      344           13\n",
       "28   2001                   Quake III Arena   175736.74       78           16\n",
       "22   2001                 Age of Empires II   160541.29       61           17\n",
       "38   2002                    Counter-Strike   400994.88      489           14\n",
       "46   2002              StarCraft: Brood War   144860.35       55           10\n",
       "43   2002                   Quake III Arena   110325.52       45            6\n",
       "56   2003                    Counter-Strike   835208.29      921           63\n",
       "69   2003              StarCraft: Brood War   299644.65      181           16\n",
       "75   2003                      WarCraft III   250081.85      152           41\n",
       "80   2004                    Counter-Strike   914789.75     1436           92\n",
       "96   2004              StarCraft: Brood War   562022.02      159           19\n",
       "102  2004                      WarCraft III   463440.61      304           91\n",
       "108  2005                    Counter-Strike  1354441.43     1667           98\n",
       "123  2005                        Painkiller   960000.00      141           10\n",
       "129  2005              StarCraft: Brood War   627006.19      143           30\n",
       "145  2006                    Counter-Strike  2136311.20     2120          122\n",
       "166  2006              StarCraft: Brood War   848422.31      307           47\n",
       "156  2006                            Halo 2   618050.00      218           19\n",
       "185  2007                    Counter-Strike  1641126.20     1898          110\n",
       "212  2007              StarCraft: Brood War  1103760.38      279           46\n",
       "223  2007                      WarCraft III   879490.75      416          145\n",
       "236  2008                    Counter-Strike  1690779.83     1729          117\n",
       "260  2008              StarCraft: Brood War  1081476.61      389           34\n",
       "237  2008            Counter-Strike: Source   871999.50      897           60\n",
       "287  2009                    Counter-Strike  1354652.70     1765          123\n",
       "305  2009              StarCraft: Brood War   719717.80      249           52\n",
       "315  2009                      WarCraft III   397506.60      201           98\n",
       "327  2010                    Counter-Strike  1458931.05     1827          119\n",
       "351  2010                      StarCraft II   820839.29      558          277\n",
       "339  2010                            Halo 3   798113.79      225            8\n",
       "401  2011                      StarCraft II  3199680.74     1716          795\n",
       "384  2011                            Dota 2  1672768.08      132            7\n",
       "379  2011    Call of Duty: Modern Warfare 3  1006015.34       48            5\n",
       "454  2012                 League of Legends  4287289.10     2367          391\n",
       "465  2012                      StarCraft II  4215299.50     2200          702\n",
       "444  2012                            Dota 2  2087094.85      665           96\n",
       "513  2013                 League of Legends  6240900.65     2865          375\n",
       "503  2013                            Dota 2  4548280.98     1283          134\n",
       "528  2013                      StarCraft II  3848829.06     1905          502\n",
       "566  2014                            Dota 2 16608180.59     1762          150\n",
       "582  2014                 League of Legends  8068170.99     4045          429\n",
       "600  2014                      StarCraft II  3473756.90     1798          611\n",
       "649  2015                            Dota 2 31036820.46     2730          227\n",
       "669  2015                 League of Legends  7719111.53     4054          311\n",
       "644  2015  Counter-Strike: Global Offensive  6297500.42     7331          721\n",
       "756  2016                            Dota 2 37464037.33     2535          153\n",
       "750  2016  Counter-Strike: Global Offensive 17268045.48    10518          863\n",
       "780  2016                 League of Legends 10519032.01     3155          182\n",
       "882  2017                            Dota 2 38074599.32     2666          167\n",
       "874  2017  Counter-Strike: Global Offensive 19295990.90    11703          915\n",
       "906  2017                 League of Legends 12261870.43     3641          193"
      ]
     },
     "execution_count": 73,
     "metadata": {},
     "output_type": "execute_result"
    }
   ],
   "source": [
    "df_hist_anual_game_top3 = df_hist_anual_game.groupby('Date',sort=True).head(3)\n",
    "df_hist_anual_game_top3.head(60)"
   ]
  },
  {
   "cell_type": "code",
   "execution_count": 74,
   "metadata": {},
   "outputs": [
    {
     "data": {
      "text/html": [
       "<div>\n",
       "<style scoped>\n",
       "    .dataframe tbody tr th:only-of-type {\n",
       "        vertical-align: middle;\n",
       "    }\n",
       "\n",
       "    .dataframe tbody tr th {\n",
       "        vertical-align: top;\n",
       "    }\n",
       "\n",
       "    .dataframe thead th {\n",
       "        text-align: right;\n",
       "    }\n",
       "</style>\n",
       "<table border=\"1\" class=\"dataframe\">\n",
       "  <thead>\n",
       "    <tr style=\"text-align: right;\">\n",
       "      <th></th>\n",
       "      <th>Genre</th>\n",
       "      <th>TotalEarnings</th>\n",
       "      <th>OfflineEarnings</th>\n",
       "      <th>TotalTournaments</th>\n",
       "      <th>TotalPlayers</th>\n",
       "      <th>OfflineRatio</th>\n",
       "      <th>PlayersPerTournament</th>\n",
       "      <th>EarningsPerTournament</th>\n",
       "    </tr>\n",
       "  </thead>\n",
       "  <tbody>\n",
       "    <tr>\n",
       "      <th>5</th>\n",
       "      <td>Music / Rhythm Game</td>\n",
       "      <td>275047.90</td>\n",
       "      <td>56327.89</td>\n",
       "      <td>221</td>\n",
       "      <td>932</td>\n",
       "      <td>0.20</td>\n",
       "      <td>4.22</td>\n",
       "      <td>1244.56</td>\n",
       "    </tr>\n",
       "    <tr>\n",
       "      <th>0</th>\n",
       "      <td>Battle Royale</td>\n",
       "      <td>339977760.49</td>\n",
       "      <td>163924196.30</td>\n",
       "      <td>3453</td>\n",
       "      <td>19699</td>\n",
       "      <td>0.48</td>\n",
       "      <td>5.70</td>\n",
       "      <td>98458.66</td>\n",
       "    </tr>\n",
       "    <tr>\n",
       "      <th>7</th>\n",
       "      <td>Racing</td>\n",
       "      <td>17109276.54</td>\n",
       "      <td>9109630.86</td>\n",
       "      <td>1899</td>\n",
       "      <td>5146</td>\n",
       "      <td>0.53</td>\n",
       "      <td>2.71</td>\n",
       "      <td>9009.62</td>\n",
       "    </tr>\n",
       "    <tr>\n",
       "      <th>9</th>\n",
       "      <td>Sports</td>\n",
       "      <td>84445830.92</td>\n",
       "      <td>51386123.62</td>\n",
       "      <td>5190</td>\n",
       "      <td>8775</td>\n",
       "      <td>0.61</td>\n",
       "      <td>1.69</td>\n",
       "      <td>16270.87</td>\n",
       "    </tr>\n",
       "    <tr>\n",
       "      <th>1</th>\n",
       "      <td>Collectible Card Game</td>\n",
       "      <td>49275686.81</td>\n",
       "      <td>30465369.56</td>\n",
       "      <td>1875</td>\n",
       "      <td>5259</td>\n",
       "      <td>0.62</td>\n",
       "      <td>2.80</td>\n",
       "      <td>26280.37</td>\n",
       "    </tr>\n",
       "    <tr>\n",
       "      <th>10</th>\n",
       "      <td>Strategy</td>\n",
       "      <td>111559483.32</td>\n",
       "      <td>69127511.32</td>\n",
       "      <td>14631</td>\n",
       "      <td>13405</td>\n",
       "      <td>0.62</td>\n",
       "      <td>0.92</td>\n",
       "      <td>7624.87</td>\n",
       "    </tr>\n",
       "    <tr>\n",
       "      <th>6</th>\n",
       "      <td>Puzzle Game</td>\n",
       "      <td>97888.89</td>\n",
       "      <td>61713.85</td>\n",
       "      <td>97</td>\n",
       "      <td>256</td>\n",
       "      <td>0.63</td>\n",
       "      <td>2.64</td>\n",
       "      <td>1009.16</td>\n",
       "    </tr>\n",
       "    <tr>\n",
       "      <th>8</th>\n",
       "      <td>Role-Playing Game</td>\n",
       "      <td>12747784.09</td>\n",
       "      <td>8670595.17</td>\n",
       "      <td>310</td>\n",
       "      <td>1035</td>\n",
       "      <td>0.68</td>\n",
       "      <td>3.34</td>\n",
       "      <td>41121.88</td>\n",
       "    </tr>\n",
       "    <tr>\n",
       "      <th>3</th>\n",
       "      <td>First-Person Shooter</td>\n",
       "      <td>413559592.72</td>\n",
       "      <td>284624542.34</td>\n",
       "      <td>15743</td>\n",
       "      <td>52527</td>\n",
       "      <td>0.69</td>\n",
       "      <td>3.34</td>\n",
       "      <td>26269.43</td>\n",
       "    </tr>\n",
       "    <tr>\n",
       "      <th>11</th>\n",
       "      <td>Third-Person Shooter</td>\n",
       "      <td>6105826.38</td>\n",
       "      <td>4297071.38</td>\n",
       "      <td>300</td>\n",
       "      <td>503</td>\n",
       "      <td>0.70</td>\n",
       "      <td>1.68</td>\n",
       "      <td>20352.75</td>\n",
       "    </tr>\n",
       "    <tr>\n",
       "      <th>2</th>\n",
       "      <td>Fighting Game</td>\n",
       "      <td>31325201.82</td>\n",
       "      <td>26493059.30</td>\n",
       "      <td>10938</td>\n",
       "      <td>15612</td>\n",
       "      <td>0.85</td>\n",
       "      <td>1.43</td>\n",
       "      <td>2863.89</td>\n",
       "    </tr>\n",
       "    <tr>\n",
       "      <th>4</th>\n",
       "      <td>Multiplayer Online Battle Arena</td>\n",
       "      <td>576563909.24</td>\n",
       "      <td>505528091.58</td>\n",
       "      <td>6466</td>\n",
       "      <td>24002</td>\n",
       "      <td>0.88</td>\n",
       "      <td>3.71</td>\n",
       "      <td>89168.56</td>\n",
       "    </tr>\n",
       "  </tbody>\n",
       "</table>\n",
       "</div>"
      ],
      "text/plain": [
       "                              Genre  TotalEarnings  OfflineEarnings  \\\n",
       "5               Music / Rhythm Game      275047.90         56327.89   \n",
       "0                     Battle Royale   339977760.49     163924196.30   \n",
       "7                            Racing    17109276.54       9109630.86   \n",
       "9                            Sports    84445830.92      51386123.62   \n",
       "1             Collectible Card Game    49275686.81      30465369.56   \n",
       "10                         Strategy   111559483.32      69127511.32   \n",
       "6                       Puzzle Game       97888.89         61713.85   \n",
       "8                 Role-Playing Game    12747784.09       8670595.17   \n",
       "3              First-Person Shooter   413559592.72     284624542.34   \n",
       "11             Third-Person Shooter     6105826.38       4297071.38   \n",
       "2                     Fighting Game    31325201.82      26493059.30   \n",
       "4   Multiplayer Online Battle Arena   576563909.24     505528091.58   \n",
       "\n",
       "    TotalTournaments  TotalPlayers  OfflineRatio  PlayersPerTournament  \\\n",
       "5                221           932          0.20                  4.22   \n",
       "0               3453         19699          0.48                  5.70   \n",
       "7               1899          5146          0.53                  2.71   \n",
       "9               5190          8775          0.61                  1.69   \n",
       "1               1875          5259          0.62                  2.80   \n",
       "10             14631         13405          0.62                  0.92   \n",
       "6                 97           256          0.63                  2.64   \n",
       "8                310          1035          0.68                  3.34   \n",
       "3              15743         52527          0.69                  3.34   \n",
       "11               300           503          0.70                  1.68   \n",
       "2              10938         15612          0.85                  1.43   \n",
       "4               6466         24002          0.88                  3.71   \n",
       "\n",
       "    EarningsPerTournament  \n",
       "5                 1244.56  \n",
       "0                98458.66  \n",
       "7                 9009.62  \n",
       "9                16270.87  \n",
       "1                26280.37  \n",
       "10                7624.87  \n",
       "6                 1009.16  \n",
       "8                41121.88  \n",
       "3                26269.43  \n",
       "11               20352.75  \n",
       "2                 2863.89  \n",
       "4                89168.56  "
      ]
     },
     "execution_count": 74,
     "metadata": {},
     "output_type": "execute_result"
    }
   ],
   "source": [
    "df_esports_general_offline = df_esports_general[['Genre','TotalEarnings','OfflineEarnings','TotalTournaments','TotalPlayers']].groupby('Genre',as_index=False).sum()\n",
    "df_esports_general_offline['OfflineRatio'] = df_esports_general_offline['OfflineEarnings'] / df_esports_general_offline['TotalEarnings']\n",
    "df_esports_general_offline['PlayersPerTournament'] = df_esports_general_offline['TotalPlayers'] / df_esports_general_offline['TotalTournaments']\n",
    "df_esports_general_offline['EarningsPerTournament'] = df_esports_general_offline['TotalEarnings'] / df_esports_general_offline['TotalTournaments']\n",
    "df_esports_general_offline.sort_values('OfflineRatio')"
   ]
  },
  {
   "cell_type": "code",
   "execution_count": 75,
   "metadata": {},
   "outputs": [
    {
     "data": {
      "image/png": "[encoded data removed]",
      "text/plain": [
       "<Figure size 1000x1000 with 2 Axes>"
      ]
     },
     "metadata": {},
     "output_type": "display_data"
    }
   ],
   "source": [
    "plt.figure(figsize=(10,10))\n",
    "sns.heatmap(df_esports_general_offline.corr(numeric_only=True),\n",
    "            vmin=-1,\n",
    "            vmax=1,\n",
    "            cmap=sns.diverging_palette(145, 280, s=85, l=25, n=25),\n",
    "            square=True,\n",
    "            linewidths=.1,\n",
    "            annot=True);"
   ]
  },
  {
   "cell_type": "code",
   "execution_count": 76,
   "metadata": {},
   "outputs": [
    {
     "data": {
      "image/png": "[encoded data removed]",
      "text/plain": [
       "<Figure size 1000x1000 with 2 Axes>"
      ]
     },
     "metadata": {},
     "output_type": "display_data"
    }
   ],
   "source": [
    "plt.figure(figsize=(10,10))\n",
    "sns.heatmap(df_esports_general.corr(numeric_only=True),\n",
    "            vmin=-1,\n",
    "            vmax=1,\n",
    "            cmap=sns.diverging_palette(145, 280, s=85, l=25, n=25),\n",
    "            square=True,\n",
    "            linewidths=.1,\n",
    "            annot=True);"
   ]
  },
  {
   "cell_type": "code",
   "execution_count": 77,
   "metadata": {},
   "outputs": [
    {
     "data": {
      "text/html": [
       "<div>\n",
       "<style scoped>\n",
       "    .dataframe tbody tr th:only-of-type {\n",
       "        vertical-align: middle;\n",
       "    }\n",
       "\n",
       "    .dataframe tbody tr th {\n",
       "        vertical-align: top;\n",
       "    }\n",
       "\n",
       "    .dataframe thead th {\n",
       "        text-align: right;\n",
       "    }\n",
       "</style>\n",
       "<table border=\"1\" class=\"dataframe\">\n",
       "  <thead>\n",
       "    <tr style=\"text-align: right;\">\n",
       "      <th></th>\n",
       "      <th>Date</th>\n",
       "      <th>Earnings</th>\n",
       "      <th>Players</th>\n",
       "      <th>Tournaments</th>\n",
       "      <th>RatioEarningsPerTournaments</th>\n",
       "    </tr>\n",
       "  </thead>\n",
       "  <tbody>\n",
       "    <tr>\n",
       "      <th>0</th>\n",
       "      <td>1998</td>\n",
       "      <td>153800.00</td>\n",
       "      <td>68</td>\n",
       "      <td>11</td>\n",
       "      <td>13981.82</td>\n",
       "    </tr>\n",
       "    <tr>\n",
       "      <th>1</th>\n",
       "      <td>1999</td>\n",
       "      <td>285319.12</td>\n",
       "      <td>81</td>\n",
       "      <td>16</td>\n",
       "      <td>17832.44</td>\n",
       "    </tr>\n",
       "    <tr>\n",
       "      <th>2</th>\n",
       "      <td>2000</td>\n",
       "      <td>769783.48</td>\n",
       "      <td>350</td>\n",
       "      <td>65</td>\n",
       "      <td>11842.82</td>\n",
       "    </tr>\n",
       "    <tr>\n",
       "      <th>3</th>\n",
       "      <td>2001</td>\n",
       "      <td>940232.48</td>\n",
       "      <td>589</td>\n",
       "      <td>65</td>\n",
       "      <td>14465.12</td>\n",
       "    </tr>\n",
       "    <tr>\n",
       "      <th>4</th>\n",
       "      <td>2002</td>\n",
       "      <td>1037355.15</td>\n",
       "      <td>815</td>\n",
       "      <td>87</td>\n",
       "      <td>11923.62</td>\n",
       "    </tr>\n",
       "    <tr>\n",
       "      <th>5</th>\n",
       "      <td>2003</td>\n",
       "      <td>1950276.28</td>\n",
       "      <td>1599</td>\n",
       "      <td>203</td>\n",
       "      <td>9607.27</td>\n",
       "    </tr>\n",
       "    <tr>\n",
       "      <th>6</th>\n",
       "      <td>2004</td>\n",
       "      <td>3068007.25</td>\n",
       "      <td>2603</td>\n",
       "      <td>299</td>\n",
       "      <td>10260.89</td>\n",
       "    </tr>\n",
       "    <tr>\n",
       "      <th>7</th>\n",
       "      <td>2005</td>\n",
       "      <td>4405554.68</td>\n",
       "      <td>2987</td>\n",
       "      <td>383</td>\n",
       "      <td>11502.75</td>\n",
       "    </tr>\n",
       "    <tr>\n",
       "      <th>8</th>\n",
       "      <td>2006</td>\n",
       "      <td>5783430.51</td>\n",
       "      <td>4008</td>\n",
       "      <td>448</td>\n",
       "      <td>12909.44</td>\n",
       "    </tr>\n",
       "    <tr>\n",
       "      <th>9</th>\n",
       "      <td>2007</td>\n",
       "      <td>7599253.86</td>\n",
       "      <td>4681</td>\n",
       "      <td>566</td>\n",
       "      <td>13426.24</td>\n",
       "    </tr>\n",
       "    <tr>\n",
       "      <th>10</th>\n",
       "      <td>2008</td>\n",
       "      <td>7690218.37</td>\n",
       "      <td>4778</td>\n",
       "      <td>569</td>\n",
       "      <td>13515.32</td>\n",
       "    </tr>\n",
       "    <tr>\n",
       "      <th>11</th>\n",
       "      <td>2009</td>\n",
       "      <td>4221584.02</td>\n",
       "      <td>4968</td>\n",
       "      <td>676</td>\n",
       "      <td>6244.95</td>\n",
       "    </tr>\n",
       "    <tr>\n",
       "      <th>12</th>\n",
       "      <td>2010</td>\n",
       "      <td>6372645.01</td>\n",
       "      <td>6209</td>\n",
       "      <td>1011</td>\n",
       "      <td>6303.31</td>\n",
       "    </tr>\n",
       "    <tr>\n",
       "      <th>13</th>\n",
       "      <td>2011</td>\n",
       "      <td>10642085.89</td>\n",
       "      <td>7634</td>\n",
       "      <td>1697</td>\n",
       "      <td>6271.12</td>\n",
       "    </tr>\n",
       "    <tr>\n",
       "      <th>14</th>\n",
       "      <td>2012</td>\n",
       "      <td>14567923.05</td>\n",
       "      <td>10590</td>\n",
       "      <td>2022</td>\n",
       "      <td>7204.71</td>\n",
       "    </tr>\n",
       "    <tr>\n",
       "      <th>15</th>\n",
       "      <td>2013</td>\n",
       "      <td>22816358.67</td>\n",
       "      <td>13342</td>\n",
       "      <td>2349</td>\n",
       "      <td>9713.22</td>\n",
       "    </tr>\n",
       "    <tr>\n",
       "      <th>16</th>\n",
       "      <td>2014</td>\n",
       "      <td>38170943.91</td>\n",
       "      <td>17985</td>\n",
       "      <td>3182</td>\n",
       "      <td>11995.90</td>\n",
       "    </tr>\n",
       "    <tr>\n",
       "      <th>17</th>\n",
       "      <td>2015</td>\n",
       "      <td>68039857.28</td>\n",
       "      <td>31068</td>\n",
       "      <td>5314</td>\n",
       "      <td>12803.89</td>\n",
       "    </tr>\n",
       "    <tr>\n",
       "      <th>18</th>\n",
       "      <td>2016</td>\n",
       "      <td>99664107.21</td>\n",
       "      <td>34750</td>\n",
       "      <td>4936</td>\n",
       "      <td>20191.27</td>\n",
       "    </tr>\n",
       "    <tr>\n",
       "      <th>19</th>\n",
       "      <td>2017</td>\n",
       "      <td>119997090.87</td>\n",
       "      <td>41188</td>\n",
       "      <td>5138</td>\n",
       "      <td>23354.83</td>\n",
       "    </tr>\n",
       "    <tr>\n",
       "      <th>20</th>\n",
       "      <td>2018</td>\n",
       "      <td>171038271.90</td>\n",
       "      <td>49386</td>\n",
       "      <td>5095</td>\n",
       "      <td>33569.83</td>\n",
       "    </tr>\n",
       "    <tr>\n",
       "      <th>21</th>\n",
       "      <td>2019</td>\n",
       "      <td>254382803.88</td>\n",
       "      <td>64045</td>\n",
       "      <td>6323</td>\n",
       "      <td>40231.35</td>\n",
       "    </tr>\n",
       "    <tr>\n",
       "      <th>22</th>\n",
       "      <td>2020</td>\n",
       "      <td>147283104.89</td>\n",
       "      <td>65186</td>\n",
       "      <td>5921</td>\n",
       "      <td>24874.70</td>\n",
       "    </tr>\n",
       "    <tr>\n",
       "      <th>23</th>\n",
       "      <td>2021</td>\n",
       "      <td>256346827.90</td>\n",
       "      <td>72878</td>\n",
       "      <td>6197</td>\n",
       "      <td>41366.28</td>\n",
       "    </tr>\n",
       "    <tr>\n",
       "      <th>24</th>\n",
       "      <td>2022</td>\n",
       "      <td>256312726.33</td>\n",
       "      <td>69164</td>\n",
       "      <td>5734</td>\n",
       "      <td>44700.51</td>\n",
       "    </tr>\n",
       "    <tr>\n",
       "      <th>25</th>\n",
       "      <td>2023</td>\n",
       "      <td>157192028.96</td>\n",
       "      <td>40997</td>\n",
       "      <td>2989</td>\n",
       "      <td>52590.17</td>\n",
       "    </tr>\n",
       "  </tbody>\n",
       "</table>\n",
       "</div>"
      ],
      "text/plain": [
       "    Date     Earnings  Players  Tournaments  RatioEarningsPerTournaments\n",
       "0   1998    153800.00       68           11                     13981.82\n",
       "1   1999    285319.12       81           16                     17832.44\n",
       "2   2000    769783.48      350           65                     11842.82\n",
       "3   2001    940232.48      589           65                     14465.12\n",
       "4   2002   1037355.15      815           87                     11923.62\n",
       "5   2003   1950276.28     1599          203                      9607.27\n",
       "6   2004   3068007.25     2603          299                     10260.89\n",
       "7   2005   4405554.68     2987          383                     11502.75\n",
       "8   2006   5783430.51     4008          448                     12909.44\n",
       "9   2007   7599253.86     4681          566                     13426.24\n",
       "10  2008   7690218.37     4778          569                     13515.32\n",
       "11  2009   4221584.02     4968          676                      6244.95\n",
       "12  2010   6372645.01     6209         1011                      6303.31\n",
       "13  2011  10642085.89     7634         1697                      6271.12\n",
       "14  2012  14567923.05    10590         2022                      7204.71\n",
       "15  2013  22816358.67    13342         2349                      9713.22\n",
       "16  2014  38170943.91    17985         3182                     11995.90\n",
       "17  2015  68039857.28    31068         5314                     12803.89\n",
       "18  2016  99664107.21    34750         4936                     20191.27\n",
       "19  2017 119997090.87    41188         5138                     23354.83\n",
       "20  2018 171038271.90    49386         5095                     33569.83\n",
       "21  2019 254382803.88    64045         6323                     40231.35\n",
       "22  2020 147283104.89    65186         5921                     24874.70\n",
       "23  2021 256346827.90    72878         6197                     41366.28\n",
       "24  2022 256312726.33    69164         5734                     44700.51\n",
       "25  2023 157192028.96    40997         2989                     52590.17"
      ]
     },
     "execution_count": 77,
     "metadata": {},
     "output_type": "execute_result"
    }
   ],
   "source": [
    "df_hist_anual_ratios = df_hist_anual.copy()\n",
    "df_hist_anual_ratios['RatioEarningsPerTournaments'] = df_hist_anual_ratios['Earnings']/df_hist_anual_ratios['Tournaments']\n",
    "df_hist_anual_ratios\n"
   ]
  },
  {
   "cell_type": "code",
   "execution_count": 78,
   "metadata": {},
   "outputs": [
    {
     "data": {
      "image/png": "[encoded data removed]",
      "text/plain": [
       "<Figure size 1000x1000 with 2 Axes>"
      ]
     },
     "metadata": {},
     "output_type": "display_data"
    }
   ],
   "source": [
    "plt.figure(figsize=(10,10))\n",
    "sns.heatmap(df_hist_anual_ratios.corr(numeric_only=True),\n",
    "            vmin=-1,\n",
    "            vmax=1,\n",
    "            cmap=sns.diverging_palette(145, 280, s=85, l=25, n=25),\n",
    "            square=True,\n",
    "            linewidths=.1,\n",
    "            annot=True);"
   ]
  }
 ],
 "metadata": {
  "kernelspec": {
   "display_name": "Python 3",
   "language": "python",
   "name": "python3"
  },
  "language_info": {
   "codemirror_mode": {
    "name": "ipython",
    "version": 3
   },
   "file_extension": ".py",
   "mimetype": "text/x-python",
   "name": "python",
   "nbconvert_exporter": "python",
   "pygments_lexer": "ipython3",
   "version": "3.11.7"
  }
 },
 "nbformat": 4,
 "nbformat_minor": 2
}
